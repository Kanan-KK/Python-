{
 "cells": [
  {
   "cell_type": "code",
   "execution_count": null,
   "metadata": {},
   "outputs": [
    {
     "name": "stdout",
     "output_type": "stream",
     "text": [
      "Twinkle, twinkle, little star,\n",
      "\t    How I wonder what you are! \n",
      "\t\tUp above the world so high,   \t\t\n",
      "\t\t    Like a diamond in the sky. \n",
      "Twinkle, twinkle, little star, \n",
      "\t    How I wonder what you are\n"
     ]
    }
   ],
   "source": [
    "#1. Format Twinkle Poem\n",
    "print(\n",
    "\"\"\"Twinkle, twinkle, little star,\n",
    "\t    How I wonder what you are! \n",
    "\t\tUp above the world so high,   \t\t\n",
    "\t\t    Like a diamond in the sky. \n",
    "Twinkle, twinkle, little star, \n",
    "\t    How I wonder what you are\"\"\")"
   ]
  },
  {
   "cell_type": "code",
   "execution_count": 1,
   "metadata": {},
   "outputs": [
    {
     "name": "stdout",
     "output_type": "stream",
     "text": [
      "2025-04-01 08:34:20\n"
     ]
    }
   ],
   "source": [
    "#3. Current Datetime\n",
    "import datetime\n",
    "now=datetime.datetime.now()\n",
    "print(now.strftime(\"%Y-%m-%d %H:%M:%S\"))"
   ]
  },
  {
   "cell_type": "code",
   "execution_count": 2,
   "metadata": {},
   "outputs": [
    {
     "name": "stdout",
     "output_type": "stream",
     "text": [
      "6.911503837897546\n",
      "3.8013271108436504\n"
     ]
    }
   ],
   "source": [
    "#4. Circle Area Calculator  #circle length\n",
    "\n",
    "import math\n",
    "r=float(1.1)\n",
    "c=2*math.pi*r\n",
    "print(c)\n",
    "\n",
    "#circle area\n",
    "s=math.pi * r**2\n",
    "print(s)"
   ]
  },
  {
   "cell_type": "code",
   "execution_count": 3,
   "metadata": {},
   "outputs": [
    {
     "name": "stdout",
     "output_type": "stream",
     "text": [
      "hello world\n"
     ]
    }
   ],
   "source": [
    "#5. Reverse Full Name\n",
    "firstname=\"hello \"\n",
    "lastname=\"world\"\n",
    "print(firstname+lastname)\n",
    "\n"
   ]
  },
  {
   "cell_type": "code",
   "execution_count": 4,
   "metadata": {},
   "outputs": [
    {
     "name": "stdout",
     "output_type": "stream",
     "text": [
      "[1, 5, 62, 59, 15, 67, 62] \n",
      " [1, 5, 62, 59, 15, 67, 62]\n"
     ]
    }
   ],
   "source": [
    "#6. Tuple And List Generator\n",
    "mylist=[1,5,62,59,15,67,62]\n",
    "mytuple=list(mylist)\n",
    "print(mylist,\"\\n\",mytuple)"
   ]
  },
  {
   "cell_type": "code",
   "execution_count": 5,
   "metadata": {},
   "outputs": [
    {
     "name": "stdout",
     "output_type": "stream",
     "text": [
      "'ipynb'\n"
     ]
    }
   ],
   "source": [
    "#7.File Extension Extractor\n",
    "filename=\"ETL.ipynb\"\n",
    "f_extens=filename.split(\".\")\n",
    "print(repr(f_extens[-1]))\n"
   ]
  },
  {
   "cell_type": "code",
   "execution_count": 6,
   "metadata": {},
   "outputs": [
    {
     "name": "stdout",
     "output_type": "stream",
     "text": [
      "Red Black\n"
     ]
    }
   ],
   "source": [
    "#8.First and Last colors\n",
    "color_list = [\"Red\",\"Green\",\"White\" ,\"Black\"]\n",
    "print(color_list[0],color_list[-1])"
   ]
  },
  {
   "cell_type": "code",
   "execution_count": 7,
   "metadata": {},
   "outputs": [],
   "source": [
    "#9. Exam Schedule Formatter\n"
   ]
  },
  {
   "cell_type": "code",
   "execution_count": 8,
   "metadata": {},
   "outputs": [
    {
     "name": "stdout",
     "output_type": "stream",
     "text": [
      "615\n"
     ]
    }
   ],
   "source": [
    "#10. Number Expansion Calculator\n",
    "n=5\n",
    "n2=int(str(n)*2)\n",
    "n3=int(str(n)*3)\n",
    "print(n+n2+n3)"
   ]
  },
  {
   "cell_type": "code",
   "execution_count": 9,
   "metadata": {},
   "outputs": [
    {
     "name": "stdout",
     "output_type": "stream",
     "text": [
      "     March 2025\n",
      "Mo Tu We Th Fr Sa Su\n",
      "                1  2\n",
      " 3  4  5  6  7  8  9\n",
      "10 11 12 13 14 15 16\n",
      "17 18 19 20 21 22 23\n",
      "24 25 26 27 28 29 30\n",
      "31\n",
      "\n"
     ]
    }
   ],
   "source": [
    "#12. Montly Calendar Display\n",
    "import calendar\n",
    "month=3\n",
    "year=2025\n",
    "print(calendar.month(year,month))"
   ]
  },
  {
   "cell_type": "code",
   "execution_count": 10,
   "metadata": {},
   "outputs": [
    {
     "name": "stdout",
     "output_type": "stream",
     "text": [
      "1176\n"
     ]
    }
   ],
   "source": [
    "#14.Days Between Days\n",
    "from datetime import datetime \n",
    "date1=datetime(2020,5,13)\n",
    "date2=datetime(2023,8,2)\n",
    "datediff=(date2-date1).days\n",
    "print(datediff)\n",
    "\n"
   ]
  },
  {
   "cell_type": "code",
   "execution_count": 11,
   "metadata": {},
   "outputs": [
    {
     "name": "stdout",
     "output_type": "stream",
     "text": [
      "904.7786842338603\n"
     ]
    }
   ],
   "source": [
    "#15.\n",
    "import math\n",
    "r=6\n",
    "v=4.0/3.0 *math.pi*r**3\n",
    "print(v)"
   ]
  },
  {
   "cell_type": "code",
   "execution_count": 12,
   "metadata": {},
   "outputs": [
    {
     "name": "stdout",
     "output_type": "stream",
     "text": [
      "70\n"
     ]
    }
   ],
   "source": [
    "#16. Difference From 17\n",
    "n=52\n",
    "x=n-17\n",
    "if n<=17:\n",
    "    print(17)\n",
    "else:\n",
    "    print(2*x)\n",
    "\n"
   ]
  },
  {
   "cell_type": "code",
   "execution_count": 13,
   "metadata": {},
   "outputs": [
    {
     "name": "stdout",
     "output_type": "stream",
     "text": [
      "263 is\n"
     ]
    }
   ],
   "source": [
    "#17. Number Range Tester\n",
    "def within_1000or2000(n):\n",
    "    return(abs(1000-n)<=100 or abs(2000-n)<=100)\n",
    "num=int(263)\n",
    "if within_1000or2000:\n",
    "    print(f'{num}','is')\n",
    "else:\n",
    "    print(f'{num}' ,\"is not\")"
   ]
  },
  {
   "cell_type": "code",
   "execution_count": 14,
   "metadata": {},
   "outputs": [
    {
     "name": "stdout",
     "output_type": "stream",
     "text": [
      "16\n"
     ]
    }
   ],
   "source": [
    "#18. Triple SUM Calculator \n",
    "x=6\n",
    "y=1\n",
    "z=9\n",
    "sum1=x+y+z\n",
    "if x!=y!=z:\n",
    "    print(sum1)\n",
    "else:\n",
    "    print(sum1**3)\n"
   ]
  },
  {
   "cell_type": "code",
   "execution_count": 15,
   "metadata": {},
   "outputs": [
    {
     "name": "stdout",
     "output_type": "stream",
     "text": [
      "IScool\n"
     ]
    }
   ],
   "source": [
    "#19.Prefix \"IS\" String Modifier\n",
    "n=\"IS\"\n",
    "x=\"cool\"\n",
    "if x.startswith(\"IS\"):\n",
    "    print(x)\n",
    "else:\n",
    "    print(n+x)"
   ]
  },
  {
   "cell_type": "code",
   "execution_count": 16,
   "metadata": {},
   "outputs": [
    {
     "name": "stdout",
     "output_type": "stream",
     "text": [
      "summersummersummersummersummersummer\n"
     ]
    }
   ],
   "source": [
    "#20.String Copy Generator\n",
    "string=\"summer\"\n",
    "strlen=len(string)\n",
    "copy=(string*strlen)\n",
    "print(copy)"
   ]
  },
  {
   "cell_type": "code",
   "execution_count": 17,
   "metadata": {},
   "outputs": [
    {
     "name": "stdout",
     "output_type": "stream",
     "text": [
      "it is even \n"
     ]
    }
   ],
   "source": [
    "#21. Even or Odd Checker\n",
    "num=18\n",
    "if num % 2==0:\n",
    "    print(\"it is even \")\n",
    "else:\n",
    "    print(\"it is Odd\")\n"
   ]
  },
  {
   "cell_type": "code",
   "execution_count": 18,
   "metadata": {},
   "outputs": [
    {
     "name": "stdout",
     "output_type": "stream",
     "text": [
      "7\n"
     ]
    }
   ],
   "source": [
    "#22. Count 4 in List\n",
    "numlist=[4,1,5,4,67,78,4,9,956,4,652,85,5,4,6,6,4,8,93,4]\n",
    "counter=0\n",
    "for i in numlist:\n",
    "    if i==4:\n",
    "        counter+=1\n",
    "print(counter)\n"
   ]
  },
  {
   "cell_type": "code",
   "execution_count": 19,
   "metadata": {},
   "outputs": [
    {
     "name": "stdout",
     "output_type": "stream",
     "text": [
      "hehehehehe\n"
     ]
    }
   ],
   "source": [
    "#23. String Prefix Copies\n",
    "stringg=\"hello\"\n",
    "if len(stringg)<2:\n",
    "    print(stringg*2)\n",
    "else:\n",
    "    print(stringg[0:2]*5)"
   ]
  },
  {
   "cell_type": "code",
   "execution_count": 20,
   "metadata": {},
   "outputs": [
    {
     "name": "stdout",
     "output_type": "stream",
     "text": [
      "it is wowel\n"
     ]
    }
   ],
   "source": [
    "#24. Wowel Tester \n",
    "char=\"u\"\n",
    "sait=\"aeiou\"\n",
    "if char in sait:\n",
    "    print(\"it is wowel\")\n",
    "else:\n",
    "    print(\"it is not wowel\")"
   ]
  },
  {
   "cell_type": "code",
   "execution_count": 21,
   "metadata": {},
   "outputs": [
    {
     "name": "stdout",
     "output_type": "stream",
     "text": [
      "True\n"
     ]
    }
   ],
   "source": [
    "#25. Value Group Tester \n",
    "n=6\n",
    "mygroup=[1,6,5,4]\n",
    "if n in mygroup:\n",
    "    print(True)\n",
    "else:\n",
    "    print(False)"
   ]
  },
  {
   "cell_type": "code",
   "execution_count": 22,
   "metadata": {},
   "outputs": [
    {
     "name": "stdout",
     "output_type": "stream",
     "text": [
      "\n",
      "@@\n",
      "@@@@@\n",
      "@@@@@@@@\n",
      "@@@@@@@@@\n",
      "@@@@@@\n",
      "@@@@@\n"
     ]
    }
   ],
   "source": [
    "#26. List Histogram\n",
    "x=\"@\"\n",
    "mynum=[2,5,8,9,6,5]\n",
    "print()\n",
    "for i in mynum:\n",
    "    print(x*i)"
   ]
  },
  {
   "cell_type": "code",
   "execution_count": 23,
   "metadata": {},
   "outputs": [
    {
     "name": "stdout",
     "output_type": "stream",
     "text": [
      "152189694"
     ]
    }
   ],
   "source": [
    "#27. List to String Concatenator\n",
    "firslist=[1,5,2,1,89,6,94]\n",
    "for i in firslist:\n",
    "    print(i,end=\"\")"
   ]
  },
  {
   "cell_type": "code",
   "execution_count": 24,
   "metadata": {},
   "outputs": [
    {
     "name": "stdout",
     "output_type": "stream",
     "text": [
      "386\n",
      "462\n",
      "418\n",
      "344\n",
      "236\n",
      "566\n",
      "978\n",
      "328\n",
      "162\n",
      "758\n",
      "918\n",
      "237\n"
     ]
    }
   ],
   "source": [
    "#28. Even Numbers Until 237\n",
    "numbers = [    \n",
    "    386, 462, 47, 418, 907, 344, 236, 375, 823, 566, 597, 978, 328, 615, 953, 345, \n",
    "    399, 162, 758, 219, 918, 237, 412, 566, 826, 248, 866, 950, 626, 949, 687, 217, \n",
    "    815, 67, 104, 58, 512, 24, 892, 894, 767, 553, 81, 379, 843, 831, 445, 742, 717, \n",
    "    958,743, 527\n",
    "    ]\n",
    "\n",
    "for i in numbers:\n",
    "    if i%2==0:\n",
    "        print(i)\n",
    "    elif i==237:\n",
    "        print(i)\n",
    "        break    "
   ]
  },
  {
   "cell_type": "code",
   "execution_count": 25,
   "metadata": {},
   "outputs": [
    {
     "name": "stdout",
     "output_type": "stream",
     "text": [
      "White\n",
      "Black\n"
     ]
    }
   ],
   "source": [
    "#29. Unique Colors Finder\n",
    "\n",
    "color_list_1 = set([\"White\", \"Black\", \"Red\"])\n",
    "color_list_2 = set([\"Red\", \"Green\"])\n",
    "for i in color_list_1:\n",
    "    if i not in color_list_2:\n",
    "        print(i)"
   ]
  },
  {
   "cell_type": "code",
   "execution_count": 26,
   "metadata": {},
   "outputs": [
    {
     "name": "stdout",
     "output_type": "stream",
     "text": [
      "76.5\n"
     ]
    }
   ],
   "source": [
    "#30.Triangle Area Calculator\n",
    "a=17\n",
    "b=9\n",
    "area=0.5*a*b\n",
    "print(area)"
   ]
  },
  {
   "cell_type": "code",
   "execution_count": 37,
   "metadata": {},
   "outputs": [
    {
     "name": "stdout",
     "output_type": "stream",
     "text": [
      "25\n"
     ]
    }
   ],
   "source": [
    "#31. GCD Calculator\n",
    "x=75\n",
    "y=50\n",
    "gdc=(x,y)\n",
    "gdc=1\n",
    "if x%y==0:\n",
    "    print(y)\n",
    "for k in range(int(y/2),0,-1):\n",
    "    if x%k==0 and y%k==0:\n",
    "        gdc=k\n",
    "        break\n",
    "print(k)\n",
    "\n"
   ]
  },
  {
   "cell_type": "code",
   "execution_count": 52,
   "metadata": {},
   "outputs": [
    {
     "name": "stdout",
     "output_type": "stream",
     "text": [
      "150\n"
     ]
    }
   ],
   "source": [
    "#32. LCM Calculator\n",
    "def lcm(x,y):\n",
    "    if x>y:\n",
    "        k=x\n",
    "    else:\n",
    "        k=y\n",
    "    while True:\n",
    "        if  (k%x==0) and (k%y ==0):\n",
    "            lcm=k\n",
    "            break\n",
    "        k+=1\n",
    "    return lcm\n",
    "print(lcm(50,75))\n"
   ]
  },
  {
   "cell_type": "code",
   "execution_count": 19,
   "metadata": {},
   "outputs": [
    {
     "name": "stdout",
     "output_type": "stream",
     "text": [
      "110\n"
     ]
    }
   ],
   "source": [
    "#33.Triple Sum with Equality Rule\n",
    "def sum_three(x,y,z):\n",
    "   if x==y or x==z  or y==z:\n",
    "       sum=0\n",
    "   else:\n",
    "       sum=x+y+z   \n",
    "   return sum\n",
    "print(sum_three(96,9,5))\n",
    "\n"
   ]
  },
  {
   "cell_type": "code",
   "execution_count": 29,
   "metadata": {},
   "outputs": [
    {
     "name": "stdout",
     "output_type": "stream",
     "text": [
      "20\n"
     ]
    }
   ],
   "source": [
    "#34. Conditional Sum to 20\n",
    "x,y=6,10\n",
    "z=x+y\n",
    "if 14<z<20:\n",
    "    print(20)\n",
    "else:\n",
    "    print(z)\n"
   ]
  },
  {
   "cell_type": "code",
   "execution_count": 36,
   "metadata": {},
   "outputs": [
    {
     "name": "stdout",
     "output_type": "stream",
     "text": [
      "True\n"
     ]
    }
   ],
   "source": [
    "#35. Equality or 5 Rule Checker\n",
    "x=9\n",
    "y=4\n",
    "if x+y==9 or x-y==5 or x==y:\n",
    "    print(True) \n",
    "else:\n",
    "    print(False)\n"
   ]
  },
  {
   "cell_type": "code",
   "execution_count": 40,
   "metadata": {},
   "outputs": [
    {
     "name": "stdout",
     "output_type": "stream",
     "text": [
      "It Is integer\n"
     ]
    }
   ],
   "source": [
    "#36. Add Integers Validator\n",
    "a=652\n",
    "b=633\n",
    "if isinstance(a,int) and isinstance(b,int):\n",
    "    print(\"It Is integer\")\n",
    "else:\n",
    "    print(False)\n",
    "\n",
    "\n"
   ]
  },
  {
   "cell_type": "code",
   "execution_count": 66,
   "metadata": {},
   "outputs": [
    {
     "name": "stdout",
     "output_type": "stream",
     "text": [
      "Kənan \n",
      " 21 \n",
      " Yasamal Baku\n"
     ]
    }
   ],
   "source": [
    "#37. Personal Info Formatter\n",
    "print(\"Kənan\",\"\\n\",21,\"\\n\",\"Yasamal Baku\",)"
   ]
  },
  {
   "cell_type": "code",
   "execution_count": 71,
   "metadata": {},
   "outputs": [
    {
     "name": "stdout",
     "output_type": "stream",
     "text": [
      "49\n"
     ]
    }
   ],
   "source": [
    "#38.Expression Solver\n",
    "x,y=4,3\n",
    "z= x*x + 2*x*y + y*y\n",
    "print(z)"
   ]
  },
  {
   "cell_type": "code",
   "execution_count": 85,
   "metadata": {},
   "outputs": [
    {
     "name": "stdout",
     "output_type": "stream",
     "text": [
      "12722.792627665729\n"
     ]
    }
   ],
   "source": [
    "#39.Future Value Calculator \n",
    "amt=10000\n",
    "years=7\n",
    "rate=3.5\n",
    "value=amt*(1+(0.01 * rate))**int(years)\n",
    "print(value)"
   ]
  },
  {
   "cell_type": "code",
   "execution_count": 101,
   "metadata": {},
   "outputs": [
    {
     "name": "stdout",
     "output_type": "stream",
     "text": [
      "6.324555320336759\n"
     ]
    }
   ],
   "source": [
    "#40.Distance Between Points\n",
    "x1,y1=4,0\n",
    "x2,y2=6,6\n",
    "d=(((x2-x1)**2)+(y2-y1)**2)**0.5\n",
    "print(d)\n"
   ]
  },
  {
   "cell_type": "code",
   "execution_count": 109,
   "metadata": {},
   "outputs": [
    {
     "name": "stdout",
     "output_type": "stream",
     "text": [
      "File Exists\n"
     ]
    }
   ],
   "source": [
    "#41.File Existence Checker\n",
    "import os\n",
    "file_path=\"w3basic.ipynb\"\n",
    "if os.path.exists(file_path):\n",
    "    print(\"File Exists\")\n",
    "else:\n",
    "    print(\"Fle dosn't Exists\")\n"
   ]
  },
  {
   "cell_type": "code",
   "execution_count": 115,
   "metadata": {},
   "outputs": [
    {
     "name": "stdout",
     "output_type": "stream",
     "text": [
      "('64bit', '')\n",
      "64\n"
     ]
    }
   ],
   "source": [
    "#42. Shell Mode Detector\n",
    "#metod 1 \n",
    "import platform\n",
    "bit_vers=platform.architecture([0])\n",
    "print(bit_vers)\n",
    "#metod 2\n",
    "import struct\n",
    "print(struct.calcsize(\"P\")*8)"
   ]
  },
  {
   "cell_type": "code",
   "execution_count": 6,
   "metadata": {},
   "outputs": [
    {
     "name": "stdout",
     "output_type": "stream",
     "text": [
      "nt \n",
      " <module 'platform' from 'c:\\\\Users\\\\Asus\\\\AppData\\\\Local\\\\Programs\\\\Python\\\\Python313\\\\Lib\\\\platform.py'> \n",
      " <function release at 0x000002089F7E5E40>\n"
     ]
    }
   ],
   "source": [
    "#43. Os and Platfrom iNFO\n",
    "import os\n",
    "print(os.name,\"\\n\",platform,\"\\n\",platform.release)"
   ]
  },
  {
   "cell_type": "code",
   "execution_count": 7,
   "metadata": {},
   "outputs": [
    {
     "name": "stdout",
     "output_type": "stream",
     "text": [
      "<function getsitepackages at 0x000002089F2F3240>\n"
     ]
    }
   ],
   "source": [
    "#44. Python Site Packages Locator\n",
    "import site\n",
    "print(site.getsitepackages)"
   ]
  },
  {
   "cell_type": "code",
   "execution_count": 10,
   "metadata": {},
   "outputs": [
    {
     "data": {
      "text/plain": [
       "CompletedProcess(args=['d'], returncode=1)"
      ]
     },
     "execution_count": 10,
     "metadata": {},
     "output_type": "execute_result"
    }
   ],
   "source": [
    "#45. External Command Runner\n",
    "import subprocess\n",
    "subprocess.run([\"d\"],shell=True)"
   ]
  },
  {
   "cell_type": "code",
   "execution_count": null,
   "metadata": {},
   "outputs": [
    {
     "name": "stdout",
     "output_type": "stream",
     "text": [
      "12\n"
     ]
    }
   ],
   "source": [
    "#47. CPU Count Finder \n",
    "import multiprocessing\n",
    "cpu_count=multiprocessing.cpu_count()\n",
    "print(cpu_count)"
   ]
  },
  {
   "cell_type": "code",
   "execution_count": 18,
   "metadata": {},
   "outputs": [
    {
     "name": "stdout",
     "output_type": "stream",
     "text": [
      "256.641\n",
      "256\n"
     ]
    }
   ],
   "source": [
    "#48.  String to Numeric Parser\n",
    "n=\"256.641\"\n",
    "print(float(n))\n",
    "print(int(float(n)))\n"
   ]
  },
  {
   "cell_type": "code",
   "execution_count": null,
   "metadata": {},
   "outputs": [
    {
     "name": "stdout",
     "output_type": "stream",
     "text": [
      "*********"
     ]
    }
   ],
   "source": [
    "#50. Print Without Newline \n",
    "for i in range(1,10):\n",
    "    print(\"*\",end=\"\")\n"
   ]
  },
  {
   "cell_type": "code",
   "execution_count": null,
   "metadata": {},
   "outputs": [],
   "source": []
  }
 ],
 "metadata": {
  "kernelspec": {
   "display_name": "Python 3",
   "language": "python",
   "name": "python3"
  },
  "language_info": {
   "codemirror_mode": {
    "name": "ipython",
    "version": 3
   },
   "file_extension": ".py",
   "mimetype": "text/x-python",
   "name": "python",
   "nbconvert_exporter": "python",
   "pygments_lexer": "ipython3",
   "version": "3.13.2"
  }
 },
 "nbformat": 4,
 "nbformat_minor": 2
}
