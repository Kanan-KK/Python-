{
 "cells": [
  {
   "cell_type": "code",
   "execution_count": null,
   "id": "c02aaca5",
   "metadata": {},
   "outputs": [
    {
     "name": "stdout",
     "output_type": "stream",
     "text": [
      "salam bugun hava 20 derecedir \n",
      "men universitete gedirem\n",
      "bugun imtahanim var \n",
      "bu imtahan statistikadandir\n",
      "\n"
     ]
    }
   ],
   "source": [
    "#1.\n",
    "with open(r'python.txt') as x:\n",
    "    a=x.read()\n",
    "    print(a)"
   ]
  },
  {
   "cell_type": "code",
   "execution_count": 29,
   "id": "ace28061",
   "metadata": {},
   "outputs": [
    {
     "name": "stdout",
     "output_type": "stream",
     "text": [
      "salam bugun hava 20 derecedir \n",
      "\n",
      "men universitete gedirem\n",
      "\n"
     ]
    }
   ],
   "source": [
    "#2. \n",
    "with open(r'python.txt') as x:\n",
    "    for i,line in enumerate(x):\n",
    "        if i>=2:\n",
    "            break\n",
    "        print(line)\n",
    "        \n",
    "\n",
    "    "
   ]
  },
  {
   "cell_type": "code",
   "execution_count": 28,
   "id": "96673efc",
   "metadata": {},
   "outputs": [
    {
     "name": "stdout",
     "output_type": "stream",
     "text": [
      "29\n"
     ]
    }
   ],
   "source": [
    "#3.\n",
    "with open(r'python.txt',\"a\") as x:\n",
    "    b=x.write('ve hal hazirda python yaziram')\n",
    "    print(b)\n",
    " "
   ]
  },
  {
   "cell_type": "code",
   "execution_count": 33,
   "id": "bf9827d9",
   "metadata": {},
   "outputs": [
    {
     "name": "stdout",
     "output_type": "stream",
     "text": [
      "bu imtahan statistikadandir\n",
      "\n",
      "ve hal hazirda python yaziramve hal hazirda python yaziramve hal hazirda python yaziramve hal hazirda python yaziram\n"
     ]
    }
   ],
   "source": [
    "#4. \n",
    "n=2\n",
    "with open(r'python.txt') as x:\n",
    "    lines=x.readlines()\n",
    "    for line in lines[-n:]:\n",
    "        print(line)"
   ]
  },
  {
   "cell_type": "code",
   "execution_count": 35,
   "id": "c927ad57",
   "metadata": {},
   "outputs": [
    {
     "name": "stdout",
     "output_type": "stream",
     "text": [
      "['salam bugun hava 20 derecedir \\n', 'men universitete gedirem\\n', 'bugun imtahanim var \\n', 'bu imtahan statistikadandir\\n', 've hal hazirda python yaziramve hal hazirda python yaziramve hal hazirda python yaziramve hal hazirda python yaziram']\n"
     ]
    }
   ],
   "source": [
    "#5. \n",
    "with open(r'python.txt') as x:\n",
    "    a=x.readlines()\n",
    "    print(a)"
   ]
  },
  {
   "cell_type": "code",
   "execution_count": null,
   "id": "1fc35e51",
   "metadata": {},
   "outputs": [
    {
     "name": "stdout",
     "output_type": "stream",
     "text": [
      "['salam bugun hava 20 derecedir \\n', 'men universitete gedirem\\n', 'bugun imtahanim var \\n', 'bu imtahan statistikadandir\\n', 've hal hazirda python yaziramve hal hazirda python yaziramve hal hazirda python yaziramve hal hazirda python yaziram']\n"
     ]
    }
   ],
   "source": [
    "#7. \n",
    "with open(r'python.txt') as x:\n",
    "       bos=[] \n",
    "       for i in x:\n",
    "            bos.append(i)\n",
    "       print(bos)\n",
    "        "
   ]
  },
  {
   "cell_type": "code",
   "execution_count": null,
   "id": "69bb5077",
   "metadata": {},
   "outputs": [
    {
     "ename": "AttributeError",
     "evalue": "'builtin_function_or_method' object has no attribute 'split'",
     "output_type": "error",
     "traceback": [
      "\u001b[31m---------------------------------------------------------------------------\u001b[39m",
      "\u001b[31mAttributeError\u001b[39m                            Traceback (most recent call last)",
      "\u001b[36mCell\u001b[39m\u001b[36m \u001b[39m\u001b[32mIn[43]\u001b[39m\u001b[32m, line 5\u001b[39m\n\u001b[32m      3\u001b[39m \u001b[38;5;28;01mwith\u001b[39;00m \u001b[38;5;28mopen\u001b[39m(\u001b[33mr\u001b[39m\u001b[33m'\u001b[39m\u001b[33mpython.txt\u001b[39m\u001b[33m'\u001b[39m) \u001b[38;5;28;01mas\u001b[39;00m text:\n\u001b[32m      4\u001b[39m     x=text.read\n\u001b[32m----> \u001b[39m\u001b[32m5\u001b[39m     words=\u001b[43mx\u001b[49m\u001b[43m.\u001b[49m\u001b[43msplit\u001b[49m() \n\u001b[32m      6\u001b[39m     max_len=\u001b[38;5;28mmax\u001b[39m(\u001b[38;5;28mlen\u001b[39m(word) \u001b[38;5;28;01mfor\u001b[39;00m word \u001b[38;5;129;01min\u001b[39;00m words)\n\u001b[32m      7\u001b[39m     longest_words=[word \u001b[38;5;28;01mfor\u001b[39;00m word \u001b[38;5;129;01min\u001b[39;00m words \u001b[38;5;28;01mif\u001b[39;00m \u001b[38;5;28mlen\u001b[39m(word)==max_len] \n",
      "\u001b[31mAttributeError\u001b[39m: 'builtin_function_or_method' object has no attribute 'split'"
     ]
    }
   ],
   "source": [
    "#8. \n",
    "#??????????????????????????????????????????????????????\n",
    "       "
   ]
  },
  {
   "cell_type": "code",
   "execution_count": 51,
   "id": "c83dbbbb",
   "metadata": {},
   "outputs": [
    {
     "name": "stdout",
     "output_type": "stream",
     "text": [
      "1\n",
      "2\n",
      "3\n",
      "4\n",
      "5\n",
      "5\n"
     ]
    }
   ],
   "source": [
    "#9. \n",
    "with open('python.txt') as text:\n",
    "    lines=text.readlines()\n",
    "    count=0 \n",
    "    for i in lines:\n",
    "        count+=1\n",
    "        print(count)\n",
    "\n",
    "\n",
    "with open(r'python.txt') as text:\n",
    "    count=len(text.readlines())\n",
    "    print(count)\n",
    "\n"
   ]
  },
  {
   "cell_type": "code",
   "execution_count": 52,
   "id": "70c48bdc",
   "metadata": {},
   "outputs": [
    {
     "name": "stdout",
     "output_type": "stream",
     "text": [
      "Counter({'hal': 4, 'hazirda': 4, 'python': 4, 'yaziramve': 3, 'bugun': 2, 'salam': 1, 'hava': 1, '20': 1, 'derecedir': 1, 'men': 1, 'universitete': 1, 'gedirem': 1, 'imtahanim': 1, 'var': 1, 'bu': 1, 'imtahan': 1, 'statistikadandir': 1, 've': 1, 'yaziram': 1})\n"
     ]
    }
   ],
   "source": [
    "#10. \n",
    "from collections import Counter\n",
    "with open(r'python.txt') as text:\n",
    "    words=text.read()\n",
    "    word=words.split()\n",
    "    fre=Counter(word)\n",
    "print(fre)"
   ]
  },
  {
   "cell_type": "code",
   "execution_count": 55,
   "id": "eeb62d44",
   "metadata": {},
   "outputs": [
    {
     "name": "stdout",
     "output_type": "stream",
     "text": [
      "os.stat_result(st_mode=33206, st_ino=6192449487805204, st_dev=2803038713710685357, st_nlink=1, st_uid=0, st_gid=0, st_size=225, st_atime=1745010750, st_mtime=1745007567, st_ctime=1745006612)\n"
     ]
    }
   ],
   "source": [
    "#11. \n",
    "import os \n",
    "with open(r'python.txt') as text:\n",
    "    a=os.stat('python.txt')\n",
    "print(a)\n"
   ]
  },
  {
   "cell_type": "code",
   "execution_count": null,
   "id": "b9b27742",
   "metadata": {},
   "outputs": [
    {
     "name": "stdout",
     "output_type": "stream",
     "text": [
      "33\n"
     ]
    }
   ],
   "source": [
    "#12. \n",
    "with open(r'python.txt',\"w\") as text:\n",
    "    w=text.write(\"ve men hal hazirda 12ci sualdayam\")\n",
    "print(w)"
   ]
  },
  {
   "cell_type": "code",
   "execution_count": 58,
   "id": "08bf587e",
   "metadata": {},
   "outputs": [],
   "source": [
    "#13.\n",
    "import shutil\n",
    "shutil.copy(\"python.txt\",\"python2.txt\")\n",
    "\n",
    "import os \n",
    "os.remove(\"python2.txt\")\n"
   ]
  },
  {
   "cell_type": "code",
   "execution_count": 5,
   "id": "80ee2d58",
   "metadata": {},
   "outputs": [
    {
     "ename": "AttributeError",
     "evalue": "'list' object has no attribute 'splitlines'",
     "output_type": "error",
     "traceback": [
      "\u001b[31m---------------------------------------------------------------------------\u001b[39m",
      "\u001b[31mAttributeError\u001b[39m                            Traceback (most recent call last)",
      "\u001b[36mCell\u001b[39m\u001b[36m \u001b[39m\u001b[32mIn[5]\u001b[39m\u001b[32m, line 4\u001b[39m\n\u001b[32m      2\u001b[39m \u001b[38;5;28;01mimport\u001b[39;00m\u001b[38;5;250m \u001b[39m\u001b[34;01mrandom\u001b[39;00m \n\u001b[32m      3\u001b[39m \u001b[38;5;28;01mwith\u001b[39;00m \u001b[38;5;28mopen\u001b[39m(\u001b[33mr\u001b[39m\u001b[33m'\u001b[39m\u001b[33mpython.txt\u001b[39m\u001b[33m'\u001b[39m) \u001b[38;5;28;01mas\u001b[39;00m text:\n\u001b[32m----> \u001b[39m\u001b[32m4\u001b[39m     lines=\u001b[43mtext\u001b[49m\u001b[43m.\u001b[49m\u001b[43mreadlines\u001b[49m\u001b[43m(\u001b[49m\u001b[43m)\u001b[49m\u001b[43m.\u001b[49m\u001b[43msplitlines\u001b[49m()\n\u001b[32m      5\u001b[39m random_line=random.choice(lines)\n\u001b[32m      6\u001b[39m \u001b[38;5;28mprint\u001b[39m(random_line)\n",
      "\u001b[31mAttributeError\u001b[39m: 'list' object has no attribute 'splitlines'"
     ]
    }
   ],
   "source": [
    "#15. \n",
    "import random \n",
    "with open(r'python.txt') as text:\n",
    "    lines=text.readlines().splitlines()\n",
    "random_line=random.choice(lines)\n",
    "print(random_line)\n",
    "#???????????????????????????????????????????????"
   ]
  },
  {
   "cell_type": "code",
   "execution_count": 73,
   "id": "0e422f36",
   "metadata": {},
   "outputs": [
    {
     "name": "stdout",
     "output_type": "stream",
     "text": [
      "python.txt\n"
     ]
    }
   ],
   "source": [
    "#17. \n",
    "with open(r'python.txt') as text:\n",
    "    x='python.txt'.strip()\n",
    "    print(x)"
   ]
  },
  {
   "cell_type": "code",
   "execution_count": null,
   "metadata": {},
   "outputs": [
    {
     "name": "stdout",
     "output_type": "stream",
     "text": [
      "5\n"
     ]
    }
   ],
   "source": [
    "#18. \n",
    "with open(r'python.txt') as text:\n",
    "    x=text.read()\n",
    "    words=x.split()\n",
    "    print(len(words))"
   ]
  },
  {
   "cell_type": "code",
   "execution_count": null,
   "metadata": {},
   "outputs": [],
   "source": [
    "#19. \n",
    "#???????????????????????"
   ]
  },
  {
   "cell_type": "code",
   "execution_count": null,
   "metadata": {},
   "outputs": [],
   "source": [
    "#20. \n",
    "import os \n",
    "os.path.exists(r'd')"
   ]
  },
  {
   "cell_type": "code",
   "execution_count": 12,
   "metadata": {},
   "outputs": [
    {
     "name": "stdout",
     "output_type": "stream",
     "text": [
      "File Already Exists\n"
     ]
    }
   ],
   "source": [
    "import os\n",
    "try: \n",
    "\tif  os.path.exists(r\"C:\\Users\\Asus\\OneDrive\\Desktop\\my_python\\Data-PYTHON\\my_py_files\\Sqlqueries.sql\"):\n",
    "\t\traise FileExistsError(\"File Already Exists\")\n",
    "\tif not os.path.exists(r\"C:\\Users\\Asus\\OneDrive\\Desktop\\my_python\\Data-PYTHON\\my_py_files\\Sqlqueries.sql\"):\n",
    "\t\tos.makedirs(r\"C:\\Users\\Asus\\OneDrive\\Desktop\\my_python\\Data-PYTHON\\my_py_files\\Sqlqueries.sql\")\n",
    "\twith open(r\"C:\\Users\\Asus\\OneDrive\\Desktop\\my_python\\Data-PYTHON\\my_py_files\\Sqlqueries.sql\\Purchase.sql\",\"w\") as q1:\n",
    "\t\tq1.write(\"\"\"\n",
    "\t\tselect \n",
    "\t\tt.TABLE_SCHEMA,\n",
    "\t\tt.TABLE_NAME,\n",
    "\t\tc.COLUMN_NAME,\n",
    "\t\tc.DATA_TYPE,\n",
    "\t\tc.CHARACTER_MAXIMUM_LENGTH,\n",
    "\t\tc.IS_NULLABLE\n",
    "\tfrom \n",
    "\t\tINFORMATION_SCHEMA.TABLES t\n",
    "\tinner join\n",
    "\t\tINFORMATION_SCHEMA.COLUMNS c\n",
    "\ton \n",
    "\t\tt.TABLE_NAME=c.TABLE_NAME\n",
    "\tand \n",
    "\t\tt.TABLE_SCHEMA=c.TABLE_SCHEMA\n",
    "\twhere\n",
    "\t\tt.TABLE_SCHEMA='Purchase'\"\"\")\n",
    "except FileExistsError as e:\n",
    "\tprint(e)\n",
    "\n",
    "\n",
    "\n",
    "      \n",
    "  \n",
    "  \n"
   ]
  },
  {
   "cell_type": "code",
   "execution_count": null,
   "id": "0885c6df",
   "metadata": {},
   "outputs": [],
   "source": []
  }
 ],
 "metadata": {
  "kernelspec": {
   "display_name": "Python 3",
   "language": "python",
   "name": "python3"
  },
  "language_info": {
   "codemirror_mode": {
    "name": "ipython",
    "version": 3
   },
   "file_extension": ".py",
   "mimetype": "text/x-python",
   "name": "python",
   "nbconvert_exporter": "python",
   "pygments_lexer": "ipython3",
   "version": "3.13.2"
  }
 },
 "nbformat": 4,
 "nbformat_minor": 5
}
