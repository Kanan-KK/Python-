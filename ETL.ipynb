{
 "cells": [
  {
   "cell_type": "code",
   "execution_count": 2,
   "id": "98a164a8",
   "metadata": {},
   "outputs": [
    {
     "name": "stdout",
     "output_type": "stream",
     "text": [
      "Data successfully loaded to PostgreSQL\n"
     ]
    }
   ],
   "source": [
    "import pandas as pd\n",
    "from sqlalchemy import create_engine\n",
    "\n",
    "server = \"DESKTOP-N66DL73\\\\SQLEXPRESS\"\n",
    "database = \"AdventureWorks2022\"\n",
    "\n",
    "# SQLAlchemy engine yaradılır\n",
    "engine = create_engine(f\"mssql+pyodbc://{server}/{database}?trusted_connection=yes&driver=SQL+Server\")\n",
    "\n",
    "try:\n",
    "    # SQL sorğusu\n",
    "    query = \"\"\"\n",
    "select\t\n",
    "\tsh.SalesOrderID,\n",
    "\tsh.SalesPersonID,\n",
    "\tpep.FirstName,\n",
    "\tpep.LastName,\n",
    "\tsd.ProductID,\n",
    "\tsh.OrderDate,\n",
    "\tsh.DueDate,\n",
    "\tsh.ShipDate,\n",
    "\tsd.UnitPrice,\n",
    "\tsh.SubTotal,\n",
    "\tsh.TaxAmt\n",
    "from \n",
    "\tsales.SalesOrderHeader as sh \n",
    "join\n",
    "\tSales.SalesOrderDetail as sd\n",
    "on\n",
    "\tsh.SalesOrderID=sd.SalesOrderID\n",
    "join\n",
    "\tProduction.Product as pp\n",
    "on \n",
    "\tsd.ProductID=pp.ProductID\n",
    "join\n",
    "\tSales.SalesTerritory as st\n",
    "on\n",
    "\tsh.TerritoryID=st.TerritoryID\n",
    "join\n",
    "\tPerson.Person pep\n",
    "on\n",
    "\tpep.BusinessEntityID=sh.SalesPersonID\"\"\"  \n",
    "    # Pandas ilə sorğunu icra edirik\n",
    "    df = pd.read_sql(query, engine)\n",
    "    \n",
    "    #Transaksiyaların addımları\n",
    "    #1.firstname ve lastname sutunlarını birlsdirərək fullname adlı yeni bir sütun yaradılır\n",
    "    df['FullName'] = df['FirstName'] + ' ' + df['LastName']\n",
    "    #2. OrderDate, DueDate və ShipDate sütunlarının tipini datetime tipinə çeviririk\n",
    "    df['OrderDate'] = pd.to_datetime(df['OrderDate'])\n",
    "    df['DueDate'] = pd.to_datetime(df['DueDate'])\n",
    "    df['ShipDate'] = pd.to_datetime(df['ShipDate'])\n",
    "    #3. OrderDate sütunundan yeni bir sütun yaradılır və bu sütunun adı OrderYear olur\n",
    "    df['OrderYear'] = df['OrderDate'].dt.year\n",
    "    #4. firstname ve lastname sutunlarını birlsdirərək fullname adlı yeni bir sütun yaradılır\n",
    "    df['FullName'] = df['FirstName'] + ' ' + df['LastName']\n",
    "    #4. OrderDate sütunundan yeni bir sütun yaradılır və bu sütunun adı OrderMonth olur\n",
    "    df['OrderMonth'] = df['OrderDate'].dt.month\n",
    "    #5.Subtotalı 0.18 vurularaq ƏDV hesablanır\n",
    "    df['ƏDV']=df[\"SubTotal\"]*0.18\n",
    "    #6.Dublicate olan sətirləri silirik\n",
    "    df_unique = df.drop_duplicates()\n",
    "    #LOAD HISSESİ\n",
    "    pg_user = \"postgres\"\n",
    "    pg_password = \"karimovv1818\"\n",
    "    pg_host = \"localhost\"   \n",
    "    pg_port = \"5432\"\n",
    "    pg_database = \"mydata\"\n",
    "\n",
    "    pg_engine = create_engine(f\"postgresql://{pg_user}:{pg_password}@{pg_host}:{pg_port}/{pg_database}\")\n",
    "    #Dataframe postgre sql serverə yüklənir\n",
    "    df_unique.to_sql('sales', pg_engine, index=False, if_exists='replace')\n",
    "    print(\"Data successfully loaded to PostgreSQL\")\n",
    "except Exception as e:\n",
    "    print(\"Error:\", e)"
   ]
  },
  {
   "cell_type": "code",
   "execution_count": null,
   "id": "c1b6a4ba",
   "metadata": {},
   "outputs": [],
   "source": []
  }
 ],
 "metadata": {
  "kernelspec": {
   "display_name": "Python 3",
   "language": "python",
   "name": "python3"
  },
  "language_info": {
   "codemirror_mode": {
    "name": "ipython",
    "version": 3
   },
   "file_extension": ".py",
   "mimetype": "text/x-python",
   "name": "python",
   "nbconvert_exporter": "python",
   "pygments_lexer": "ipython3",
   "version": "3.13.2"
  }
 },
 "nbformat": 4,
 "nbformat_minor": 5
}
