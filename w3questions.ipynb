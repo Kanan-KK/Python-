{
 "cells": [
  {
   "cell_type": "code",
   "execution_count": 2,
   "metadata": {},
   "outputs": [
    {
     "name": "stdout",
     "output_type": "stream",
     "text": [
      "14\n"
     ]
    }
   ],
   "source": [
    "#1.\n",
    "print(len(\"Python Program\"))"
   ]
  },
  {
   "cell_type": "code",
   "execution_count": null,
   "metadata": {},
   "outputs": [
    {
     "name": "stdout",
     "output_type": "stream",
     "text": [
      "w3ce\n"
     ]
    }
   ],
   "source": [
    "#2"
   ]
  },
  {
   "cell_type": "code",
   "execution_count": 1,
   "metadata": {},
   "outputs": [
    {
     "name": "stdout",
     "output_type": "stream",
     "text": [
      "w3ce\n"
     ]
    }
   ],
   "source": [
    "#3\n",
    "x=\"w3resource\"\n",
    "print(x[:2]+x[-2:])\n",
    "\n"
   ]
  },
  {
   "cell_type": "code",
   "execution_count": null,
   "metadata": {},
   "outputs": [
    {
     "name": "stdout",
     "output_type": "stream",
     "text": [
      "restart\n"
     ]
    }
   ],
   "source": [
    "#4\n",
    "x=\"restart\"\n",
    "print(x.replace(\"r\",\"$\",))"
   ]
  },
  {
   "cell_type": "code",
   "execution_count": null,
   "metadata": {},
   "outputs": [
    {
     "name": "stdout",
     "output_type": "stream",
     "text": [
      "abxy\n"
     ]
    }
   ],
   "source": [
    "#5\n",
    "x=(\"abc\")\n",
    "k=(\"xyz\")\n",
    "print(r)"
   ]
  },
  {
   "cell_type": "code",
   "execution_count": 6,
   "metadata": {},
   "outputs": [
    {
     "name": "stdout",
     "output_type": "stream",
     "text": [
      "ilad\n"
     ]
    }
   ],
   "source": [
    "x=\"adil\"\n",
    "y=x[2:]\n",
    "z=x[0:2]\n",
    "print(y+z)"
   ]
  },
  {
   "cell_type": "code",
   "execution_count": 9,
   "metadata": {},
   "outputs": [
    {
     "name": "stdout",
     "output_type": "stream",
     "text": [
      "knnbn dr\n"
     ]
    }
   ],
   "source": [
    "x=\"kenan bunu eder\"\n",
    "print(x[::2])"
   ]
  },
  {
   "cell_type": "code",
   "execution_count": null,
   "metadata": {},
   "outputs": [
    {
     "name": "stdout",
     "output_type": "stream",
     "text": [
      "<class 'set'>\n"
     ]
    }
   ],
   "source": [
    "x={'the quick brown fox jumps over the lazy dog'}\n",
    "for i in x:\n",
    "    "
   ]
  },
  {
   "cell_type": "code",
   "execution_count": 9,
   "metadata": {},
   "outputs": [
    {
     "name": "stdout",
     "output_type": "stream",
     "text": [
      "1505\n",
      "1540\n",
      "1575\n",
      "1610\n",
      "1645\n",
      "1680\n",
      "1715\n",
      "1750\n",
      "1785\n",
      "1820\n",
      "1855\n",
      "1890\n",
      "1925\n",
      "1960\n",
      "1995\n",
      "2030\n",
      "2065\n",
      "2100\n",
      "2135\n",
      "2170\n",
      "2205\n",
      "2240\n",
      "2275\n",
      "2310\n",
      "2345\n",
      "2380\n",
      "2415\n",
      "2450\n",
      "2485\n",
      "2520\n",
      "2555\n",
      "2590\n",
      "2625\n",
      "2660\n",
      "2695\n"
     ]
    }
   ],
   "source": [
    "#Python Conditional Statements and loops\n",
    "# 1.  Divisible by 7 and Multiples of 5\n",
    "for i in range(1500,2701):\n",
    "    if i % 5==0 and i % 7 ==0:\n",
    "        print(i)\n",
    "\n"
   ]
  },
  {
   "cell_type": "code",
   "execution_count": null,
   "metadata": {},
   "outputs": [
    {
     "ename": "TypeError",
     "evalue": "'int' object is not iterable",
     "output_type": "error",
     "traceback": [
      "\u001b[31m---------------------------------------------------------------------------\u001b[39m",
      "\u001b[31mTypeError\u001b[39m                                 Traceback (most recent call last)",
      "\u001b[36mCell\u001b[39m\u001b[36m \u001b[39m\u001b[32mIn[22]\u001b[39m\u001b[32m, line 3\u001b[39m\n\u001b[32m      1\u001b[39m \u001b[38;5;66;03m# 2. TEMPRATURE    \u001b[39;00m\n\u001b[32m      2\u001b[39m x=\u001b[32m50\u001b[39m\n\u001b[32m----> \u001b[39m\u001b[32m3\u001b[39m \u001b[38;5;28;43;01mfor\u001b[39;49;00m\u001b[43m \u001b[49m\u001b[43mf\u001b[49m\u001b[43m \u001b[49m\u001b[38;5;129;43;01min\u001b[39;49;00m\u001b[43m \u001b[49m\u001b[43mx\u001b[49m\u001b[43m:\u001b[49m\n\u001b[32m      4\u001b[39m \u001b[43m    \u001b[49m\u001b[43mc\u001b[49m\u001b[43m=\u001b[49m\u001b[43m(\u001b[49m\u001b[43mf\u001b[49m\u001b[43m-\u001b[49m\u001b[32;43m32\u001b[39;49m\u001b[43m)\u001b[49m\u001b[43m*\u001b[49m\u001b[32;43m5\u001b[39;49m\u001b[43m \u001b[49m\u001b[43m/\u001b[49m\u001b[43m \u001b[49m\u001b[32;43m9\u001b[39;49m\n\u001b[32m      5\u001b[39m \u001b[43m    \u001b[49m\u001b[38;5;28;43;01mif\u001b[39;49;00m\u001b[43m \u001b[49m\u001b[43mc\u001b[49m\u001b[43m.\u001b[49m\u001b[43mis_integer\u001b[49m\u001b[43m(\u001b[49m\u001b[43m)\u001b[49m\u001b[43m \u001b[49m\u001b[38;5;129;43;01mand\u001b[39;49;00m\u001b[43m \u001b[49m\u001b[43mf\u001b[49m\u001b[43m \u001b[49m\u001b[43m%\u001b[49m\u001b[43m \u001b[49m\u001b[32;43m5\u001b[39;49m\u001b[43m \u001b[49m\u001b[43m==\u001b[49m\u001b[32;43m0\u001b[39;49m\u001b[43m:\u001b[49m\n",
      "\u001b[31mTypeError\u001b[39m: 'int' object is not iterable"
     ]
    }
   ],
   "source": [
    "# 2. TEMPRATURE    "
   ]
  },
  {
   "cell_type": "code",
   "execution_count": 11,
   "metadata": {},
   "outputs": [
    {
     "name": "stdout",
     "output_type": "stream",
     "text": [
      "* \n",
      "* * \n",
      "* * * \n",
      "* * * * \n",
      "* * * * * \n",
      "* * * * \n",
      "* * * \n",
      "* * \n",
      "* \n"
     ]
    }
   ],
   "source": [
    "# 4. Construct Pattern (Diamond Pattern)\n",
    "n=5\n",
    "for i in range(1,n+1):\n",
    "    star=\"* \"*i\n",
    "    print(star)\n",
    "for i in range(n-1,0,-1):\n",
    "    star=\"* \"*i\n",
    "    print(star)\n"
   ]
  },
  {
   "cell_type": "code",
   "execution_count": 12,
   "metadata": {},
   "outputs": [
    {
     "name": "stdout",
     "output_type": "stream",
     "text": [
      "0\n",
      "1\n",
      "2\n",
      "4\n",
      "5\n",
      "7\n",
      "8\n",
      "9\n"
     ]
    }
   ],
   "source": [
    "#8. Print Numbers 0 to 6 Except 3 and 6\n",
    "for i in range(0,10):\n",
    "    if i ==3 or i==6:\n",
    "        continue\n",
    "    print(i)"
   ]
  },
  {
   "cell_type": "code",
   "execution_count": null,
   "metadata": {},
   "outputs": [
    {
     "name": "stdout",
     "output_type": "stream",
     "text": [
      "letters 0\n",
      "digits 0\n"
     ]
    }
   ],
   "source": [
    "#14.Count Digits and Letters in a String\n",
    "text=[\"Python 3.2\",\"KENAN15102\"]\n",
    "letter=0\n",
    "digit=0\n",
    "for i in text:\n",
    "    for char in \n",
    "    if i.isalpha():\n",
    "        letter+=1\n",
    "    elif i.isdigit():\n",
    "        digit+=1\n",
    "print(\"letters\",letter)\n",
    "print(\"digits\",digit)"
   ]
  },
  {
   "cell_type": "code",
   "execution_count": 1,
   "metadata": {},
   "outputs": [
    {
     "name": "stdout",
     "output_type": "stream",
     "text": [
      "Invalid Password\n"
     ]
    }
   ],
   "source": [
    "#15. Pasword Validity Checker\n",
    "import re\n",
    "input_password=input(\"Ad;;\")\n",
    "p=True\n",
    "while p:\n",
    "    if len(input_password)<6 or len(input_password)>16:\n",
    "        break\n",
    "    elif not re.search(\"[a-z]\",input_password):\n",
    "        break\n",
    "    elif not re.search(\"[A-Z]\",input_password):\n",
    "        break\n",
    "    elif not re.search(\"[0-9]\",input_password):\n",
    "        break\n",
    "    elif not re.search(\"[$#@]\",input_password):\n",
    "        break\n",
    "    else:\n",
    "        print(\"Valid Password\")\n",
    "        p=False\n",
    "        break\n",
    "if p:\n",
    "    print(\"Invalid Password\")\n",
    "        \n"
   ]
  },
  {
   "cell_type": "code",
   "execution_count": null,
   "metadata": {},
   "outputs": [
    {
     "name": "stdout",
     "output_type": "stream",
     "text": [
      "50\n"
     ]
    }
   ],
   "source": [
    "#9.\n",
    "for i in range(0,50):\n",
    "    if  \n",
    "    "
   ]
  },
  {
   "cell_type": "code",
   "execution_count": null,
   "metadata": {},
   "outputs": [],
   "source": [
    "for i in range(100,400):\n",
    "    a=str(i)\n",
    "    if int(a)=0 \n",
    "#flag metodu\n"
   ]
  },
  {
   "cell_type": "code",
   "execution_count": 1,
   "metadata": {},
   "outputs": [
    {
     "name": "stdout",
     "output_type": "stream",
     "text": [
      "6397\n"
     ]
    }
   ],
   "source": [
    "#LIST\n",
    "#1. Sum Items In List\n",
    "Numbers=[5,6,4841,616,461,56,412]\n",
    "total=sum(Numbers)\n",
    "print(total)"
   ]
  },
  {
   "cell_type": "code",
   "execution_count": 4,
   "metadata": {},
   "outputs": [
    {
     "name": "stdout",
     "output_type": "stream",
     "text": [
      "5\n",
      "30\n",
      "210\n",
      "1680\n"
     ]
    }
   ],
   "source": [
    "#2. Multipy Items In List\n",
    "Numbers=[5,6,7,8]\n",
    "product=1\n",
    "for num in Numbers:\n",
    "    product*=num\n",
    "    print(product)\n"
   ]
  },
  {
   "cell_type": "code",
   "execution_count": 6,
   "metadata": {},
   "outputs": [
    {
     "name": "stdout",
     "output_type": "stream",
     "text": [
      "4841\n"
     ]
    }
   ],
   "source": [
    "#3. Get Largest Number In List\n",
    "Numbers=[5,6,4841,616,461,56,412]\n",
    "maxnum=max(Numbers)\n",
    "print(maxnum)"
   ]
  },
  {
   "cell_type": "code",
   "execution_count": 9,
   "metadata": {},
   "outputs": [
    {
     "name": "stdout",
     "output_type": "stream",
     "text": [
      "5\n"
     ]
    }
   ],
   "source": [
    "#4. Get Smallest Number in List\n",
    "Numbers=[5,6,4841,616,461,56,412]\n",
    "minnum=min(Numbers)\n",
    "print(minnum)"
   ]
  },
  {
   "cell_type": "code",
   "execution_count": 10,
   "metadata": {},
   "outputs": [
    {
     "name": "stdout",
     "output_type": "stream",
     "text": [
      "abba\n",
      "123454321\n",
      "ada\n",
      "namman\n"
     ]
    }
   ],
   "source": [
    "#5. Count Strings with Same Start and End\n",
    "listtext=(\"abba\",'123454321',\"ada\",\"khgghk\"\"iskjdbhu\",\"namman\")\n",
    "for i in listtext:\n",
    "    if len(i)>1 and i[0]==i[-1]:\n",
    "        print(i)"
   ]
  },
  {
   "cell_type": "code",
   "execution_count": 1,
   "metadata": {},
   "outputs": [
    {
     "name": "stdout",
     "output_type": "stream",
     "text": [
      "[1, 0, 13, 2, 23, 6, 4, 20, 30, 5, 123, 31, 15, 311, 166, 616, 16]\n"
     ]
    }
   ],
   "source": [
    "#7. Remove Duplicates From List\n",
    "mylist=[1,0,00,1,13,2,23,6,4,1,20,30,5,4,123,31,15,311,166,616,16]\n",
    "unique_list=list(dict.fromkeys(mylist))\n",
    "print(unique_list)"
   ]
  },
  {
   "cell_type": "code",
   "execution_count": 3,
   "metadata": {},
   "outputs": [
    {
     "name": "stdout",
     "output_type": "stream",
     "text": [
      "empty\n"
     ]
    }
   ],
   "source": [
    "#8. Check if List is Empty\n",
    "mylist1=[]\n",
    "if not mylist1:\n",
    "    print(\"empty\")\n",
    "else:\n",
    "    print(\"not null\")"
   ]
  },
  {
   "cell_type": "code",
   "execution_count": 4,
   "metadata": {},
   "outputs": [
    {
     "name": "stdout",
     "output_type": "stream",
     "text": [
      "mylistkk\n",
      "helloworld\n",
      "goodwork\n"
     ]
    }
   ],
   "source": [
    "#10. Find Words Than N\n",
    "wordslist=[\"mylistkk\",\"helloworld\",\"book\",\"iki\",\"goodwork\"]\n",
    "n=5\n",
    "for i in wordslist:\n",
    "    if len(i)>n:\n",
    "        print(i)"
   ]
  },
  {
   "cell_type": "code",
   "execution_count": 6,
   "metadata": {},
   "outputs": [
    {
     "name": "stdout",
     "output_type": "stream",
     "text": [
      "[16]\n"
     ]
    }
   ],
   "source": [
    "#11. Check Common Member Between Two List\n",
    "list1=[1,13,596,694,16]\n",
    "list2=[2,45,8455,841,16]\n",
    "intersection=list(set(list1)&(set(list2)))\n",
    "print(intersection)\n",
    "\n"
   ]
  },
  {
   "cell_type": "code",
   "execution_count": null,
   "metadata": {},
   "outputs": [
    {
     "ename": "TypeError",
     "evalue": "list indices must be integers or slices, not tuple",
     "output_type": "error",
     "traceback": [
      "\u001b[31m---------------------------------------------------------------------------\u001b[39m",
      "\u001b[31mTypeError\u001b[39m                                 Traceback (most recent call last)",
      "\u001b[36mCell\u001b[39m\u001b[36m \u001b[39m\u001b[32mIn[1]\u001b[39m\u001b[32m, line 3\u001b[39m\n\u001b[32m      1\u001b[39m \u001b[38;5;66;03m#12. Remove Specific Elements from List\u001b[39;00m\n\u001b[32m      2\u001b[39m Sample_List =[\u001b[33m'\u001b[39m\u001b[33mRed\u001b[39m\u001b[33m'\u001b[39m, \u001b[33m'\u001b[39m\u001b[33mGreen\u001b[39m\u001b[33m'\u001b[39m, \u001b[33m'\u001b[39m\u001b[33mWhite\u001b[39m\u001b[33m'\u001b[39m, \u001b[33m'\u001b[39m\u001b[33mBlack\u001b[39m\u001b[33m'\u001b[39m, \u001b[33m'\u001b[39m\u001b[33mPink\u001b[39m\u001b[33m'\u001b[39m, \u001b[33m'\u001b[39m\u001b[33mYellow\u001b[39m\u001b[33m'\u001b[39m]\n\u001b[32m----> \u001b[39m\u001b[32m3\u001b[39m \u001b[38;5;28;01mdel\u001b[39;00m \u001b[43mSample_List\u001b[49m\u001b[43m[\u001b[49m\u001b[32;43m0\u001b[39;49m\u001b[43m,\u001b[49m\u001b[32;43m4\u001b[39;49m\u001b[43m,\u001b[49m\u001b[32;43m5\u001b[39;49m\u001b[43m]\u001b[49m\n\u001b[32m      4\u001b[39m \u001b[38;5;28mprint\u001b[39m(Sample_List)\n",
      "\u001b[31mTypeError\u001b[39m: list indices must be integers or slices, not tuple"
     ]
    }
   ],
   "source": [
    "#12. Remove Specific Elements from List\n",
    "Sample_List =['Red', 'Green', 'White', 'Black', 'Pink', 'Yellow']\n",
    "for i in Sample_List:\n",
    "    if i==\"Green\":\n",
    "        rem"
   ]
  },
  {
   "cell_type": "code",
   "execution_count": 13,
   "metadata": {},
   "outputs": [
    {
     "name": "stdout",
     "output_type": "stream",
     "text": [
      "[841, 261, 73, 59, 13, 25]\n"
     ]
    }
   ],
   "source": [
    "#14. Remove Even Numbers from List\n",
    "number1=[22,654,841,261,73,96,59,13,25,26,18]\n",
    "notevenumber=[x for x in number1 if x %2!=0]\n",
    "print(notevenumber)"
   ]
  },
  {
   "cell_type": "code",
   "execution_count": null,
   "metadata": {},
   "outputs": [],
   "source": [
    "#17. Check If All Numbers Are Prime\n",
    "def hello_knn(ad):\n",
    "    print(f\"salam,{ad}!\")"
   ]
  },
  {
   "cell_type": "code",
   "execution_count": 14,
   "metadata": {},
   "outputs": [
    {
     "name": "stdout",
     "output_type": "stream",
     "text": [
      "[22, 654, 841, 261, 73, 96, 59, 13, 25, 26, 18] <class 'str'>\n"
     ]
    }
   ],
   "source": [
    "#21. Convert List To String\n",
    "listint=[22,654,841,261,73,96,59,13,25,26,18]\n",
    "str1=str(listint)\n",
    "print(str1,type(str1))"
   ]
  },
  {
   "cell_type": "code",
   "execution_count": 17,
   "metadata": {},
   "outputs": [
    {
     "name": "stdout",
     "output_type": "stream",
     "text": [
      "[22, 654, 841, 261, 73, 96, 59, 13, 25, 26, 18, ['Red', 'Green', 'White', 'Black', 'Pink', 'Yellow']]\n"
     ]
    }
   ],
   "source": [
    "#24.Append One List to Another\n",
    "listint=[22,654,841,261,73,96,59,13,25,26,18]\n",
    "Sample_List =['Red', 'Green', 'White', 'Black', 'Pink', 'Yellow']\n",
    "listint.append(Sample_List)\n",
    "print(listint)"
   ]
  },
  {
   "cell_type": "code",
   "execution_count": 35,
   "metadata": {},
   "outputs": [
    {
     "name": "stdout",
     "output_type": "stream",
     "text": [
      "59\n",
      "[18, 22, 22]\n",
      "[73, 96]\n",
      "7\n"
     ]
    }
   ],
   "source": [
    "#25.  Select Random Item from List\n",
    "#1)Təsadüfi bir element seçmək \n",
    "#random.choice\n",
    "\n",
    "import random\n",
    "listint=[22,654,841,261,73,96,96,59,13,25,26,18,59]\n",
    "random_item=random.choice(listint)\n",
    "print(random_item)\n",
    "\n",
    "#2)  Təsadüfi bir və ya bir neçə element seçmək (təkrarla)\n",
    "#random.choices\n",
    "import random\n",
    "listint=[22,654,841,261,73,96,59,13,25,26,18]\n",
    "random_item=random.choices(listint,k=3)\n",
    "print(random_item)\n",
    "\n",
    "#3)  Təsadüfi unikal elementlər seçmək\n",
    "# random.sample()\n",
    "import random\n",
    "listint=[22,654,841,261,73,96,59,13,25,26,18]\n",
    "random_item=random.sample(listint,2)\n",
    "print(random_item)\n",
    "\n",
    "#4) Siyahıdan indeksə görə təsadüfi seçim\n",
    "#random.randint() \n",
    "import random\n",
    "listint=[22,654,841,261,73,96,59,13,25,26,18]\n",
    "random_item=random.randint(0,len(listint)-1)\n",
    "print(random_item)"
   ]
  },
  {
   "cell_type": "code",
   "execution_count": 42,
   "metadata": {},
   "outputs": [
    {
     "name": "stdout",
     "output_type": "stream",
     "text": [
      "654\n",
      "654\n"
     ]
    }
   ],
   "source": [
    "#28. Find Second Largest Number in List\n",
    "#metod 1\n",
    "numlist=[22,654,841,261,73,96,59,13,25,26,18]\n",
    "second_num=sorted(set(numlist),reverse=True)[1]\n",
    "print(second_num)\n",
    "\n",
    "\n",
    "#metod 2\n",
    "import heapq\n",
    "numlist=[22,654,841,261,73,96,59,13,25,26,18]\n",
    "second_num=heapq.nlargest(2,(numlist))[1]\n",
    "print(second_num)\n"
   ]
  },
  {
   "cell_type": "code",
   "execution_count": 43,
   "metadata": {},
   "outputs": [
    {
     "name": "stdout",
     "output_type": "stream",
     "text": [
      "Counter({96: 5, 50: 4, 40: 4, 10: 3, 85: 2})\n"
     ]
    }
   ],
   "source": [
    "#30. Count Frequency of List Elements\n",
    "from collections import Counter\n",
    "listo=[50,50,50,50,40,40,40,40,85,85,96,96,96,96,96,10,10,10]\n",
    "tezlik=Counter(listo)\n",
    "print(tezlik)"
   ]
  },
  {
   "cell_type": "code",
   "execution_count": 51,
   "metadata": {},
   "outputs": [
    {
     "name": "stdout",
     "output_type": "stream",
     "text": [
      "['l1', 'o1', 'l2', 'o2', 'l3', 'o3', 'l4', 'o4', 'l5', 'o5', 'l6', 'o6']\n"
     ]
    }
   ],
   "source": [
    "#35.Create List with Range Concatenation\n",
    "listone=['l','o']\n",
    "n=6\n",
    "mynewlist=['{}{}'.format(i,x) for x in range(1,n+1) for i in listone]\n",
    "print(mynewlist)"
   ]
  },
  {
   "cell_type": "code",
   "execution_count": 16,
   "metadata": {},
   "outputs": [
    {
     "name": "stdout",
     "output_type": "stream",
     "text": [
      "548\n"
     ]
    }
   ],
   "source": [
    "#1.\n",
    "def max_finder(list1):\n",
    "    print(max(list1))\n",
    "max_finder([3,69,6,4,548,4])"
   ]
  },
  {
   "cell_type": "code",
   "execution_count": 17,
   "metadata": {},
   "outputs": [
    {
     "name": "stdout",
     "output_type": "stream",
     "text": [
      "6520\n"
     ]
    }
   ],
   "source": [
    "#2. \n",
    "def sum_list(list5):\n",
    "    print(sum(list5))\n",
    "sum_list([61,496,4961,956,46])"
   ]
  },
  {
   "cell_type": "code",
   "execution_count": 17,
   "metadata": {},
   "outputs": [
    {
     "name": "stdout",
     "output_type": "stream",
     "text": [
      "2832\n"
     ]
    }
   ],
   "source": [
    "#3.\n",
    "def multiple_num(list1):\n",
    "    hasil=1\n",
    "    for x in list1:\n",
    "        hasil= hasil*x\n",
    "    return hasil\n",
    "print(multiple_num((8,2,3,-1,-59)))"
   ]
  },
  {
   "cell_type": "code",
   "execution_count": 33,
   "metadata": {},
   "outputs": [
    {
     "name": "stdout",
     "output_type": "stream",
     "text": [
      "987654321\n"
     ]
    }
   ],
   "source": [
    "#4.Reverse a String\n",
    "def string_reverse(mystring):\n",
    "    return mystring[::-1]\n",
    "print(string_reverse(\"123456789\"))\n",
    "\n",
    "\n"
   ]
  },
  {
   "cell_type": "code",
   "execution_count": 31,
   "metadata": {},
   "outputs": [
    {
     "name": "stdout",
     "output_type": "stream",
     "text": [
      "120\n",
      "24\n"
     ]
    }
   ],
   "source": [
    "#5. Factorial Of a Number\n",
    "def fact_num(num):\n",
    "    hasil=1\n",
    "    for i in range(1,num+1):       \n",
    "        hasil*=i\n",
    "    return hasil\n",
    "\n",
    "print(fact_num(5))\n",
    "\n",
    "\n",
    "\n",
    "# metod 2 (rekursiv)\n",
    "def factorial(n):\n",
    "    if n==0 or n==1:\n",
    "        return 1 \n",
    "    else:\n",
    "        return n*factorial(n-1)\n",
    "print(factorial(4))"
   ]
  },
  {
   "cell_type": "code",
   "execution_count": 2,
   "metadata": {},
   "outputs": [
    {
     "name": "stdout",
     "output_type": "stream",
     "text": [
      "True\n"
     ]
    }
   ],
   "source": [
    "#6. \n",
    "def falls_range(num):\n",
    "    if num in range(1,100):\n",
    "        print(True)\n",
    "    else:\n",
    "        print(False)\n",
    "(falls_range(26))"
   ]
  },
  {
   "cell_type": "code",
   "execution_count": 3,
   "metadata": {},
   "outputs": [
    {
     "name": "stdout",
     "output_type": "stream",
     "text": [
      "COUNT UPPER 7\n",
      "count lower 6\n"
     ]
    }
   ],
   "source": [
    "#7. \n",
    "def counter_letter(string5):\n",
    "    x={\"UPPER\":0,\"lower\":0}\n",
    "    for i in string5:\n",
    "        if i.islower():\n",
    "            x[\"UPPER\"]+=1\n",
    "        elif i.isupper():\n",
    "            x[\"lower\"]+=1\n",
    "    print(\"COUNT UPPER\",x[\"UPPER\"])\n",
    "    print(\"count lower\", x[\"lower\"])\n",
    "counter_letter(\"cusivjkJDKFND\")"
   ]
  },
  {
   "cell_type": "code",
   "execution_count": 7,
   "metadata": {},
   "outputs": [
    {
     "name": "stdout",
     "output_type": "stream",
     "text": [
      "[4, 56, 23, 89, 65, 49, 94]\n"
     ]
    }
   ],
   "source": [
    "#8. \n",
    "def unique_list(mylist):\n",
    "    m=[]\n",
    "    for i in mylist:\n",
    "        if i not in m:\n",
    "            m.append(i)\n",
    "    return m \n",
    "print(unique_list([4,4,4,56,56,23,89,89,65,49,94]))\n"
   ]
  },
  {
   "cell_type": "code",
   "execution_count": 73,
   "metadata": {},
   "outputs": [
    {
     "name": "stdout",
     "output_type": "stream",
     "text": [
      "False\n"
     ]
    }
   ],
   "source": [
    "#9.\n",
    "def prime_num(k):\n",
    "    for i in range(2,k):\n",
    "        if k % i ==0:\n",
    "            return False\n",
    "    return True\n",
    "print(prime_num(148))\n"
   ]
  },
  {
   "cell_type": "code",
   "execution_count": 85,
   "metadata": {},
   "outputs": [
    {
     "name": "stdout",
     "output_type": "stream",
     "text": [
      "[4, 6, 164, 34, 6]\n"
     ]
    }
   ],
   "source": [
    "#10. \n",
    "def even_num(k):\n",
    "    x=[]\n",
    "    for i in (k):\n",
    "        if i % 2 ==0:\n",
    "            x.append(i)\n",
    "    return x \n",
    "print(even_num([4,6,164,9,34,6131,6493,6,7]))\n",
    "\n",
    "        "
   ]
  },
  {
   "cell_type": "code",
   "execution_count": 20,
   "metadata": {},
   "outputs": [
    {
     "name": "stdout",
     "output_type": "stream",
     "text": [
      "True\n"
     ]
    }
   ],
   "source": [
    "#11. Check if a Number Is Perfect\n",
    "def perfect_number(k):\n",
    "    sum=0 \n",
    "    for i in range(1,k):\n",
    "        if k%i==0:\n",
    "            sum+=i\n",
    "    return sum==k\n",
    "print(perfect_number(28))"
   ]
  },
  {
   "cell_type": "code",
   "execution_count": 25,
   "metadata": {},
   "outputs": [
    {
     "name": "stdout",
     "output_type": "stream",
     "text": [
      "True\n"
     ]
    }
   ],
   "source": [
    "#12. \n",
    "def palendrom_num(mylist):\n",
    "    if mylist==mylist[::-1]:\n",
    "        return True\n",
    "    return False\n",
    "print(palendrom_num(\"kallak\"))\n"
   ]
  },
  {
   "cell_type": "code",
   "execution_count": 54,
   "metadata": {},
   "outputs": [
    {
     "name": "stdout",
     "output_type": "stream",
     "text": [
      "black-green-white-white-yellow\n"
     ]
    }
   ],
   "source": [
    "#15. \n",
    "items=\"yellow black white green white\"\n",
    "words=items.split()\n",
    "sorted_words=sorted(words)\n",
    "sorted_strings=\"-\".join(sorted_words)\n",
    "print(sorted_strings)"
   ]
  },
  {
   "cell_type": "code",
   "execution_count": 12,
   "metadata": {},
   "outputs": [
    {
     "name": "stdout",
     "output_type": "stream",
     "text": [
      "[1, 4, 9, 16, 25, 36, 49, 64, 81, 100, 121, 144, 169, 196, 225, 256, 289, 324, 361, 400, 441, 484, 529, 576, 625, 676, 729, 784, 841]\n"
     ]
    }
   ],
   "source": [
    "#16.\n",
    "def squared():\n",
    "    k=list()\n",
    "    for i in range(1,30):\n",
    "       k.append(i**2)\n",
    "    print(k)\n",
    "squared()"
   ]
  },
  {
   "cell_type": "code",
   "execution_count": 27,
   "metadata": {},
   "outputs": [
    {
     "name": "stdout",
     "output_type": "stream",
     "text": [
      "[11, 121, 1331, 14641, 161051]\n"
     ]
    }
   ],
   "source": [
    "#13. Pascall Triangle \n",
    "def elevenpower(n):\n",
    "    k=1\n",
    "    result=[]\n",
    "    for i in range(n):\n",
    "        result.append(11**k)\n",
    "        k+=1\n",
    "    return result\n",
    "print(elevenpower(5))\n",
    "\n"
   ]
  },
  {
   "cell_type": "code",
   "execution_count": 26,
   "metadata": {},
   "outputs": [
    {
     "name": "stdout",
     "output_type": "stream",
     "text": [
      "{'salam', 'kitab', 'DATA'}\n",
      "{'salam', 'kitab', 'DATA'}\n",
      "{'salam', 'kitab', 'DATA'}\n"
     ]
    }
   ],
   "source": [
    "#18. \n",
    "x=\"\"\"myset={\"DATA\",\"kitab\",\"salam\"}\n",
    "for i in myset:\n",
    "    print(myset)\"\"\"\n",
    "exec(x)\n"
   ]
  },
  {
   "cell_type": "code",
   "execution_count": null,
   "metadata": {},
   "outputs": [
    {
     "name": "stdout",
     "output_type": "stream",
     "text": [
      "7\n",
      "130\n"
     ]
    }
   ],
   "source": [
    "#19.\n",
    "def quvvet(a,b):\n",
    "    number=a**b\n",
    "    return number\n",
    "def cem(a,b):\n",
    "    a=b(a,4) + b()"
   ]
  },
  {
   "cell_type": "code",
   "execution_count": null,
   "metadata": {},
   "outputs": [],
   "source": [
    "#NOTES \n",
    "#factorial rekrusiv ile yazilmasi - 5.ci sual \n",
    "#18-ci suala yeniden bax\n",
    "#set,tuple,dictionary\n",
    "\n"
   ]
  },
  {
   "cell_type": "code",
   "execution_count": 8,
   "metadata": {},
   "outputs": [
    {
     "name": "stdout",
     "output_type": "stream",
     "text": [
      "{1, 2, 4932, 5, 6, 62}\n"
     ]
    }
   ],
   "source": [
    "set1={1,2,62,5}\n",
    "tuple1=(5,6,4932,6)\n",
    "set1.update(tuple1)\n",
    "print(set1)"
   ]
  },
  {
   "cell_type": "code",
   "execution_count": null,
   "metadata": {},
   "outputs": [],
   "source": []
  },
  {
   "cell_type": "code",
   "execution_count": null,
   "metadata": {},
   "outputs": [],
   "source": [
    "#1. \n"
   ]
  },
  {
   "cell_type": "code",
   "execution_count": 20,
   "metadata": {},
   "outputs": [
    {
     "name": "stdout",
     "output_type": "stream",
     "text": [
      "{'salam', 'DATA', 'kitab'}\n",
      "{'salam', 'DATA', 'kitab'}\n",
      "{'salam', 'DATA', 'kitab'}\n"
     ]
    }
   ],
   "source": [
    "#2.\n",
    "myset={\"DATA\",\"kitab\",\"salam\"}\n",
    "for i in myset:\n",
    "    print(myset)\n"
   ]
  },
  {
   "cell_type": "code",
   "execution_count": 22,
   "metadata": {},
   "outputs": [
    {
     "name": "stdout",
     "output_type": "stream",
     "text": [
      "{'salam', 'DATA', 'kitab', 'ovncjnsn'}\n"
     ]
    }
   ],
   "source": [
    "#3. \n",
    "myset.add(\"ovncjnsn\")\n",
    "print(myset)"
   ]
  },
  {
   "cell_type": "code",
   "execution_count": 37,
   "metadata": {},
   "outputs": [
    {
     "ename": "NameError",
     "evalue": "name 'myset' is not defined",
     "output_type": "error",
     "traceback": [
      "\u001b[31m---------------------------------------------------------------------------\u001b[39m",
      "\u001b[31mNameError\u001b[39m                                 Traceback (most recent call last)",
      "\u001b[36mCell\u001b[39m\u001b[36m \u001b[39m\u001b[32mIn[37]\u001b[39m\u001b[32m, line 2\u001b[39m\n\u001b[32m      1\u001b[39m \u001b[38;5;66;03m#4. \u001b[39;00m\n\u001b[32m----> \u001b[39m\u001b[32m2\u001b[39m \u001b[43mmyset\u001b[49m.remove(\u001b[33m\"\u001b[39m\u001b[33mDATA\u001b[39m\u001b[33m\"\u001b[39m)\n\u001b[32m      3\u001b[39m \u001b[38;5;28mprint\u001b[39m(myset)\n",
      "\u001b[31mNameError\u001b[39m: name 'myset' is not defined"
     ]
    }
   ],
   "source": [
    "#4. \n",
    "myset.remove(\"DATA\")\n",
    "print(myset)"
   ]
  },
  {
   "cell_type": "code",
   "execution_count": 33,
   "metadata": {},
   "outputs": [
    {
     "name": "stdout",
     "output_type": "stream",
     "text": [
      "{'kitab', 'ovncjnsn'}\n"
     ]
    }
   ],
   "source": [
    "#5. \n",
    "myset.discard(\"salam\")\n",
    "print(myset)"
   ]
  },
  {
   "cell_type": "code",
   "execution_count": 38,
   "metadata": {},
   "outputs": [
    {
     "name": "stdout",
     "output_type": "stream",
     "text": [
      "{1, 2, 6354}\n"
     ]
    }
   ],
   "source": [
    "#6. \n",
    "set1={1,2,6354,6164,322,61}\n",
    "set2={1,2,6354,6161,32,1}\n",
    "set3=set1&set2\n",
    "print(set3)"
   ]
  },
  {
   "cell_type": "code",
   "execution_count": 39,
   "metadata": {},
   "outputs": [
    {
     "name": "stdout",
     "output_type": "stream",
     "text": [
      "{32, 1, 2, 322, 6161, 6354, 6164, 61}\n"
     ]
    }
   ],
   "source": [
    "#7. \n",
    "set3=set1|set2\n",
    "print(set3)"
   ]
  },
  {
   "cell_type": "code",
   "execution_count": 40,
   "metadata": {},
   "outputs": [
    {
     "name": "stdout",
     "output_type": "stream",
     "text": [
      "{322, 6164, 61}\n"
     ]
    }
   ],
   "source": [
    "#8.\n",
    "set3=set1.difference(set2)\n",
    "print(set3)"
   ]
  },
  {
   "cell_type": "code",
   "execution_count": null,
   "metadata": {},
   "outputs": [
    {
     "name": "stdout",
     "output_type": "stream",
     "text": [
      "None\n"
     ]
    }
   ],
   "source": [
    "#9.\n",
    "set1={641,6,61643,56,6514,61}\n",
    "set2={61,6,6164,68,614,61}\n",
    "sym_diff=set1.syset2\n",
    "print(sym_diff)\n"
   ]
  },
  {
   "cell_type": "code",
   "execution_count": null,
   "metadata": {},
   "outputs": [
    {
     "name": "stdout",
     "output_type": "stream",
     "text": [
      "False\n"
     ]
    }
   ],
   "source": [
    "#10. \n",
    "set3=set1.issubset(set2)\n",
    "print(set3)\n"
   ]
  },
  {
   "cell_type": "code",
   "execution_count": 46,
   "metadata": {},
   "outputs": [
    {
     "name": "stdout",
     "output_type": "stream",
     "text": [
      "{641, 6514, 6, 56, 61643, 61}\n"
     ]
    }
   ],
   "source": [
    "#11. \n",
    "set1={641,6,61643,56,6514,61}\n",
    "set2={61,6,6164,68,614,61}\n",
    "set3=set1.copy()\n",
    "print(set3)"
   ]
  },
  {
   "cell_type": "code",
   "execution_count": 1,
   "metadata": {},
   "outputs": [
    {
     "ename": "TypeError",
     "evalue": "set.remove() takes exactly one argument (0 given)",
     "output_type": "error",
     "traceback": [
      "\u001b[31m---------------------------------------------------------------------------\u001b[39m",
      "\u001b[31mTypeError\u001b[39m                                 Traceback (most recent call last)",
      "\u001b[36mCell\u001b[39m\u001b[36m \u001b[39m\u001b[32mIn[1]\u001b[39m\u001b[32m, line 3\u001b[39m\n\u001b[32m      1\u001b[39m \u001b[38;5;66;03m#12. \u001b[39;00m\n\u001b[32m      2\u001b[39m setk={\u001b[32m64\u001b[39m,\u001b[32m4\u001b[39m,\u001b[32m16\u001b[39m,\u001b[32m16\u001b[39m,\u001b[32m52\u001b[39m,\u001b[32m62\u001b[39m,\u001b[32m65\u001b[39m,\u001b[32m23\u001b[39m,\u001b[32m6523\u001b[39m,\u001b[32m65\u001b[39m,\u001b[32m23\u001b[39m,\u001b[32m62\u001b[39m,\u001b[32m3\u001b[39m}\n\u001b[32m----> \u001b[39m\u001b[32m3\u001b[39m \u001b[43msetk\u001b[49m\u001b[43m.\u001b[49m\u001b[43mremove\u001b[49m\u001b[43m(\u001b[49m\u001b[43m)\u001b[49m\n\u001b[32m      4\u001b[39m \u001b[38;5;28mprint\u001b[39m(setk)\n",
      "\u001b[31mTypeError\u001b[39m: set.remove() takes exactly one argument (0 given)"
     ]
    }
   ],
   "source": [
    "#12. \n",
    "setk={64,4,16,16,52,62,65,23,6523,65,23,62,3}\n",
    "setk.remove()\n",
    "print(setk)"
   ]
  },
  {
   "cell_type": "code",
   "execution_count": null,
   "metadata": {},
   "outputs": [
    {
     "name": "stdout",
     "output_type": "stream",
     "text": [
      "{1, 2, 3, 4, 5, 6}\n"
     ]
    }
   ],
   "source": [
    "#13. \n",
    "x=frozenset={1,2,3}\n",
    "y=frozenset={4,5,6}\n",
    "print(x|y)"
   ]
  },
  {
   "cell_type": "code",
   "execution_count": 4,
   "metadata": {},
   "outputs": [
    {
     "data": {
      "text/plain": [
       "461664"
      ]
     },
     "execution_count": 4,
     "metadata": {},
     "output_type": "execute_result"
    }
   ],
   "source": [
    "#14. \n",
    "set5={415,461664,14,13,63,6,23}\n",
    "max(set5)"
   ]
  },
  {
   "cell_type": "code",
   "execution_count": 5,
   "metadata": {},
   "outputs": [
    {
     "data": {
      "text/plain": [
       "6"
      ]
     },
     "execution_count": 5,
     "metadata": {},
     "output_type": "execute_result"
    }
   ],
   "source": [
    "min(set5)"
   ]
  },
  {
   "cell_type": "code",
   "execution_count": 68,
   "metadata": {},
   "outputs": [
    {
     "name": "stdout",
     "output_type": "stream",
     "text": [
      "6\n"
     ]
    }
   ],
   "source": [
    "#15. \n",
    "\n",
    "print(len(set1))"
   ]
  },
  {
   "cell_type": "code",
   "execution_count": 35,
   "metadata": {},
   "outputs": [
    {
     "name": "stdout",
     "output_type": "stream",
     "text": [
      "True\n"
     ]
    }
   ],
   "source": [
    "#16. \n",
    "set5={415,461664,14,13,63,6,23}\n",
    "print(6 in set5)"
   ]
  },
  {
   "cell_type": "code",
   "execution_count": 41,
   "metadata": {},
   "outputs": [
    {
     "data": {
      "text/plain": [
       "False"
      ]
     },
     "execution_count": 41,
     "metadata": {},
     "output_type": "execute_result"
    }
   ],
   "source": [
    "#17. \n",
    "set1={641,61643,56,6514,61}\n",
    "set2={6,6164,68,56,614}\n",
    "set1.isdisjoint(set2)"
   ]
  },
  {
   "cell_type": "code",
   "execution_count": 47,
   "metadata": {},
   "outputs": [
    {
     "name": "stdout",
     "output_type": "stream",
     "text": [
      "True\n"
     ]
    }
   ],
   "source": [
    "#18. \n",
    "set1={1,2,3,4,5,6,7,8,9}\n",
    "set2={1,5,9,5,2}\n",
    "print(set1>=set2)"
   ]
  },
  {
   "cell_type": "code",
   "execution_count": 49,
   "metadata": {},
   "outputs": [
    {
     "name": "stdout",
     "output_type": "stream",
     "text": [
      "{3, 4, 6, 7, 8}\n"
     ]
    }
   ],
   "source": [
    "#19. \n",
    "set1={1,2,3,4,5,6,7,8,9}\n",
    "set2={1,5,9,5,2} \n",
    "set3=set1.difference(set2)\n",
    "print(set3)"
   ]
  },
  {
   "cell_type": "code",
   "execution_count": 58,
   "metadata": {},
   "outputs": [
    {
     "name": "stdout",
     "output_type": "stream",
     "text": [
      "{3, 4, 6, 7, 8}\n"
     ]
    }
   ],
   "source": [
    "#20.\n",
    "set1={1,2,3,4,5,6,7,8,9}\n",
    "set2={1,5,9,5,2}\n",
    "set1.symmetric_difference_update(set2)\n",
    "print(set1)\n"
   ]
  },
  {
   "cell_type": "markdown",
   "metadata": {},
   "source": []
  },
  {
   "cell_type": "code",
   "execution_count": 9,
   "metadata": {},
   "outputs": [
    {
     "name": "stdout",
     "output_type": "stream",
     "text": [
      "Counter({'lak': 2, 'pj': 2, 'ss': 1, 'jlal': 1})\n"
     ]
    }
   ],
   "source": [
    "#21. \n",
    "from collections import  Counter \n",
    "setz=[\"ss\",\"jlal\",\"lak\",\"pj\",\"lak\",\"pj\"]\n",
    "setc=Counter(setz)\n",
    "print(setc)\n"
   ]
  },
  {
   "cell_type": "code",
   "execution_count": 8,
   "metadata": {},
   "outputs": [
    {
     "name": "stdout",
     "output_type": "stream",
     "text": [
      "1 6\n",
      "2 5\n",
      "3 4\n",
      "4 3\n",
      "5 2\n",
      "6 1\n"
     ]
    }
   ],
   "source": [
    "#22. \n",
    "setk={1,2,3,4,5,6,7,8,9}\n",
    "k=7\n",
    "for i in setk:\n",
    "    for j in setk:\n",
    "        if i!=j and i+j==k:\n",
    "            print(i,j)\n",
    "          "
   ]
  },
  {
   "cell_type": "code",
   "execution_count": 6,
   "metadata": {},
   "outputs": [
    {
     "name": "stdout",
     "output_type": "stream",
     "text": [
      "w3\n"
     ]
    }
   ],
   "source": [
    "#23. \n",
    "strs=[\"w3resource\",\"w3school\",\"w3basics\"]\n",
    "\n",
    "if not strs:\n",
    "    print(False)\n",
    "else:\n",
    "    prefix=strs[0]\n",
    "for i in strs[1:]:\n",
    "     while not i.startswith(prefix):\n",
    "            prefix=prefix[:-1]\n",
    "            if not prefix:\n",
    "                 print(\"Empty\")\n",
    "print(prefix)\n"
   ]
  },
  {
   "cell_type": "code",
   "execution_count": 18,
   "metadata": {},
   "outputs": [
    {
     "name": "stdout",
     "output_type": "stream",
     "text": [
      "4379104\n"
     ]
    }
   ],
   "source": [
    "#24.\n",
    "def maxproduct(nums):\n",
    "    nums=list(set(nums))\n",
    "    nums=sorted(nums)\n",
    "    if len(nums)<=2:\n",
    "        return 0 \n",
    "    else:\n",
    "        return nums[-2]*nums[-1]\n",
    "                #return max(abs(nums[-1]))*max(abs(nums[-2]))\n",
    "nums=[1,3,444,69,4496,974,1,4]\n",
    "print(maxproduct(nums))\n"
   ]
  },
  {
   "cell_type": "code",
   "execution_count": 17,
   "metadata": {},
   "outputs": [
    {
     "name": "stdout",
     "output_type": "stream",
     "text": [
      "{1, 2, 3} {8, 6, 7}\n"
     ]
    }
   ],
   "source": [
    "#25.\n",
    "set1={1,2,3,4,5}\n",
    "set2={4,5,6,7,8}\n",
    "x=set1.difference(set2)\n",
    "y=set2.difference(set1)\n",
    "print(x,y)"
   ]
  },
  {
   "cell_type": "code",
   "execution_count": null,
   "metadata": {},
   "outputs": [],
   "source": [
    "#26."
   ]
  },
  {
   "cell_type": "code",
   "execution_count": null,
   "metadata": {},
   "outputs": [],
   "source": [
    "#27."
   ]
  },
  {
   "cell_type": "code",
   "execution_count": null,
   "metadata": {},
   "outputs": [
    {
     "name": "stdout",
     "output_type": "stream",
     "text": [
      "1 2 7\n",
      "1 3 6\n",
      "1 4 5\n",
      "1 5 4\n",
      "1 6 3\n",
      "1 7 2\n",
      "1 8 1\n",
      "2 1 7\n",
      "2 3 5\n",
      "2 5 3\n",
      "2 6 2\n",
      "2 7 1\n",
      "3 1 6\n",
      "3 2 5\n",
      "3 4 3\n",
      "3 5 2\n",
      "3 6 1\n",
      "4 1 5\n",
      "4 2 4\n",
      "4 5 1\n",
      "5 1 4\n",
      "5 2 3\n",
      "5 3 2\n",
      "5 4 1\n",
      "6 1 3\n",
      "6 3 1\n",
      "7 1 2\n",
      "7 2 1\n"
     ]
    }
   ],
   "source": [
    "#28.\n",
    "myset={1,2,3,4,5,6,7,8,9,10}\n",
    "target=10\n",
    "for i in myset:\n",
    "    for j in myset:\n",
    "        for h in myset:\n",
    "            if i+j+h==target and i!=j!=h:\n",
    "                print(i,j,h)\n",
    "                #tekrarlanma var?"
   ]
  },
  {
   "cell_type": "code",
   "execution_count": 31,
   "metadata": {},
   "outputs": [
    {
     "name": "stdout",
     "output_type": "stream",
     "text": [
      "8\n"
     ]
    }
   ],
   "source": [
    "#29.\n",
    "myset={1,2,3,4,5,6,7,8,9,10}\n",
    "myy=list(myset)\n",
    "myy.sort()\n",
    "print(myy[-3])"
   ]
  },
  {
   "cell_type": "code",
   "execution_count": 35,
   "metadata": {},
   "outputs": [
    {
     "name": "stdout",
     "output_type": "stream",
     "text": [
      "['baz', 'qux', 'foo', 'abc', 'bar']\n"
     ]
    }
   ],
   "source": [
    "#30.\n",
    "def remove_duplicates(mystring):\n",
    "    return list(set(mystring))\n",
    "mystr= ['foo', 'bar', 'abc', 'foo', 'qux', 'bar', 'baz' , 'baz']\n",
    "print(remove_duplicates(mystr))\n"
   ]
  },
  {
   "cell_type": "code",
   "execution_count": null,
   "metadata": {},
   "outputs": [],
   "source": [
    "#NOTES.\n",
    "# 24-de problem var , 26 ve 27 yazilmayib , 28-de tekrarlanma var\n"
   ]
  },
  {
   "cell_type": "code",
   "execution_count": null,
   "metadata": {},
   "outputs": [],
   "source": [
    "#DICTIONARIES\n"
   ]
  },
  {
   "cell_type": "code",
   "execution_count": null,
   "metadata": {},
   "outputs": [],
   "source": [
    "#1. \n"
   ]
  },
  {
   "cell_type": "code",
   "execution_count": 40,
   "metadata": {},
   "outputs": [
    {
     "name": "stdout",
     "output_type": "stream",
     "text": [
      "{0: 10, 1: 20, 2: 30}\n"
     ]
    }
   ],
   "source": [
    "#2. \n",
    "firstdict= { \n",
    "    0:10,\n",
    "    1:20\n",
    "}\n",
    "firstdict[2]=30\n",
    "print(firstdict)"
   ]
  },
  {
   "cell_type": "code",
   "execution_count": 42,
   "metadata": {},
   "outputs": [
    {
     "name": "stdout",
     "output_type": "stream",
     "text": [
      "{1: 10, 2: 20, 3: 30, 4: 40, 5: 50, 6: 60}\n"
     ]
    }
   ],
   "source": [
    "#3. \n",
    "dic1={1:10, 2:20}\n",
    "dic2={3:30, 4:40}\n",
    "dic3={5:50, 6:60}\n",
    "merged_dicts=dic1|dic2|dic3\n",
    "print(merged_dicts)"
   ]
  },
  {
   "cell_type": "code",
   "execution_count": 49,
   "metadata": {},
   "outputs": [
    {
     "name": "stdout",
     "output_type": "stream",
     "text": [
      "True\n"
     ]
    }
   ],
   "source": [
    "#4. \n",
    "d = {1: 10, 2: 20, 3: 30, 4: 40, 5: 50, 6: 60} \n",
    "def is_key_existence(k):\n",
    "    if k in d:\n",
    "        print(True)\n",
    "    else:\n",
    "        print(False)\n",
    "is_key_existence(2)\n"
   ]
  },
  {
   "cell_type": "code",
   "execution_count": 55,
   "metadata": {},
   "outputs": [
    {
     "name": "stdout",
     "output_type": "stream",
     "text": [
      "x 10\n",
      "y 20\n",
      "z 30\n"
     ]
    }
   ],
   "source": [
    "#5. \n",
    "d = {'x': 10, 'y': 20, 'z': 30} \n",
    "for i,j in d.items():\n",
    "    print(i,j)"
   ]
  },
  {
   "cell_type": "code",
   "execution_count": 5,
   "metadata": {},
   "outputs": [
    {
     "name": "stdout",
     "output_type": "stream",
     "text": [
      "{1: 1, 2: 4, 3: 9, 4: 16, 5: 25, 6: 36, 7: 49, 8: 64, 9: 81, 10: 100}\n"
     ]
    }
   ],
   "source": [
    "#6. \n",
    "numbers=range(1,11)\n",
    "mydict={num:num**2 for num in numbers}\n",
    "print(mydict)"
   ]
  },
  {
   "cell_type": "code",
   "execution_count": 6,
   "metadata": {},
   "outputs": [
    {
     "name": "stdout",
     "output_type": "stream",
     "text": [
      "{1: 1, 2: 4, 3: 9, 4: 16, 5: 25, 6: 36, 7: 49, 8: 64, 9: 81, 10: 100, 11: 121, 12: 144, 13: 169, 14: 196}\n"
     ]
    }
   ],
   "source": [
    "#7. \n",
    "numbers=range(1,15)\n",
    "mydict={num:num**2 for num in numbers}\n",
    "print(mydict)\n"
   ]
  },
  {
   "cell_type": "code",
   "execution_count": 22,
   "metadata": {},
   "outputs": [
    {
     "name": "stdout",
     "output_type": "stream",
     "text": [
      "{'ad': 'Əhməd', 'soyad': 'Əliyev', 'yaş': 20, 'ixtisas': 'Kompyuter Mühəndisliyi', 'başlıq': 'Python Proqramlaşdırma', 'müəllif': 'John Doe', 'nəşr ili': 2020, 'səhifə sayı': 350}\n"
     ]
    }
   ],
   "source": [
    "#8. \n",
    "student_info = {\n",
    "    'ad': 'Əhməd',\n",
    "    'soyad': 'Əliyev',\n",
    "    'yaş': 20,\n",
    "    'ixtisas': 'Kompyuter Mühəndisliyi'\n",
    "}\n",
    "book_info = {\n",
    "    'başlıq': 'Python Proqramlaşdırma',\n",
    "    'müəllif': 'John Doe',\n",
    "    'nəşr ili': 2020,\n",
    "    'səhifə sayı': 350\n",
    "}\n",
    "\n",
    "student_info.update(book_info)\n",
    "print(student_info)"
   ]
  },
  {
   "cell_type": "code",
   "execution_count": 27,
   "metadata": {},
   "outputs": [
    {
     "name": "stdout",
     "output_type": "stream",
     "text": [
      "ad Leyla\n",
      "yaş 25\n",
      "şəhər Bakı\n"
     ]
    }
   ],
   "source": [
    "#9. \n",
    "person_info = {\n",
    "    'ad': 'Leyla',\n",
    "    'yaş': 25,\n",
    "    'şəhər': 'Bakı'\n",
    "} \n",
    "for i,k in person_info.items():\n",
    "    print(i,k)\n"
   ]
  },
  {
   "cell_type": "code",
   "execution_count": 1,
   "metadata": {},
   "outputs": [
    {
     "name": "stdout",
     "output_type": "stream",
     "text": [
      "6649\n"
     ]
    }
   ],
   "source": [
    "#10. \n",
    "\n",
    "numbers_dict = {\n",
    "    'bir': 62,\n",
    "    'iki': 6523,\n",
    "    'üç': 64,\n",
    "}\n",
    "sumx=sum(numbers_dict.values())\n",
    "print(sumx)\n"
   ]
  },
  {
   "cell_type": "code",
   "execution_count": null,
   "metadata": {},
   "outputs": [
    {
     "name": "stdout",
     "output_type": "stream",
     "text": [
      "780\n"
     ]
    }
   ],
   "source": [
    "#11.\n",
    "numbers_dict = {\n",
    "    'bir': 65,\n",
    "    'iki': 2,\n",
    "    'üç': 6\n",
    "}\n",
    "result=1 \n",
    "for values in numbers_dict:\n",
    "    result=result*numbers_dict[values]\n",
    "print(result)"
   ]
  },
  {
   "cell_type": "code",
   "execution_count": 4,
   "metadata": {},
   "outputs": [
    {
     "name": "stdout",
     "output_type": "stream",
     "text": [
      "{'iki': 2, 'üç': 6}\n"
     ]
    }
   ],
   "source": [
    "#12. \n",
    "numbers_dict = {\n",
    "    'bir': 65,\n",
    "    'iki': 2,\n",
    "    'üç': 6 \n",
    "}\n",
    "numbers_dict.pop('bir')\n",
    "print(numbers_dict)\n"
   ]
  },
  {
   "cell_type": "code",
   "execution_count": 11,
   "metadata": {},
   "outputs": [
    {
     "name": "stdout",
     "output_type": "stream",
     "text": [
      "{'red': 2, 'green': 6, 'yellow': 4, 'blue': 8}\n"
     ]
    }
   ],
   "source": [
    "#13. \n",
    "colors=(\"red\",\"green\",\"yellow\",\"blue\")\n",
    "numbers=(2,6,4,8)\n",
    "color_dictionary=dict(zip(colors,numbers))\n",
    "print(color_dictionary)"
   ]
  },
  {
   "cell_type": "code",
   "execution_count": 19,
   "metadata": {},
   "outputs": [
    {
     "name": "stdout",
     "output_type": "stream",
     "text": [
      "['blue', 'green', 'red', 'yellow']\n"
     ]
    }
   ],
   "source": [
    "#14. \n",
    "sorted_dict=sorted(color_dictionary.keys())\n",
    "print(sorted_dict)"
   ]
  },
  {
   "cell_type": "code",
   "execution_count": 22,
   "metadata": {},
   "outputs": [
    {
     "data": {
      "text/plain": [
       "'blue'"
      ]
     },
     "execution_count": 22,
     "metadata": {},
     "output_type": "execute_result"
    }
   ],
   "source": [
    "#15. \n",
    "max(color_dictionary.values())\n",
    "min(color_dictionary.keys())"
   ]
  },
  {
   "cell_type": "code",
   "execution_count": null,
   "metadata": {},
   "outputs": [
    {
     "name": "stdout",
     "output_type": "stream",
     "text": [
      "{'name': 'Ali', 'age': 20, 'weight': 85, 'height': 190, 'school': 'UNEC', 'aDDRESS': 'JOlly 117'}\n"
     ]
    }
   ],
   "source": [
    "#16. \n",
    "class Person:\n",
    "    def __init__(self,name,age,weight,height,school,address):\n",
    "        self.name=name\n",
    "        self.age=age\n",
    "        self.weight=weight\n",
    "        self.height=height\n",
    "        self.school=school\n",
    "        self.aDDRESS=address\n",
    "person=Person(\"Ali\",20,85,190,\"UNEC\",\"JOlly 117\")\n",
    "person_dict=vars(person)\n",
    "print(person_dict)"
   ]
  },
  {
   "cell_type": "markdown",
   "metadata": {},
   "source": [
    "#class ne ise yarayir\n"
   ]
  },
  {
   "cell_type": "code",
   "execution_count": 33,
   "metadata": {},
   "outputs": [
    {
     "name": "stdout",
     "output_type": "stream",
     "text": [
      "{'id1': {'name': ['Sara'], 'class': ['V'], 'subject_integration': ['english, math, science']}, 'id2': {'name': ['David'], 'class': ['V'], 'subject_integration': ['english, math, science']}, 'id4': {'name': ['Surya'], 'class': ['V'], 'subject_integration': ['english, math, science']}}\n"
     ]
    }
   ],
   "source": [
    "#17. \n",
    "student_data = {\n",
    "    'id1': {\n",
    "        'name': ['Sara'],\n",
    "        'class': ['V'],\n",
    "        'subject_integration': ['english, math, science']\n",
    "    },\n",
    "    'id2': {\n",
    "        'name': ['David'],\n",
    "        'class': ['V'],\n",
    "        'subject_integration': ['english, math, science']\n",
    "    },\n",
    "    'id3': {\n",
    "        'name': ['Sara'],\n",
    "        'class': ['V'],\n",
    "        'subject_integration': ['english, math, science']\n",
    "    },\n",
    "    'id4': {\n",
    "        'name': ['Surya'],\n",
    "        'class': ['V'],\n",
    "        'subject_integration': ['english, math, science']\n",
    "    }\n",
    "}\n",
    "\n",
    "result={}\n",
    "for key,value in student_data.items():\n",
    "    if value not in result.values():  \n",
    "        result[key]=value\n",
    "print(result)\n",
    "        \n"
   ]
  },
  {
   "cell_type": "code",
   "execution_count": 39,
   "metadata": {},
   "outputs": [
    {
     "name": "stdout",
     "output_type": "stream",
     "text": [
      "Not empty\n"
     ]
    }
   ],
   "source": [
    "#18.\n",
    "my_dict = {\n",
    "    'name': 'Sara',\n",
    "    'age': 25,\n",
    "    'class': 'V'\n",
    "}\n",
    "empty_dict1 = {}\n",
    "\n",
    "if not my_dict:\n",
    "    print(\"empty\")\n",
    "else:\n",
    "    print(\"Not empty\")\n"
   ]
  },
  {
   "cell_type": "code",
   "execution_count": 3,
   "metadata": {},
   "outputs": [
    {
     "name": "stdout",
     "output_type": "stream",
     "text": [
      "Counter({'a': 400, 'b': 400, 'd': 400, 'c': 300})\n"
     ]
    }
   ],
   "source": [
    "#19. \n",
    "from collections import Counter\n",
    "d1 = {'a': 100, 'b': 200, 'c':300}\n",
    "d2 = {'a': 300, 'b': 200, 'd':400}\n",
    "d3=Counter(d1)+Counter(d2)\n",
    "print(d3)"
   ]
  },
  {
   "cell_type": "code",
   "execution_count": 12,
   "metadata": {},
   "outputs": [
    {
     "name": "stdout",
     "output_type": "stream",
     "text": [
      "{'S005', 'S009', 'S007'}\n"
     ]
    }
   ],
   "source": [
    "#20. \n",
    "d= {\"V\":\"S001\", \"V\": \"S002\", \"VI\": \"S001\", \"VI\": \"S005\", \"VII\":\"S005\",\"V\":\"S009\",\"VIII\":\"S007\"}\n",
    "ds_vl=set(d.values())\n",
    "print(ds_vl)"
   ]
  },
  {
   "cell_type": "code",
   "execution_count": null,
   "metadata": {},
   "outputs": [],
   "source": [
    "#21. \n",
    "from itertools import combinations\n"
   ]
  },
  {
   "cell_type": "code",
   "execution_count": 16,
   "metadata": {},
   "outputs": [
    {
     "name": "stdout",
     "output_type": "stream",
     "text": [
      "[4, 3, 5]\n"
     ]
    }
   ],
   "source": [
    "#22. \n",
    "from heapq import nlargest  \n",
    "d = {\n",
    "    1: 'alma',\n",
    "    2: 'armud',\n",
    "    3: 'heyva',\n",
    "    4: 'nar',\n",
    "    5: 'gilas'\n",
    "}\n",
    "three_largest=nlargest(3,d,key=d.get)\n",
    "print(three_largest)\n"
   ]
  },
  {
   "cell_type": "code",
   "execution_count": 18,
   "metadata": {},
   "outputs": [
    {
     "name": "stdout",
     "output_type": "stream",
     "text": [
      "Counter({'item1': 1150, 'item2': 300})\n"
     ]
    }
   ],
   "source": [
    "#23. \n",
    "from collections import Counter \n",
    "item_list = [{'item': 'item1', 'amount': 400}, {'item': 'item2', 'amount': 300}, {'item': 'item1', 'amount': 750}]\n",
    "result=Counter()\n",
    "for i in item_list:\n",
    "    result[i['item']]+=i['amount']\n",
    "print(result)"
   ]
  },
  {
   "cell_type": "code",
   "execution_count": 2,
   "metadata": {},
   "outputs": [
    {
     "name": "stdout",
     "output_type": "stream",
     "text": [
      "{'w': 1, '3': 1, 'r': 2, 'e': 2, 's': 1, 'o': 1, 'u': 1, 'c': 1}\n"
     ]
    }
   ],
   "source": [
    "#24. \n",
    "text='w3resource'\n",
    "mydict={}\n",
    "for i in text:\n",
    "    if i in mydict:\n",
    "        mydict[i]+=1\n",
    "    else:\n",
    "        mydict[i]=1\n",
    "print(mydict)"
   ]
  },
  {
   "cell_type": "code",
   "execution_count": 4,
   "metadata": {},
   "outputs": [
    {
     "name": "stdout",
     "output_type": "stream",
     "text": [
      "  Letter  Count\n",
      "0      w      1\n",
      "1      3      1\n",
      "2      r      2\n",
      "3      e      2\n",
      "4      s      1\n",
      "5      o      1\n",
      "6      u      1\n",
      "7      c      1\n"
     ]
    }
   ],
   "source": [
    "#25. \n",
    "import pandas as pd \n",
    "mydict={'w': 1, '3': 1, 'r': 2, 'e': 2, 's': 1, 'o': 1, 'u': 1, 'c': 1}\n",
    "df=pd.DataFrame(mydict.items(),columns=[\"Letter\",\"Count\"])\n",
    "print(df)\n"
   ]
  },
  {
   "cell_type": "code",
   "execution_count": 17,
   "metadata": {},
   "outputs": [
    {
     "name": "stdout",
     "output_type": "stream",
     "text": [
      "2 \n",
      " 1\n"
     ]
    }
   ],
   "source": [
    "#26. \n",
    "student = [{'id': 1, 'success': True, 'name': 'Lary'},\n",
    " {'id': 2, 'success': False, 'name': 'Rabi'},\n",
    " {'id': 3, 'success': True, 'name': 'Alex'}]\n",
    "succes_count=0\n",
    "fail_count=0 \n",
    "for i in student:\n",
    "    if i['success']:\n",
    "        succes_count+=1\n",
    "    else:\n",
    "        fail_count+=1\n",
    "print(succes_count,\"\\n\",fail_count)"
   ]
  },
  {
   "cell_type": "code",
   "execution_count": 22,
   "metadata": {},
   "outputs": [
    {
     "name": "stdout",
     "output_type": "stream",
     "text": [
      "{'a': {'b': {'c': {'d': {}}}}}\n"
     ]
    }
   ],
   "source": [
    "#27. \n",
    "keys=['a','b','c','d']\n",
    "nested_dict={}\n",
    "for k in reversed(keys):\n",
    "    nested_dict={k:nested_dict}\n",
    "print(nested_dict)\n"
   ]
  },
  {
   "cell_type": "code",
   "execution_count": 67,
   "metadata": {},
   "outputs": [
    {
     "name": "stdout",
     "output_type": "stream",
     "text": [
      "{'n1': [1, 2, 3], 'n2': [1, 2, 5], 'n3': [2, 3, 4]}\n"
     ]
    }
   ],
   "source": [
    "#28. \n",
    "num = {'n1': [2, 3, 1], 'n2': [5, 1, 2], 'n3': [3, 2, 4]}\n",
    "sorted_dict={key:sorted(value) for key,value in num.items()}\n",
    "print(sorted_dict)\n",
    "\n"
   ]
  },
  {
   "cell_type": "code",
   "execution_count": null,
   "metadata": {},
   "outputs": [
    {
     "name": "stdout",
     "output_type": "stream",
     "text": [
      "{'n2', 'n1', 'n3'}\n",
      "{'n2', 'n1', 'n3'}\n"
     ]
    }
   ],
   "source": [
    "#29. \n",
    "num = {'n 1': [2, 3, 1], 'n 2': [5, 1, 2], 'n 3': [3, 2, 4]}\n",
    "cleaned_dict={key.replace(\" \",\"\")for key,value in num.items()}\n",
    "print(cleaned_dict)\n",
    "\n",
    "#METOD 2\n",
    "num = {'n 1': [2, 3, 1], 'n 2': [5, 1, 2], 'n 3': [3, 2, 4]}\n",
    "cleaned_dict={key.translate({32:None}) for key,value in num.items()}\n",
    "print(cleaned_dict)"
   ]
  },
  {
   "cell_type": "code",
   "execution_count": 4,
   "metadata": {},
   "outputs": [
    {
     "name": "stdout",
     "output_type": "stream",
     "text": [
      "banan 25\n",
      "portağal 20\n",
      "alma 15\n"
     ]
    }
   ],
   "source": [
    "#30.\n",
    "from operator import itemgetter\n",
    "import heapq\n",
    "shop_items = {\n",
    "    'alma': 15,\n",
    "    'banan': 25,\n",
    "    'armud': 10,\n",
    "    'portağal': 20,\n",
    "    'kivi': 5\n",
    "} \n",
    "top_three=heapq.nlargest(3,shop_items.items(),key=itemgetter(1))\n",
    "for item,value in top_three:\n",
    "    print(item,value)"
   ]
  },
  {
   "cell_type": "code",
   "execution_count": 13,
   "metadata": {},
   "outputs": [
    {
     "name": "stdout",
     "output_type": "stream",
     "text": [
      "1 10 1\n",
      "2 20 2\n",
      "3 30 3\n",
      "4 40 4\n",
      "5 50 5\n",
      "6 60 6\n"
     ]
    }
   ],
   "source": [
    "#31.\n",
    "dict_num = {1: 10, 2: 20, 3: 30, 4: 40, 5: 50, 6: 60} \n",
    "for i,(key,value) in enumerate(dict_num.items(),1):\n",
    "    print(key,value,i)\n"
   ]
  },
  {
   "cell_type": "code",
   "execution_count": 22,
   "metadata": {},
   "outputs": [
    {
     "name": "stdout",
     "output_type": "stream",
     "text": [
      "Aex\n",
      "class V\n",
      "roll_id 2\n",
      "Puja\n",
      "class V\n",
      "roll_id 3\n"
     ]
    }
   ],
   "source": [
    "#32. \n",
    "students = {'Aex': {'class': 'V', 'roll_id': 2}, \n",
    "            'Puja': {'class': 'V', 'roll_id': 3}}\n",
    "for name in students:\n",
    "    print(name)\n",
    "    for values in students[name]:\n",
    "        print(values,students[name][values])"
   ]
  },
  {
   "cell_type": "code",
   "execution_count": 26,
   "metadata": {},
   "outputs": [
    {
     "name": "stdout",
     "output_type": "stream",
     "text": [
      "False\n",
      "True\n"
     ]
    }
   ],
   "source": [
    "#33. \n",
    "student = {\n",
    "  'name': 'Alex',\n",
    "  'class': 'V',\n",
    "  'roll_id': '2'\n",
    "}\n",
    "print(student.keys()>={'name','Alex'})\n",
    "print(student.keys()>={'name','roll_id'})\n"
   ]
  },
  {
   "cell_type": "code",
   "execution_count": 29,
   "metadata": {},
   "outputs": [
    {
     "name": "stdout",
     "output_type": "stream",
     "text": [
      "5\n"
     ]
    }
   ],
   "source": [
    "#34. \n",
    "dict =  {'Alex': ['subj1', 'subj2', 'subj3'], 'David': ['subj1', 'subj2']} \n",
    "k=sum(map(len,dict.values()))\n",
    "print(k)"
   ]
  },
  {
   "cell_type": "code",
   "execution_count": 37,
   "metadata": {},
   "outputs": [
    {
     "name": "stdout",
     "output_type": "stream",
     "text": [
      "[('Chemistry', 87), ('Physics', 83), ('Math', 81)]\n",
      "Counter({'Chemistry': 87, 'Physics': 83, 'Math': 81})\n"
     ]
    }
   ],
   "source": [
    "#35. \n",
    "from collections import Counter\n",
    "z=Counter({'Math': 81, 'Physics': 83, 'Chemistry': 87})\n",
    "print(z.most_common())\n",
    "print(z)\n"
   ]
  },
  {
   "cell_type": "code",
   "execution_count": null,
   "metadata": {},
   "outputs": [],
   "source": [
    "#36. \n",
    "Sample_lists= ['Class-V', 'Class-VI', 'Class-VII', 'Class-VIII'], [1, 2, 2, 3]\n",
    "#????????????"
   ]
  },
  {
   "cell_type": "code",
   "execution_count": 41,
   "metadata": {},
   "outputs": [
    {
     "name": "stdout",
     "output_type": "stream",
     "text": [
      "{'id': 1, 'subject': 'math', 'V+VI': 76.0}\n",
      "{'id': 2, 'subject': 'math', 'V+VI': 73.5}\n",
      "{'id': 3, 'subject': 'math', 'V+VI': 80.5}\n"
     ]
    }
   ],
   "source": [
    "#37. \n",
    "student_details = [\n",
    "  {'id': 1, 'subject': 'math', 'V': 70, 'VI': 82},\n",
    "  {'id': 2, 'subject': 'math', 'V': 73, 'VI': 74},\n",
    "  {'id': 3, 'subject': 'math', 'V': 75, 'VI': 86}\n",
    "]\n",
    "for i in student_details:\n",
    "    n1=i.pop('V')\n",
    "    n2=i.pop('VI')\n",
    "    i['V+VI']=(n1+n2)/2  \n",
    "    print(i)  "
   ]
  },
  {
   "cell_type": "code",
   "execution_count": 46,
   "metadata": {},
   "outputs": [
    {
     "name": "stdout",
     "output_type": "stream",
     "text": [
      "{('key1', 1)} IS PRESENT BOTH\n"
     ]
    }
   ],
   "source": [
    "#38. \n",
    "x = {'key1': 1, 'key2': 3, 'key3': 2}\n",
    "y = {'key1': 1, 'key2': 2}\n",
    "common_keys=set(x.items()) & set(y.items())\n",
    "print(common_keys,\"IS PRESENT BOTH\")"
   ]
  },
  {
   "cell_type": "code",
   "execution_count": null,
   "metadata": {},
   "outputs": [
    {
     "name": "stdout",
     "output_type": "stream",
     "text": [
      "15\n",
      "25\n",
      "35\n"
     ]
    }
   ],
   "source": [
    "#40. \n",
    "a={\n",
    "    'x': [11, 12, 13, 14, 15, 16, 17, 18, 19],\n",
    "    'y': [21, 22, 23, 24, 25, 26, 27, 28, 29],\n",
    "    'z': [31, 32, 33, 34, 35, 36, 37, 38, 39]\n",
    "}\n",
    "for i in a.values():\n",
    "    print(i[4])"
   ]
  },
  {
   "cell_type": "code",
   "execution_count": 55,
   "metadata": {},
   "outputs": [
    {
     "name": "stdout",
     "output_type": "stream",
     "text": [
      "{'c1': 'Red', 'c2': 'Green'}\n"
     ]
    }
   ],
   "source": [
    "#41. \n",
    "o={'c1': 'Red', 'c2': 'Green', 'c3': None}\n",
    "clean_o={k: v for k,v in o.items() if v}\n",
    "print(clean_o)"
   ]
  },
  {
   "cell_type": "code",
   "execution_count": 66,
   "metadata": {},
   "outputs": [
    {
     "name": "stdout",
     "output_type": "stream",
     "text": [
      "{'Cierra Vega': 175, 'Alden Cantrell': 180, 'Pierre Cox': 190}\n"
     ]
    }
   ],
   "source": [
    "#42. \n",
    "Original_Dictionary={'Cierra Vega': 175, 'Alden Cantrell': 180, 'Kierra Gentry': 165, 'Pierre Cox': 190}\n",
    "cl={k: v for k,v in Original_Dictionary.items() if v >170}\n",
    "print(cl)"
   ]
  },
  {
   "cell_type": "code",
   "execution_count": null,
   "metadata": {},
   "outputs": [
    {
     "name": "stdout",
     "output_type": "stream",
     "text": [
      "S5 a5 h5 i5 b5  5 "
     ]
    }
   ],
   "source": [
    "#43. \n",
    "x=\"Sahib \"\n",
    "for i in x:\n",
    "    print(i,end=\"5 \")\n"
   ]
  },
  {
   "cell_type": "code",
   "execution_count": null,
   "metadata": {},
   "outputs": [
    {
     "name": "stdout",
     "output_type": "stream",
     "text": [
      "pervin\n",
      "pervin\n",
      "pervin\n",
      "pervin\n",
      "pervin\n",
      "pervin\n",
      "pervin\n",
      "pervin\n",
      "pervin\n",
      "pervin\n",
      "pervin\n",
      "pervin\n",
      "pervin\n",
      "pervin\n",
      "pervin\n",
      "pervin\n",
      "pervin\n",
      "pervin\n",
      "pervin\n",
      "pervin\n",
      "pervin\n",
      "pervin\n",
      "pervin\n",
      "pervin\n",
      "pervin\n",
      "pervin\n",
      "pervin\n",
      "pervin\n",
      "pervin\n",
      "pervin\n",
      "pervin\n",
      "pervin\n",
      "pervin\n",
      "pervin\n",
      "pervin\n",
      "pervin\n"
     ]
    }
   ],
   "source": []
  },
  {
   "cell_type": "code",
   "execution_count": null,
   "metadata": {},
   "outputs": [],
   "source": []
  }
 ],
 "metadata": {
  "kernelspec": {
   "display_name": "Python 3",
   "language": "python",
   "name": "python3"
  },
  "language_info": {
   "codemirror_mode": {
    "name": "ipython",
    "version": 3
   },
   "file_extension": ".py",
   "mimetype": "text/x-python",
   "name": "python",
   "nbconvert_exporter": "python",
   "pygments_lexer": "ipython3",
   "version": "3.13.2"
  }
 },
 "nbformat": 4,
 "nbformat_minor": 2
}
