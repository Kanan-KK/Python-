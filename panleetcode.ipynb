{
 "cells": [
  {
   "cell_type": "code",
   "execution_count": null,
   "id": "5a8654e7",
   "metadata": {},
   "outputs": [
    {
     "name": "stdout",
     "output_type": "stream",
     "text": [
      "          name continent     area  population\n",
      "0  Afghanistan      Asia   652230    25500100\n",
      "2      Algeria    Africa  2381741    37100000\n"
     ]
    }
   ],
   "source": [
    "#Big Countries \n",
    "import pandas as pd\n",
    "world=pd.read_csv('countries.csv')\n",
    "result=world[(world['area']>=3000000) | (world['population']>=25000000)][['name','continent','area','population']]\n",
    "df=pd.DataFrame(result)\n",
    "print(df)"
   ]
  },
  {
   "cell_type": "code",
   "execution_count": null,
   "id": "ae623aea",
   "metadata": {},
   "outputs": [
    {
     "name": "stdout",
     "output_type": "stream",
     "text": [
      "   product_id low_fats recyclable\n",
      "1           1        Y          Y\n",
      "3           3        Y          Y\n"
     ]
    }
   ],
   "source": [
    "#Recycable and Low fats products\n",
    "import pandas as pd \n",
    "product=pd.read_csv('mydata.csv')\n",
    "result=product[(product['low_fats']==\"Y\") & (product['recyclable']=='Y')]\n",
    "print(result)\n"
   ]
  },
  {
   "cell_type": "code",
   "execution_count": 11,
   "id": "e33dcecf",
   "metadata": {},
   "outputs": [
    {
     "name": "stdout",
     "output_type": "stream",
     "text": [
      "   id   name\n",
      "1   2  Henry\n",
      "3   4    Max\n"
     ]
    }
   ],
   "source": [
    "#Customers Who Never Order \n",
    "import pandas as pd \n",
    "customers=pd.read_csv('customers.csv')\n",
    "orders=pd.read_csv('orders.csv')\n",
    "df=customers[~customers['id'].isin(orders['customerId'])]\n",
    "print(df)"
   ]
  },
  {
   "cell_type": "code",
   "execution_count": 16,
   "id": "943d0b15",
   "metadata": {},
   "outputs": [
    {
     "name": "stdout",
     "output_type": "stream",
     "text": [
      "2    7\n",
      "5    4\n",
      "6    4\n",
      "Name: author_id, dtype: int64\n"
     ]
    }
   ],
   "source": [
    "#Article Wiev I\n",
    "import pandas as pd\n",
    "view=pd.read_csv('articel.csv')\n",
    "result=view[view['author_id']==(view['viewer_id'])]\n",
    "print(result['author_id'])"
   ]
  },
  {
   "cell_type": "code",
   "execution_count": 22,
   "id": "f2e2cfc1",
   "metadata": {},
   "outputs": [
    {
     "name": "stdout",
     "output_type": "stream",
     "text": [
      "   tweet_id                            content\n",
      "1         2  More than fifteen chars are here!\n"
     ]
    }
   ],
   "source": [
    "#Inwalid tweets \n",
    "import pandas as pd \n",
    "tweets=pd.read_csv('mydata.csv')\n",
    "df=tweets[tweets['content'].apply(len)>11]\n",
    "print(df)"
   ]
  },
  {
   "cell_type": "code",
   "execution_count": 26,
   "id": "4a869047",
   "metadata": {},
   "outputs": [
    {
     "name": "stdout",
     "output_type": "stream",
     "text": [
      "   employee_id     name  salary\n",
      "2            7  Addilyn    7400\n",
      "4            9   Kannon    7700\n"
     ]
    }
   ],
   "source": [
    "#Calculate Special Bonus \n",
    "import pandas as pd \n",
    "salary=pd.read_csv('mydata.csv')\n",
    "df=salary[~salary['name'].str.startswith(\"M\") &(salary['employee_id'])%2==1]\n",
    "print(df)\n"
   ]
  },
  {
   "cell_type": "code",
   "execution_count": 32,
   "id": "d5b9d3de",
   "metadata": {},
   "outputs": [
    {
     "name": "stdout",
     "output_type": "stream",
     "text": [
      "   user_id   name\n",
      "0        1  AlICE\n",
      "1        2    Bob\n"
     ]
    }
   ],
   "source": [
    "#Fixed Names in Table \n",
    "import pandas as pd \n",
    "users=pd.read_csv('mydata.csv')\n",
    "df=pd.DataFrame(users)\n",
    "df['name']=df['name'].str.swapcase()\n",
    "print(df)"
   ]
  },
  {
   "cell_type": "code",
   "execution_count": 24,
   "id": "d40f93c4",
   "metadata": {},
   "outputs": [
    {
     "name": "stdout",
     "output_type": "stream",
     "text": [
      "   user_id       name                     mail\n",
      "0        1    Winston     winston@leetcode.com\n",
      "2        3  Annabelle      bella-@leetcode.com\n",
      "3        4      Sally  sally.come@leetcode.com\n"
     ]
    }
   ],
   "source": [
    "#Find Users With Valid E-mails\n",
    "import pandas as pd\n",
    "import re\n",
    "pattern=(r'^[A-Za-z][A-Za-z0-9_\\.\\-]*@leetcode.com$')\n",
    "user=pd.read_csv('mydata.csv')\n",
    "user=user[user['mail'].str.match(pattern)]\n",
    "print(user)"
   ]
  },
  {
   "cell_type": "code",
   "execution_count": 9,
   "id": "13ee5fbe",
   "metadata": {},
   "outputs": [
    {
     "name": "stdout",
     "output_type": "stream",
     "text": [
      "   patient_id patient_name    conditions\n",
      "2           3          Bob  DIAB100 MYOP\n",
      "3           4       George  ACNE DIAB100\n"
     ]
    }
   ],
   "source": [
    "#Patient WIth a Condition \n",
    "import pandas as pd \n",
    "df=pd.read_csv('mydata.csv')\n",
    "True_rows=df[df['conditions'].str.contains('DIAB1',na=False)]\n",
    "print(True_rows)\n"
   ]
  },
  {
   "cell_type": "code",
   "execution_count": 9,
   "id": "fcd6e9bc",
   "metadata": {},
   "outputs": [
    {
     "name": "stdout",
     "output_type": "stream",
     "text": [
      "200\n"
     ]
    }
   ],
   "source": [
    "#Nth Highest Salary \n",
    "import pandas as pd \n",
    "data=pd.read_csv('mydata.csv')\n",
    "df=pd.DataFrame(data)\n",
    "unique_salary=df['salary'].drop_duplicates().sort_values(ascending=False)\n",
    "second_salary=unique_salary.iloc[1] if len(unique_salary) > 1 else None\n",
    "print(second_salary)"
   ]
  },
  {
   "cell_type": "code",
   "execution_count": 14,
   "id": "d90520c4",
   "metadata": {},
   "outputs": [
    {
     "name": "stdout",
     "output_type": "stream",
     "text": [
      "None\n"
     ]
    }
   ],
   "source": [
    "#Second Highest Salary \n",
    "import pandas as pd \n",
    "data=pd.read_csv('mydata.csv')\n",
    "df=pd.DataFrame(data)\n",
    "unique_salary=df['salary'].drop_duplicates().sort_values(ascending=False)\n",
    "second_salary=unique_salary.iloc[1] if len(unique_salary) > 1 else None\n",
    "print(second_salary)"
   ]
  },
  {
   "cell_type": "code",
   "execution_count": 33,
   "id": "8ebfd061",
   "metadata": {},
   "outputs": [],
   "source": [
    "#Departament Highest Salary\n",
    "#??????????????????????????????????????????????????"
   ]
  },
  {
   "cell_type": "code",
   "execution_count": 53,
   "id": "dea06650",
   "metadata": {},
   "outputs": [
    {
     "name": "stdout",
     "output_type": "stream",
     "text": [
      "   id  score  rank\n",
      "4   5   4.00   1.0\n",
      "2   3   4.00   1.0\n",
      "3   4   3.85   2.0\n",
      "1   2   3.65   3.0\n",
      "5   6   3.65   3.0\n",
      "0   1   3.50   4.0\n"
     ]
    }
   ],
   "source": [
    "#Ranked Scores \n",
    "import pandas as pd \n",
    "data=pd.read_csv('mydata.csv')\n",
    "df=pd.DataFrame(data)\n",
    "df['rank']=df['score'].rank(method='dense',ascending=False)\n",
    "df=df.sort_values('score',ascending=False)\n",
    "print(df)"
   ]
  },
  {
   "cell_type": "code",
   "execution_count": 59,
   "id": "2088c7c2",
   "metadata": {},
   "outputs": [
    {
     "name": "stdout",
     "output_type": "stream",
     "text": [
      "0    john@example.com\n",
      "1     bob@example.com\n",
      "Name: email, dtype: object\n"
     ]
    }
   ],
   "source": [
    "#Delete Duplicate Emails\n",
    "import pandas as pd \n",
    "data=pd.read_csv('mydata.csv')\n",
    "df=pd.DataFrame(data)\n",
    "df=df['email'].drop_duplicates()\n",
    "print(df)\n"
   ]
  },
  {
   "cell_type": "code",
   "execution_count": 73,
   "id": "0aeb64a0",
   "metadata": {},
   "outputs": [
    {
     "name": "stdout",
     "output_type": "stream",
     "text": [
      "   product_id   store  price\n",
      "0           0  store1   95.0\n",
      "1           1  store1   70.0\n",
      "2           0  store2  100.0\n",
      "4           0  store3  105.0\n",
      "5           1  store3   80.0\n"
     ]
    }
   ],
   "source": [
    "#Rearrenge Products Table\n",
    "import pandas as pd \n",
    "data=pd.read_csv('mydata.csv')\n",
    "df=pd.DataFrame(data)\n",
    "df=pd.melt(df,id_vars=['product_id'],var_name='store',value_name='price')\n",
    "df=df.dropna()\n",
    "print(df)\n"
   ]
  },
  {
   "cell_type": "code",
   "execution_count": null,
   "id": "5a36aa84",
   "metadata": {},
   "outputs": [],
   "source": []
  },
  {
   "cell_type": "code",
   "execution_count": null,
   "id": "2410fb97",
   "metadata": {},
   "outputs": [],
   "source": []
  }
 ],
 "metadata": {
  "kernelspec": {
   "display_name": "Python 3",
   "language": "python",
   "name": "python3"
  },
  "language_info": {
   "codemirror_mode": {
    "name": "ipython",
    "version": 3
   },
   "file_extension": ".py",
   "mimetype": "text/x-python",
   "name": "python",
   "nbconvert_exporter": "python",
   "pygments_lexer": "ipython3",
   "version": "3.13.2"
  }
 },
 "nbformat": 4,
 "nbformat_minor": 5
}
