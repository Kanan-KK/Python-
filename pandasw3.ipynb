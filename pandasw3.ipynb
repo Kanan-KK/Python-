{
 "cells": [
  {
   "cell_type": "code",
   "execution_count": 79,
   "id": "0c7bdd9b",
   "metadata": {},
   "outputs": [
    {
     "name": "stdout",
     "output_type": "stream",
     "text": [
      "   Unnamed: 0  col1  col2   col3\n",
      "0           0    20     40    60\n",
      "1           1    30     50    80\n",
      "2           2    40     60   100\n"
     ]
    }
   ],
   "source": [
    "import pandas as pd \n",
    "x=\"data.csv\"\n",
    "df=pd.read_csv(x)\n",
    "print(df)\n"
   ]
  },
  {
   "cell_type": "code",
   "execution_count": 80,
   "id": "d36c671a",
   "metadata": {},
   "outputs": [
    {
     "name": "stdout",
     "output_type": "stream",
     "text": [
      "      Name  Age  Salary\n",
      "1   Sutton   32   60000\n",
      "3  Ravshan   31   70000\n",
      "4     Ross   28   55000\n"
     ]
    }
   ],
   "source": [
    "#3. \n",
    "import pandas as pd \n",
    "data = {'Name': ['Teodosija', 'Sutton', 'Taneli', 'Ravshan', 'Ross'],\n",
    "        'Age': [26, 32, 25, 31, 28],\n",
    "        'Salary': [50000, 60000, 45000, 70000, 55000]}\n",
    "df=pd.DataFrame(data)\n",
    "rows=df[(df[\"Age\"]>25) & (df[\"Salary\"]>50000)]\n",
    "print(rows)"
   ]
  },
  {
   "cell_type": "code",
   "execution_count": 15,
   "id": "a8e36322",
   "metadata": {},
   "outputs": [
    {
     "name": "stdout",
     "output_type": "stream",
     "text": [
      "        Name  Age  Salary\n",
      "0  Teodosija   26   50000\n",
      "1     Sutton   32   60000\n",
      "2     Taneli   25   45000\n",
      "3    Ravshan   31   70000\n",
      "4       Ross   28   55000\n",
      "5  Teodosija   26   61000\n",
      "6     Sutton   32   65555\n"
     ]
    }
   ],
   "source": [
    "#4. \n",
    "import pandas as pd \n",
    "data= {'Name': ['Teodosija', 'Sutton', 'Taneli', 'Ravshan', 'Ross','Teodosija', 'Sutton', 'Taneli','Teodosija', 'Sutton', 'Taneli'],\n",
    "        'Age': [26, 32, 25, 31, 28,26, 32, 25,26, 32, 25],\n",
    "        'Salary': [50000, 60000, 45000, 70000, 55000,61000,65555,50000, 60000, 45000, 70000]}\n",
    "df=pd.DataFrame(data)\n",
    "print(df.head(7))"
   ]
  },
  {
   "cell_type": "code",
   "execution_count": 20,
   "id": "a56dd77b",
   "metadata": {},
   "outputs": [
    {
     "name": "stdout",
     "output_type": "stream",
     "text": [
      "      Name  Age  Salary\n",
      "1   Sutton   32   60000\n",
      "3  Ravshan   31   70000\n"
     ]
    }
   ],
   "source": [
    "#5. \n",
    "import pandas as pd \n",
    "data={'Name': ['Teodosija', 'Sutton', 'Taneli', 'Ravshan', 'Ross'],\n",
    "        'Age': [26, 32, 25, 31, 28],\n",
    "        'Salary': [50000, 60000, 45000, 70000, 55000]}\n",
    "df=pd.DataFrame(data)\n",
    "filter_df=df[df[\"Salary\"]>55000]\n",
    "print(filter_df)"
   ]
  },
  {
   "cell_type": "code",
   "execution_count": 22,
   "id": "5d298746",
   "metadata": {},
   "outputs": [
    {
     "name": "stdout",
     "output_type": "stream",
     "text": [
      "0    52\n",
      "1    64\n",
      "2    50\n",
      "3    62\n",
      "4    56\n",
      "Name: Age, dtype: int64\n"
     ]
    }
   ],
   "source": [
    "#6.\n",
    "import pandas as pd \n",
    "import numpy as np \n",
    "data={'Name': ['Teodosija', 'Sutton', 'Taneli', 'Ravshan', 'Ross'],\n",
    "        'Age': [26, 32, 25, 31, 28],\n",
    "        'Salary': [50000, 60000, 45000, 70000, 55000]}\n",
    "df=pd.DataFrame(data) \n",
    "new_column=df[\"2Age\"]=np.multiply(df[\"Age\"],2)\n",
    "print(new_column)\n"
   ]
  },
  {
   "cell_type": "code",
   "execution_count": 25,
   "id": "7faac7e3",
   "metadata": {},
   "outputs": [
    {
     "data": {
      "text/html": [
       "<div>\n",
       "<style scoped>\n",
       "    .dataframe tbody tr th:only-of-type {\n",
       "        vertical-align: middle;\n",
       "    }\n",
       "\n",
       "    .dataframe tbody tr th {\n",
       "        vertical-align: top;\n",
       "    }\n",
       "\n",
       "    .dataframe thead th {\n",
       "        text-align: right;\n",
       "    }\n",
       "</style>\n",
       "<table border=\"1\" class=\"dataframe\">\n",
       "  <thead>\n",
       "    <tr style=\"text-align: right;\">\n",
       "      <th></th>\n",
       "      <th>id</th>\n",
       "      <th>name_x</th>\n",
       "      <th>age_x</th>\n",
       "      <th>name_y</th>\n",
       "      <th>age_y</th>\n",
       "    </tr>\n",
       "  </thead>\n",
       "  <tbody>\n",
       "    <tr>\n",
       "      <th>0</th>\n",
       "      <td>1</td>\n",
       "      <td>Ali</td>\n",
       "      <td>25</td>\n",
       "      <td>Ali</td>\n",
       "      <td>25</td>\n",
       "    </tr>\n",
       "    <tr>\n",
       "      <th>1</th>\n",
       "      <td>2</td>\n",
       "      <td>Veli</td>\n",
       "      <td>30</td>\n",
       "      <td>Veli</td>\n",
       "      <td>30</td>\n",
       "    </tr>\n",
       "    <tr>\n",
       "      <th>2</th>\n",
       "      <td>3</td>\n",
       "      <td>Ayşe</td>\n",
       "      <td>22</td>\n",
       "      <td>Ayşe</td>\n",
       "      <td>22</td>\n",
       "    </tr>\n",
       "  </tbody>\n",
       "</table>\n",
       "</div>"
      ],
      "text/plain": [
       "   id name_x  age_x name_y  age_y\n",
       "0   1    Ali     25    Ali     25\n",
       "1   2   Veli     30   Veli     30\n",
       "2   3   Ayşe     22   Ayşe     22"
      ]
     },
     "execution_count": 25,
     "metadata": {},
     "output_type": "execute_result"
    }
   ],
   "source": [
    "#7. \n",
    "import pandas as pd \n",
    "data1={\n",
    "    'id': [1, 2, 3],\n",
    "    'name': ['Ali', 'Veli', 'Ayşe'],\n",
    "    'age': [25, 30, 22]\n",
    "}\n",
    "data2={\n",
    "    'id': [1, 2, 3],\n",
    "    'name': ['Ali', 'Veli', 'Ayşe'],\n",
    "    'age': [25, 30, 22]\n",
    "}\n",
    "df1=pd.DataFrame(data1)\n",
    "df2=pd.DataFrame(data2)\n",
    "pd.merge(df1,df2,on='id',how=\"inner\")\n"
   ]
  },
  {
   "cell_type": "code",
   "execution_count": 34,
   "id": "f38f02cd",
   "metadata": {},
   "outputs": [
    {
     "name": "stdout",
     "output_type": "stream",
     "text": [
      "Category\n",
      "A    900\n",
      "B    600\n",
      "C    600\n",
      "Name: Values, dtype: int64\n"
     ]
    }
   ],
   "source": [
    "#13. \n",
    "data = {'Category': ['A', 'B', 'A', 'B', 'A', 'C'],\n",
    "        'Values': [100, 200, 300, 400, 500, 600]}\n",
    "df=pd.DataFrame(data)\n",
    "new_data=df.groupby('Category')['Values'].sum()\n",
    "print(new_data)"
   ]
  },
  {
   "cell_type": "code",
   "execution_count": 48,
   "id": "f824ed06",
   "metadata": {},
   "outputs": [
    {
     "name": "stdout",
     "output_type": "stream",
     "text": [
      "    Duration  Pulse    Maxpulse  Calories\n",
      "0       60.0  110.0  130.000000     409.0\n",
      "1       60.0  117.0  145.000000     479.0\n",
      "2       60.0  103.0  135.000000     375.2\n",
      "3       45.0  109.8  175.000000     375.2\n",
      "4       45.0  109.8  148.000000     406.0\n",
      "5       60.0  102.0  127.000000     300.0\n",
      "34      55.0  117.0  143.333333     375.2\n",
      "23      55.0  109.8  143.333333     282.0\n"
     ]
    }
   ],
   "source": [
    "#15.\n",
    "import pandas as pd \n",
    "data = {\n",
    "  \"Duration\":{\n",
    "    \"0\":60,\n",
    "    \"1\":60,\n",
    "    \"2\":60,\n",
    "    \"3\":45,\n",
    "    \"4\":45,\n",
    "    \"5\":60\n",
    "  },\n",
    "  \"Pulse\":{\n",
    "    \"0\":110,\n",
    "    \"1\":117,\n",
    "    \"2\":103,\n",
    "    \"3\"\n",
    "    \"4\":117,\n",
    "    \"5\":102\n",
    "  },\n",
    "  \"Maxpulse\":{\n",
    "    \"0\":130,\n",
    "    \"1\":145,\n",
    "    \"2\":135,\n",
    "    \"3\":175,\n",
    "    \"4\":148,\n",
    "    \"5\":127\n",
    "  },\n",
    "  \"Calories\":{\n",
    "    \"0\":409,\n",
    "    \"1\":479,\n",
    "    \"2\"\n",
    "    \"3\":282,\n",
    "    \"4\":406,\n",
    "    \"5\":300\n",
    "  }\n",
    "}\n",
    "df=pd.DataFrame(data)\n",
    "df.fillna(df.mean(numeric_only=True),inplace=True)\n",
    "print(df)"
   ]
  },
  {
   "cell_type": "code",
   "execution_count": 49,
   "id": "edbe0d5d",
   "metadata": {},
   "outputs": [
    {
     "name": "stdout",
     "output_type": "stream",
     "text": [
      "       Name  Age  Salary\n",
      "0      Ross   25   50000\n",
      "1       Bob   30   50000\n",
      "3  Geoffrey   25   45000\n",
      "4       Bob   30   60000\n"
     ]
    }
   ],
   "source": [
    "#17. \n",
    "import pandas as pd \n",
    "data = {'Name': ['Ross', 'Bob', 'Ross', 'Geoffrey', 'Bob'],\n",
    "        'Age': [25, 30, 25, 25, 30],\n",
    "        'Salary': [50000, 50000, 50000, 45000, 60000]}\n",
    "df=pd.DataFrame(data)\n",
    "no_duplicates=df.drop_duplicates()\n",
    "print(no_duplicates)"
   ]
  },
  {
   "cell_type": "code",
   "execution_count": 50,
   "id": "d8b129a4",
   "metadata": {},
   "outputs": [
    {
     "name": "stdout",
     "output_type": "stream",
     "text": [
      "       Name  Age  Salary\n",
      "0      Ross   25   50000\n",
      "1       Bob   30   50000\n",
      "3  Geoffrey   25   45000\n",
      "4       Bob   30   60000\n"
     ]
    }
   ],
   "source": [
    "#18. \n",
    "import pandas as pd \n",
    "data = {'Name': ['Ross', 'Bob', 'Ross', 'Geoffrey', 'Bob'],\n",
    "        'Age': [25, 30, 25, 25, 30],\n",
    "        'Salary': [50000, 50000, 50000, 45000, 60000]}\n",
    "df=pd.DataFrame(data)\n",
    "no_duplicates=df.drop_duplicates()\n",
    "print(no_duplicates)"
   ]
  },
  {
   "cell_type": "code",
   "execution_count": 51,
   "id": "c8986dac",
   "metadata": {},
   "outputs": [
    {
     "data": {
      "text/html": [
       "<div>\n",
       "<style scoped>\n",
       "    .dataframe tbody tr th:only-of-type {\n",
       "        vertical-align: middle;\n",
       "    }\n",
       "\n",
       "    .dataframe tbody tr th {\n",
       "        vertical-align: top;\n",
       "    }\n",
       "\n",
       "    .dataframe thead th {\n",
       "        text-align: right;\n",
       "    }\n",
       "</style>\n",
       "<table border=\"1\" class=\"dataframe\">\n",
       "  <thead>\n",
       "    <tr style=\"text-align: right;\">\n",
       "      <th></th>\n",
       "      <th>Name</th>\n",
       "      <th>Age</th>\n",
       "      <th>Salary</th>\n",
       "    </tr>\n",
       "  </thead>\n",
       "  <tbody>\n",
       "    <tr>\n",
       "      <th>4</th>\n",
       "      <td>Bob</td>\n",
       "      <td>30</td>\n",
       "      <td>60000</td>\n",
       "    </tr>\n",
       "    <tr>\n",
       "      <th>0</th>\n",
       "      <td>Ross</td>\n",
       "      <td>25</td>\n",
       "      <td>50000</td>\n",
       "    </tr>\n",
       "    <tr>\n",
       "      <th>1</th>\n",
       "      <td>Bob</td>\n",
       "      <td>30</td>\n",
       "      <td>50000</td>\n",
       "    </tr>\n",
       "    <tr>\n",
       "      <th>2</th>\n",
       "      <td>Ross</td>\n",
       "      <td>25</td>\n",
       "      <td>50000</td>\n",
       "    </tr>\n",
       "    <tr>\n",
       "      <th>3</th>\n",
       "      <td>Geoffrey</td>\n",
       "      <td>25</td>\n",
       "      <td>45000</td>\n",
       "    </tr>\n",
       "  </tbody>\n",
       "</table>\n",
       "</div>"
      ],
      "text/plain": [
       "       Name  Age  Salary\n",
       "4       Bob   30   60000\n",
       "0      Ross   25   50000\n",
       "1       Bob   30   50000\n",
       "2      Ross   25   50000\n",
       "3  Geoffrey   25   45000"
      ]
     },
     "execution_count": 51,
     "metadata": {},
     "output_type": "execute_result"
    }
   ],
   "source": [
    "#28. \n",
    "import pandas as pd \n",
    "data={'Name': ['Ross', 'Bob', 'Ross', 'Geoffrey', 'Bob'],\n",
    "        'Age': [25, 30, 25, 25, 30],\n",
    "        'Salary': [50000, 50000, 50000, 45000, 60000]}\n",
    "df=pd.DataFrame(data)\n",
    "df.sort_values(by='Salary',ascending=False)\n"
   ]
  },
  {
   "cell_type": "code",
   "execution_count": 54,
   "id": "9b384bad",
   "metadata": {},
   "outputs": [
    {
     "name": "stdout",
     "output_type": "stream",
     "text": [
      "       Name  Age   Maas\n",
      "0      Ross   25  50000\n",
      "1       Bob   30  50000\n",
      "2      Ross   25  50000\n",
      "3  Geoffrey   25  45000\n",
      "4       Bob   30  60000\n"
     ]
    }
   ],
   "source": [
    "#30.\n",
    "import pandas as pd \n",
    "data={'Name': ['Ross', 'Bob', 'Ross', 'Geoffrey', 'Bob'],\n",
    "        'Age': [25, 30, 25, 25, 30],\n",
    "        'Salary': [50000, 50000, 50000, 45000, 60000]}\n",
    "df=pd.DataFrame(data)\n",
    "df.rename(columns={\"Salary\":\"Maas\"},inplace=True)\n",
    "print(df)"
   ]
  },
  {
   "cell_type": "code",
   "execution_count": 58,
   "id": "711afe15",
   "metadata": {},
   "outputs": [
    {
     "name": "stdout",
     "output_type": "stream",
     "text": [
      "       Name  Age  Salary\n",
      "0      Ross   25   50000\n",
      "1       Bob   30   50000\n",
      "2      Ross   25   50000\n",
      "3  Geoffrey   25   45000\n",
      "4       Bob   30   60000\n",
      "            0      1      2         3      4\n",
      "Name     Ross    Bob   Ross  Geoffrey    Bob\n",
      "Age        25     30     25        25     30\n",
      "Salary  50000  50000  50000     45000  60000\n"
     ]
    }
   ],
   "source": [
    "#31. \n",
    "import pandas as pd \n",
    "data={'Name': ['Ross', 'Bob', 'Ross', 'Geoffrey', 'Bob'],\n",
    "        'Age': [25, 30, 25, 25, 30],\n",
    "        'Salary': [50000, 50000, 50000, 45000, 60000]}\n",
    "df=pd.DataFrame(data)\n",
    "print(df)\n",
    "transpose_data=df.transpose()\n",
    "print(transpose_data)"
   ]
  },
  {
   "cell_type": "code",
   "execution_count": 70,
   "id": "5b83115c",
   "metadata": {},
   "outputs": [
    {
     "data": {
      "text/html": [
       "<div>\n",
       "<style scoped>\n",
       "    .dataframe tbody tr th:only-of-type {\n",
       "        vertical-align: middle;\n",
       "    }\n",
       "\n",
       "    .dataframe tbody tr th {\n",
       "        vertical-align: top;\n",
       "    }\n",
       "\n",
       "    .dataframe thead th {\n",
       "        text-align: right;\n",
       "    }\n",
       "</style>\n",
       "<table border=\"1\" class=\"dataframe\">\n",
       "  <thead>\n",
       "    <tr style=\"text-align: right;\">\n",
       "      <th></th>\n",
       "      <th>ortaq</th>\n",
       "      <th>ad</th>\n",
       "      <th>yaş</th>\n",
       "      <th>şəhər</th>\n",
       "      <th>maaş</th>\n",
       "      <th>vəzifə</th>\n",
       "      <th>təhsil</th>\n",
       "      <th>təcrübə</th>\n",
       "      <th>şöbə</th>\n",
       "    </tr>\n",
       "  </thead>\n",
       "  <tbody>\n",
       "    <tr>\n",
       "      <th>0</th>\n",
       "      <td>101</td>\n",
       "      <td>Aysel</td>\n",
       "      <td>25</td>\n",
       "      <td>Bakı</td>\n",
       "      <td>1200</td>\n",
       "      <td>Mühəndis</td>\n",
       "      <td>Magistr</td>\n",
       "      <td>3 il</td>\n",
       "      <td>İT</td>\n",
       "    </tr>\n",
       "    <tr>\n",
       "      <th>1</th>\n",
       "      <td>102</td>\n",
       "      <td>Murad</td>\n",
       "      <td>30</td>\n",
       "      <td>Gəncə</td>\n",
       "      <td>1500</td>\n",
       "      <td>Menecer</td>\n",
       "      <td>Bakalavr</td>\n",
       "      <td>5 il</td>\n",
       "      <td>Satis</td>\n",
       "    </tr>\n",
       "    <tr>\n",
       "      <th>2</th>\n",
       "      <td>105</td>\n",
       "      <td>Tunar</td>\n",
       "      <td>32</td>\n",
       "      <td>Lənkəran</td>\n",
       "      <td>1600</td>\n",
       "      <td>Direktor</td>\n",
       "      <td>Magistr</td>\n",
       "      <td>8 il</td>\n",
       "      <td>İdarəetmə</td>\n",
       "    </tr>\n",
       "  </tbody>\n",
       "</table>\n",
       "</div>"
      ],
      "text/plain": [
       "   ortaq     ad  yaş     şəhər  maaş    vəzifə    təhsil təcrübə       şöbə\n",
       "0    101  Aysel   25      Bakı  1200  Mühəndis   Magistr    3 il         İT\n",
       "1    102  Murad   30     Gəncə  1500   Menecer  Bakalavr    5 il      Satis\n",
       "2    105  Tunar   32  Lənkəran  1600  Direktor   Magistr    8 il  İdarəetmə"
      ]
     },
     "execution_count": 70,
     "metadata": {},
     "output_type": "execute_result"
    }
   ],
   "source": [
    "#32. \n",
    "import pandas as pd \n",
    "d1= {\n",
    "    \"ortaq\": [101, 102, 103, 104, 105],\n",
    "    \"ad\": [\"Aysel\", \"Murad\", \"Ramil\", \"Ləman\", \"Tunar\"],\n",
    "    \"yaş\": [25, 30, 28, 27, 32],\n",
    "    \"şəhər\": [\"Bakı\", \"Gəncə\", \"Sumqayit\", \"Şəki\", \"Lənkəran\"],\n",
    "    \"maaş\": [1200, 1500, 1300, 1400, 1600]\n",
    "}\n",
    "d2={\n",
    "    \"ortaq\": [101, 102, 106, 107, 105],\n",
    "    \"vəzifə\": [\"Mühəndis\", \"Menecer\", \"Analitik\", \"Texniki dəstək\", \"Direktor\"],\n",
    "    \"təhsil\": [\"Magistr\", \"Bakalavr\", \"Magistr\", \"Orta ixtisas\", \"Magistr\"],\n",
    "    \"təcrübə\": [\"3 il\", \"5 il\", \"2 il\", \"1 il\", \"8 il\"],\n",
    "    \"şöbə\": [\"İT\", \"Satis\", \"Marketinq\", \"Müştəri xidməti\", \"İdarəetmə\"]\n",
    "}\n",
    "df=pd.DataFrame(d1)\n",
    "df2=pd.DataFrame(d2)\n",
    "pd.merge(df,df2,on=\"ortaq\",how=\"inner\")"
   ]
  },
  {
   "cell_type": "code",
   "execution_count": null,
   "id": "a9f7db64",
   "metadata": {},
   "outputs": [
    {
     "data": {
      "text/html": [
       "<div>\n",
       "<style scoped>\n",
       "    .dataframe tbody tr th:only-of-type {\n",
       "        vertical-align: middle;\n",
       "    }\n",
       "\n",
       "    .dataframe tbody tr th {\n",
       "        vertical-align: top;\n",
       "    }\n",
       "\n",
       "    .dataframe thead tr th {\n",
       "        text-align: left;\n",
       "    }\n",
       "\n",
       "    .dataframe thead tr:last-of-type th {\n",
       "        text-align: right;\n",
       "    }\n",
       "</style>\n",
       "<table border=\"1\" class=\"dataframe\">\n",
       "  <thead>\n",
       "    <tr>\n",
       "      <th></th>\n",
       "      <th colspan=\"2\" halign=\"left\">Sales</th>\n",
       "      <th colspan=\"2\" halign=\"left\">Profit</th>\n",
       "    </tr>\n",
       "    <tr>\n",
       "      <th></th>\n",
       "      <th>sum</th>\n",
       "      <th>mean</th>\n",
       "      <th>sum</th>\n",
       "      <th>mean</th>\n",
       "    </tr>\n",
       "    <tr>\n",
       "      <th>Category</th>\n",
       "      <th></th>\n",
       "      <th></th>\n",
       "      <th></th>\n",
       "      <th></th>\n",
       "    </tr>\n",
       "  </thead>\n",
       "  <tbody>\n",
       "    <tr>\n",
       "      <th>A</th>\n",
       "      <td>250</td>\n",
       "      <td>125.0</td>\n",
       "      <td>25</td>\n",
       "      <td>12.5</td>\n",
       "    </tr>\n",
       "    <tr>\n",
       "      <th>B</th>\n",
       "      <td>450</td>\n",
       "      <td>225.0</td>\n",
       "      <td>45</td>\n",
       "      <td>22.5</td>\n",
       "    </tr>\n",
       "    <tr>\n",
       "      <th>C</th>\n",
       "      <td>650</td>\n",
       "      <td>325.0</td>\n",
       "      <td>65</td>\n",
       "      <td>32.5</td>\n",
       "    </tr>\n",
       "  </tbody>\n",
       "</table>\n",
       "</div>"
      ],
      "text/plain": [
       "         Sales        Profit      \n",
       "           sum   mean    sum  mean\n",
       "Category                          \n",
       "A          250  125.0     25  12.5\n",
       "B          450  225.0     45  22.5\n",
       "C          650  325.0     65  32.5"
      ]
     },
     "execution_count": 64,
     "metadata": {},
     "output_type": "execute_result"
    }
   ],
   "source": [
    "#33. \n",
    "import pandas as pd \n",
    "data = {\n",
    "    'Category': ['A', 'A', 'B', 'B', 'C', 'C'],\n",
    "    'Sales': [100, 150, 200, 250, 300, 350],\n",
    "    'Profit': [10, 15, 20, 25, 30, 35]\n",
    "}\n",
    "df=pd.DataFrame(data)\n",
    "df.groupby('Category').agg({\n",
    "    'Sales':[\"sum\",\"mean\"],\n",
    "    'Profit':[\"sum\",\"mean\"]\n",
    "}) \n"
   ]
  },
  {
   "cell_type": "code",
   "execution_count": 78,
   "id": "c60ae048",
   "metadata": {},
   "outputs": [
    {
     "name": "stdout",
     "output_type": "stream",
     "text": [
      "             DateTime  Year  Month  Day  Hour  Minute  Second\n",
      "0 2012-01-01 08:30:00  2012      1    1     8      30       0\n",
      "1 2012-01-02 12:45:00  2012      1    2    12      45       0\n",
      "2 2012-01-03 18:15:00  2012      1    3    18      15       0\n"
     ]
    }
   ],
   "source": [
    "#34. \n",
    "import pandas as pd \n",
    "data = {'DateTime': ['2012-01-01 08:30:00', '2012-01-02 12:45:00', '2012-01-03 18:15:00']}\n",
    "df = pd.DataFrame(data)\n",
    "df['DateTime']=pd.to_datetime(df['DateTime'])\n",
    "df['Year']=df['DateTime'].dt.year\n",
    "df['Month']=df['DateTime'].dt.month\n",
    "df['Day']=df['DateTime'].dt.day\n",
    "df['Hour']=df['DateTime'].dt.hour\n",
    "df['Minute']=df['DateTime'].dt.minute\n",
    "df['Second']=df['DateTime'].dt.second\n",
    "print(df)"
   ]
  },
  {
   "cell_type": "code",
   "execution_count": null,
   "id": "e6d10bb1",
   "metadata": {},
   "outputs": [],
   "source": []
  }
 ],
 "metadata": {
  "kernelspec": {
   "display_name": "Python 3",
   "language": "python",
   "name": "python3"
  },
  "language_info": {
   "codemirror_mode": {
    "name": "ipython",
    "version": 3
   },
   "file_extension": ".py",
   "mimetype": "text/x-python",
   "name": "python",
   "nbconvert_exporter": "python",
   "pygments_lexer": "ipython3",
   "version": "3.13.2"
  }
 },
 "nbformat": 4,
 "nbformat_minor": 5
}
