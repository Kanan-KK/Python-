{
 "cells": [
  {
   "cell_type": "code",
   "execution_count": null,
   "id": "f3066b3b",
   "metadata": {},
   "outputs": [
    {
     "name": "stdout",
     "output_type": "stream",
     "text": [
      "abc\n"
     ]
    }
   ],
   "source": [
    "#REGEX\n",
    "#     re.match(\"pattern\",\"string\")\n",
    "#Sətrin Başından uyğunluq axtarır.\n",
    "import re\n",
    "x=re.match(\"abc\",\"abc123\")\n",
    "print(x.group())"
   ]
  },
  {
   "cell_type": "code",
   "execution_count": 50,
   "id": "64abcb87",
   "metadata": {},
   "outputs": [
    {
     "name": "stdout",
     "output_type": "stream",
     "text": [
      "abc\n"
     ]
    }
   ],
   "source": [
    "#     re.search(\"pattern\",\"string\")\n",
    "#Sətirin istənilən hissəsində uyğunluq axtarır.\n",
    "import re\n",
    "x=re.search(r'abc','123abc')\n",
    "print(x.group())"
   ]
  },
  {
   "cell_type": "code",
   "execution_count": 58,
   "id": "8e2b9ba3",
   "metadata": {},
   "outputs": [
    {
     "name": "stdout",
     "output_type": "stream",
     "text": [
      "['a', 'b', 'c', '1', '2', '3', 'd', 'e', 'f', '4', '5', '6']\n"
     ]
    }
   ],
   "source": [
    "#       result = re.findall(r'abc', '123abc456')\n",
    "#  Verilən nümunəyə uyğun bütün hissələri tapır və siyahı qaytarır.\n",
    "import os\n",
    "x=re.findall(r\"\\w\",\"abc123def456\")\n",
    "print(x)"
   ]
  },
  {
   "cell_type": "code",
   "execution_count": 15,
   "id": "ef8e4c29",
   "metadata": {},
   "outputs": [
    {
     "name": "stdout",
     "output_type": "stream",
     "text": [
      "Python-Regular-Expression\n"
     ]
    }
   ],
   "source": [
    "#       re.sub(pattern,repl,string)\n",
    "#   Uyğun gələn hissələri başqa ilə əvəz edir.\n",
    "import re\n",
    "x=re.sub(r'\\s+','-',\"Python Regular Expression\")\n",
    "print(x)"
   ]
  },
  {
   "cell_type": "code",
   "execution_count": null,
   "id": "d4805b04",
   "metadata": {},
   "outputs": [],
   "source": [
    "#QUESTIONS REGEX\n"
   ]
  },
  {
   "cell_type": "code",
   "execution_count": 26,
   "id": "03ea6ef3",
   "metadata": {},
   "outputs": [
    {
     "name": "stdout",
     "output_type": "stream",
     "text": [
      "True\n"
     ]
    }
   ],
   "source": [
    "#1. \n",
    "import re\n",
    "def allow_chracter(s):\n",
    "    return bool(re.fullmatch(r\"[a-zA-Z0-9 ]+\",s))\n",
    "print(allow_chracter(\"Salam Bugun Hava 16 derecedir\"))\n",
    "\n"
   ]
  },
  {
   "cell_type": "code",
   "execution_count": 45,
   "id": "ecddaf2f",
   "metadata": {},
   "outputs": [
    {
     "name": "stdout",
     "output_type": "stream",
     "text": [
      "True\n",
      "False\n"
     ]
    }
   ],
   "source": [
    "#2.\n",
    "import re\n",
    "def txt(a):\n",
    "    pat='^a(b*)$'\n",
    "    if re.search(pat,a):\n",
    "        return True\n",
    "    else:\n",
    "        return False\n",
    "print(txt(\"ab\"))\n",
    "print(txt(\"abbc\"))\n"
   ]
  },
  {
   "cell_type": "code",
   "execution_count": null,
   "id": "079be5cc",
   "metadata": {},
   "outputs": [],
   "source": [
    "#3. \n",
    "import re\n",
    "def txt(a):\n",
    "    pat='^a(b)$'\n",
    "    if re.search(pat,a):\n",
    "        return True\n",
    "    else:\n",
    "        return False\n",
    "print(txt(\"ab\"))\n",
    "print(txt(\"abbc\"))"
   ]
  },
  {
   "cell_type": "code",
   "execution_count": 54,
   "id": "f233cac8",
   "metadata": {},
   "outputs": [
    {
     "name": "stdout",
     "output_type": "stream",
     "text": [
      "True\n"
     ]
    }
   ],
   "source": [
    "#4. \n",
    "import re\n",
    "def txt(a):\n",
    "    pat='ab?'\n",
    "    if re.search(pat,a):\n",
    "        return True\n",
    "    else:\n",
    "        return False\n",
    "print(txt(\"accb\"))"
   ]
  },
  {
   "cell_type": "code",
   "execution_count": 66,
   "id": "b28d402d",
   "metadata": {},
   "outputs": [
    {
     "name": "stdout",
     "output_type": "stream",
     "text": [
      "True\n",
      "False\n"
     ]
    }
   ],
   "source": [
    "#5 \n",
    "import re\n",
    "def txt(a):\n",
    "    pat='ab{3}'\n",
    "    if re.search(pat,a):\n",
    "        return True\n",
    "    else:\n",
    "        return False\n",
    "print(txt(\"abbb\"))\n",
    "print(txt(\"ab\"))"
   ]
  },
  {
   "cell_type": "code",
   "execution_count": 11,
   "id": "b530e3c9",
   "metadata": {},
   "outputs": [
    {
     "name": "stdout",
     "output_type": "stream",
     "text": [
      "True\n"
     ]
    }
   ],
   "source": [
    "#6. \n",
    "import re \n",
    "def text(a):\n",
    "    pat='ab{2,3}'\n",
    "    if re.search(pat,a):\n",
    "        return True\n",
    "    else:\n",
    "        return False\n",
    "print(text(\"abbbbb\"))\n"
   ]
  },
  {
   "cell_type": "code",
   "execution_count": 17,
   "id": "ab370c7c",
   "metadata": {},
   "outputs": [
    {
     "name": "stdout",
     "output_type": "stream",
     "text": [
      "True\n"
     ]
    }
   ],
   "source": [
    "#7. \n",
    "import re \n",
    "def text(a):\n",
    "    pat=\"^[a-z]+_[a-z]+$\"\n",
    "    if re.search(pat,a):\n",
    "        return True \n",
    "    else:\n",
    "        return False\n",
    "print(text(\"abb_aban\"))\n"
   ]
  },
  {
   "cell_type": "code",
   "execution_count": 38,
   "id": "848bcfb9",
   "metadata": {},
   "outputs": [
    {
     "name": "stdout",
     "output_type": "stream",
     "text": [
      "True\n",
      "False\n"
     ]
    }
   ],
   "source": [
    "#8. \n",
    "import re \n",
    "def text(a):\n",
    "    pat=\"[A-Z]+[a-z]+$\"\n",
    "    if re.search(pat,a):\n",
    "        return True\n",
    "    else:\n",
    "        return False\n",
    "print(text(\"Abbb\"))\n",
    "print(text(\"abbbbb\"))"
   ]
  },
  {
   "cell_type": "code",
   "execution_count": 48,
   "id": "590b4ce2",
   "metadata": {},
   "outputs": [
    {
     "name": "stdout",
     "output_type": "stream",
     "text": [
      "True\n",
      "False\n"
     ]
    }
   ],
   "source": [
    "#9. \n",
    "import re \n",
    "def text(a):\n",
    "    pat='[a...b]+$'\n",
    "    if re.search(pat,a):\n",
    "        return True\n",
    "    else:\n",
    "        return False\n",
    "print(text(\"acjkb\"))  \n",
    "print(text(\"abddd\"))  \n"
   ]
  },
  {
   "cell_type": "code",
   "execution_count": 64,
   "id": "155407fb",
   "metadata": {},
   "outputs": [
    {
     "name": "stdout",
     "output_type": "stream",
     "text": [
      "True\n",
      "False\n"
     ]
    }
   ],
   "source": [
    "#10. \n",
    "import re \n",
    "def text(a):\n",
    "    pat=r'^\\w+'\n",
    "    if re.search(pat,a):\n",
    "        return True\n",
    "    else:\n",
    "        return False\n",
    "print(text(\"salam\"))\n",
    "print(text(\" 1dunya\"))\n",
    "    \n"
   ]
  },
  {
   "cell_type": "code",
   "execution_count": null,
   "id": "149158a2",
   "metadata": {},
   "outputs": [
    {
     "name": "stdout",
     "output_type": "stream",
     "text": [
      "False\n",
      "False\n"
     ]
    }
   ],
   "source": [
    "#11. \n",
    "def text(a):\n",
    "    pat=r'\\w+$'\n",
    "    if re.search(pat,a):\n",
    "        return True\n",
    "    else:\n",
    "        return False\n",
    "print(text(\"salam\"))\n",
    "print(text(\" 1dunya\"))"
   ]
  },
  {
   "cell_type": "code",
   "execution_count": 79,
   "id": "95beffcb",
   "metadata": {},
   "outputs": [
    {
     "name": "stdout",
     "output_type": "stream",
     "text": [
      "True\n",
      "False\n"
     ]
    }
   ],
   "source": [
    "#12.\n",
    "import re\n",
    "def text(a): \n",
    "    letter=r'\\w*z.\\w*'\n",
    "    if re.search(letter,a):\n",
    "        return True \n",
    "    else: \n",
    "        return False \n",
    "print(text(\"zebra\"))\n",
    "print(text(\"ebra\"))"
   ]
  },
  {
   "cell_type": "code",
   "execution_count": 83,
   "id": "b9b1f383",
   "metadata": {},
   "outputs": [
    {
     "name": "stdout",
     "output_type": "stream",
     "text": [
      "True\n",
      "False\n"
     ]
    }
   ],
   "source": [
    "#13. \n",
    "import re\n",
    "def text(a): \n",
    "    letter=r'\\w*.z\\w*'\n",
    "    if re.search(letter,a):\n",
    "        return True \n",
    "    else: \n",
    "        return False \n",
    "print(text('azza'))\n",
    "print(text(\"zeka\"))"
   ]
  },
  {
   "cell_type": "code",
   "execution_count": 99,
   "id": "e6649f21",
   "metadata": {},
   "outputs": [
    {
     "name": "stdout",
     "output_type": "stream",
     "text": [
      "True\n",
      "False\n"
     ]
    }
   ],
   "source": [
    "#14. \n",
    "import re\n",
    "def text(a): \n",
    "    letter=r'^[a-zA-Z0-9_]*$'\n",
    "    if re.search(letter,a):\n",
    "        return True \n",
    "    else: \n",
    "        return False  \n",
    "print(text(\"salam_1234\"))\n",
    "print(text(\"salam!\"))"
   ]
  },
  {
   "cell_type": "code",
   "execution_count": 105,
   "id": "6ff293a9",
   "metadata": {},
   "outputs": [
    {
     "name": "stdout",
     "output_type": "stream",
     "text": [
      "False\n",
      "True\n"
     ]
    }
   ],
   "source": [
    "#15. \n",
    "import re\n",
    "def text(a): \n",
    "    letter=r'^9'\n",
    "    if re.search(letter,a):\n",
    "        return True \n",
    "    else: \n",
    "        return False \n",
    "print(text(\"5salam\"))\n",
    "print(text(\"9salam\"))"
   ]
  },
  {
   "cell_type": "code",
   "execution_count": 109,
   "id": "8ed9e7d4",
   "metadata": {},
   "outputs": [
    {
     "name": "stdout",
     "output_type": "stream",
     "text": [
      "5163.616..26\n"
     ]
    }
   ],
   "source": [
    "#16. \n",
    "import re\n",
    "ip=\"5163.616.00.26\"\n",
    "x=re.sub(r'\\.[0]*','.',ip)\n",
    "print(x)"
   ]
  },
  {
   "cell_type": "code",
   "execution_count": 114,
   "id": "b6221cf2",
   "metadata": {},
   "outputs": [
    {
     "name": "stdout",
     "output_type": "stream",
     "text": [
      "True\n"
     ]
    }
   ],
   "source": [
    "#17. \n",
    "import re \n",
    "def number(a):\n",
    "    num='[0-9]$'\n",
    "    if re.search(num,a):\n",
    "        return True \n",
    "    else:\n",
    "        return False\n",
    "print(number('salam111'))\n"
   ]
  },
  {
   "cell_type": "code",
   "execution_count": 118,
   "id": "246f762d",
   "metadata": {},
   "outputs": [
    {
     "name": "stdout",
     "output_type": "stream",
     "text": [
      "123\n",
      "156\n",
      "4\n",
      "48\n",
      "99\n",
      "9\n"
     ]
    }
   ],
   "source": [
    "#18. \n",
    "import re \n",
    "r=re.finditer(r'([0-9]{1,3})',\"123,1564,48,99,9\")\n",
    "for i in r:\n",
    "    print(i.group(0))"
   ]
  },
  {
   "cell_type": "code",
   "execution_count": 121,
   "id": "56ccdd3c",
   "metadata": {},
   "outputs": [
    {
     "name": "stdout",
     "output_type": "stream",
     "text": [
      "fox\n",
      "dog\n",
      "False\n"
     ]
    }
   ],
   "source": [
    "#19. \n",
    "import re \n",
    "text='The quick brown fox jumps over the lazy dog.'\n",
    "pattern=['fox', 'dog', 'horse']\n",
    "for i in pattern:\n",
    "    if re.search(r'\\b'+i+r'\\b',text):\n",
    "        print(i)\n",
    "    else:\n",
    "        print(False)"
   ]
  },
  {
   "cell_type": "code",
   "execution_count": null,
   "id": "fc3ae603",
   "metadata": {},
   "outputs": [],
   "source": []
  },
  {
   "cell_type": "code",
   "execution_count": 6,
   "id": "cd7150ef",
   "metadata": {},
   "outputs": [
    {
     "name": "stdout",
     "output_type": "stream",
     "text": [
      "16 19\n"
     ]
    }
   ],
   "source": [
    "#20. \n",
    "import re \n",
    "pat='fox'\n",
    "text='The quick brown fox jumps over the lazy dog'\n",
    "x=re.search(pat,text)\n",
    "s=x.start()\n",
    "e=x.end()\n",
    "print(s,e)"
   ]
  },
  {
   "cell_type": "code",
   "execution_count": 2,
   "id": "f589fc45",
   "metadata": {},
   "outputs": [
    {
     "ename": "PermissionError",
     "evalue": "[WinError 5] Access is denied: 'csv'",
     "output_type": "error",
     "traceback": [
      "\u001b[31m---------------------------------------------------------------------------\u001b[39m",
      "\u001b[31mPermissionError\u001b[39m                           Traceback (most recent call last)",
      "\u001b[36mCell\u001b[39m\u001b[36m \u001b[39m\u001b[32mIn[2]\u001b[39m\u001b[32m, line 2\u001b[39m\n\u001b[32m      1\u001b[39m \u001b[38;5;28;01mimport\u001b[39;00m\u001b[38;5;250m \u001b[39m\u001b[34;01mos\u001b[39;00m \n\u001b[32m----> \u001b[39m\u001b[32m2\u001b[39m \u001b[43mos\u001b[49m\u001b[43m.\u001b[49m\u001b[43mremove\u001b[49m\u001b[43m(\u001b[49m\u001b[33;43m\"\u001b[39;49m\u001b[33;43mcsv\u001b[39;49m\u001b[33;43m\"\u001b[39;49m\u001b[43m)\u001b[49m\n",
      "\u001b[31mPermissionError\u001b[39m: [WinError 5] Access is denied: 'csv'"
     ]
    }
   ],
   "source": [
    "import os \n",
    "os.remove(\"csv\")"
   ]
  },
  {
   "cell_type": "code",
   "execution_count": null,
   "id": "057e677c",
   "metadata": {},
   "outputs": [],
   "source": []
  }
 ],
 "metadata": {
  "kernelspec": {
   "display_name": "Python 3",
   "language": "python",
   "name": "python3"
  },
  "language_info": {
   "codemirror_mode": {
    "name": "ipython",
    "version": 3
   },
   "file_extension": ".py",
   "mimetype": "text/x-python",
   "name": "python",
   "nbconvert_exporter": "python",
   "pygments_lexer": "ipython3",
   "version": "3.13.2"
  }
 },
 "nbformat": 4,
 "nbformat_minor": 5
}
