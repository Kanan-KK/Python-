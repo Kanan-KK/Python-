{
 "cells": [
  {
   "cell_type": "markdown",
   "id": "778e093f",
   "metadata": {},
   "source": [
    "Data Departament"
   ]
  },
  {
   "cell_type": "code",
   "execution_count": 7,
   "id": "af165492",
   "metadata": {},
   "outputs": [
    {
     "data": {
      "text/html": [
       "<div>\n",
       "<style scoped>\n",
       "    .dataframe tbody tr th:only-of-type {\n",
       "        vertical-align: middle;\n",
       "    }\n",
       "\n",
       "    .dataframe tbody tr th {\n",
       "        vertical-align: top;\n",
       "    }\n",
       "\n",
       "    .dataframe thead th {\n",
       "        text-align: right;\n",
       "    }\n",
       "</style>\n",
       "<table border=\"1\" class=\"dataframe\">\n",
       "  <thead>\n",
       "    <tr style=\"text-align: right;\">\n",
       "      <th></th>\n",
       "      <th>Age</th>\n",
       "      <th>Gender</th>\n",
       "      <th>Education Level</th>\n",
       "      <th>Job Title</th>\n",
       "      <th>Years of Experience</th>\n",
       "      <th>Salary</th>\n",
       "    </tr>\n",
       "  </thead>\n",
       "  <tbody>\n",
       "    <tr>\n",
       "      <th>1</th>\n",
       "      <td>28.0</td>\n",
       "      <td>Female</td>\n",
       "      <td>Master's</td>\n",
       "      <td>Data Analyst</td>\n",
       "      <td>3.0</td>\n",
       "      <td>65000.0</td>\n",
       "    </tr>\n",
       "    <tr>\n",
       "      <th>81</th>\n",
       "      <td>41.0</td>\n",
       "      <td>Female</td>\n",
       "      <td>Master's</td>\n",
       "      <td>Data Analyst</td>\n",
       "      <td>13.0</td>\n",
       "      <td>80000.0</td>\n",
       "    </tr>\n",
       "    <tr>\n",
       "      <th>378</th>\n",
       "      <td>27.0</td>\n",
       "      <td>Female</td>\n",
       "      <td>Bachelor's</td>\n",
       "      <td>Data Analyst</td>\n",
       "      <td>2.0</td>\n",
       "      <td>110000.0</td>\n",
       "    </tr>\n",
       "    <tr>\n",
       "      <th>382</th>\n",
       "      <td>25.0</td>\n",
       "      <td>Female</td>\n",
       "      <td>Master's</td>\n",
       "      <td>Data Analyst</td>\n",
       "      <td>1.0</td>\n",
       "      <td>100000.0</td>\n",
       "    </tr>\n",
       "    <tr>\n",
       "      <th>386</th>\n",
       "      <td>30.0</td>\n",
       "      <td>Female</td>\n",
       "      <td>Bachelor's</td>\n",
       "      <td>Data Analyst</td>\n",
       "      <td>5.0</td>\n",
       "      <td>145000.0</td>\n",
       "    </tr>\n",
       "    <tr>\n",
       "      <th>...</th>\n",
       "      <td>...</td>\n",
       "      <td>...</td>\n",
       "      <td>...</td>\n",
       "      <td>...</td>\n",
       "      <td>...</td>\n",
       "      <td>...</td>\n",
       "    </tr>\n",
       "    <tr>\n",
       "      <th>3360</th>\n",
       "      <td>34.0</td>\n",
       "      <td>Male</td>\n",
       "      <td>Master's Degree</td>\n",
       "      <td>Data Analyst</td>\n",
       "      <td>8.0</td>\n",
       "      <td>100000.0</td>\n",
       "    </tr>\n",
       "    <tr>\n",
       "      <th>3367</th>\n",
       "      <td>35.0</td>\n",
       "      <td>Female</td>\n",
       "      <td>Master's Degree</td>\n",
       "      <td>Data Analyst</td>\n",
       "      <td>9.0</td>\n",
       "      <td>120000.0</td>\n",
       "    </tr>\n",
       "    <tr>\n",
       "      <th>3374</th>\n",
       "      <td>37.0</td>\n",
       "      <td>Male</td>\n",
       "      <td>Bachelor's Degree</td>\n",
       "      <td>Data Analyst</td>\n",
       "      <td>11.0</td>\n",
       "      <td>160000.0</td>\n",
       "    </tr>\n",
       "    <tr>\n",
       "      <th>3377</th>\n",
       "      <td>34.0</td>\n",
       "      <td>Male</td>\n",
       "      <td>Master's Degree</td>\n",
       "      <td>Data Analyst</td>\n",
       "      <td>8.0</td>\n",
       "      <td>100000.0</td>\n",
       "    </tr>\n",
       "    <tr>\n",
       "      <th>3384</th>\n",
       "      <td>35.0</td>\n",
       "      <td>Female</td>\n",
       "      <td>Master's Degree</td>\n",
       "      <td>Data Analyst</td>\n",
       "      <td>9.0</td>\n",
       "      <td>120000.0</td>\n",
       "    </tr>\n",
       "  </tbody>\n",
       "</table>\n",
       "<p>363 rows × 6 columns</p>\n",
       "</div>"
      ],
      "text/plain": [
       "       Age  Gender    Education Level     Job Title  Years of Experience  \\\n",
       "1     28.0  Female           Master's  Data Analyst                  3.0   \n",
       "81    41.0  Female           Master's  Data Analyst                 13.0   \n",
       "378   27.0  Female         Bachelor's  Data Analyst                  2.0   \n",
       "382   25.0  Female           Master's  Data Analyst                  1.0   \n",
       "386   30.0  Female         Bachelor's  Data Analyst                  5.0   \n",
       "...    ...     ...                ...           ...                  ...   \n",
       "3360  34.0    Male    Master's Degree  Data Analyst                  8.0   \n",
       "3367  35.0  Female    Master's Degree  Data Analyst                  9.0   \n",
       "3374  37.0    Male  Bachelor's Degree  Data Analyst                 11.0   \n",
       "3377  34.0    Male    Master's Degree  Data Analyst                  8.0   \n",
       "3384  35.0  Female    Master's Degree  Data Analyst                  9.0   \n",
       "\n",
       "        Salary  \n",
       "1      65000.0  \n",
       "81     80000.0  \n",
       "378   110000.0  \n",
       "382   100000.0  \n",
       "386   145000.0  \n",
       "...        ...  \n",
       "3360  100000.0  \n",
       "3367  120000.0  \n",
       "3374  160000.0  \n",
       "3377  100000.0  \n",
       "3384  120000.0  \n",
       "\n",
       "[363 rows x 6 columns]"
      ]
     },
     "execution_count": 7,
     "metadata": {},
     "output_type": "execute_result"
    }
   ],
   "source": [
    "import pandas as pd \n",
    "data=pd.read_csv('Salary_Data.csv')\n",
    "df=pd.DataFrame(data)\n",
    "data_analytics=df['Job Title']=='Data Analyst' \n",
    "df[data_analytics]"
   ]
  },
  {
   "cell_type": "markdown",
   "id": "31bd1042",
   "metadata": {},
   "source": [
    "Table Info "
   ]
  },
  {
   "cell_type": "code",
   "execution_count": 8,
   "id": "759f6a3f",
   "metadata": {},
   "outputs": [
    {
     "name": "stdout",
     "output_type": "stream",
     "text": [
      "<class 'pandas.core.frame.DataFrame'>\n",
      "Index: 363 entries, 1 to 3384\n",
      "Data columns (total 6 columns):\n",
      " #   Column               Non-Null Count  Dtype  \n",
      "---  ------               --------------  -----  \n",
      " 0   Age                  363 non-null    float64\n",
      " 1   Gender               363 non-null    object \n",
      " 2   Education Level      363 non-null    object \n",
      " 3   Job Title            363 non-null    object \n",
      " 4   Years of Experience  363 non-null    float64\n",
      " 5   Salary               363 non-null    float64\n",
      "dtypes: float64(3), object(3)\n",
      "memory usage: 19.9+ KB\n"
     ]
    }
   ],
   "source": [
    "df[data_analytics].info()"
   ]
  },
  {
   "cell_type": "markdown",
   "id": "ffae0ea6",
   "metadata": {},
   "source": [
    "The Highest Salary"
   ]
  },
  {
   "cell_type": "code",
   "execution_count": 9,
   "id": "86530552",
   "metadata": {},
   "outputs": [
    {
     "data": {
      "text/html": [
       "<div>\n",
       "<style scoped>\n",
       "    .dataframe tbody tr th:only-of-type {\n",
       "        vertical-align: middle;\n",
       "    }\n",
       "\n",
       "    .dataframe tbody tr th {\n",
       "        vertical-align: top;\n",
       "    }\n",
       "\n",
       "    .dataframe thead th {\n",
       "        text-align: right;\n",
       "    }\n",
       "</style>\n",
       "<table border=\"1\" class=\"dataframe\">\n",
       "  <thead>\n",
       "    <tr style=\"text-align: right;\">\n",
       "      <th></th>\n",
       "      <th>Age</th>\n",
       "      <th>Gender</th>\n",
       "      <th>Education Level</th>\n",
       "      <th>Job Title</th>\n",
       "      <th>Years of Experience</th>\n",
       "      <th>Salary</th>\n",
       "    </tr>\n",
       "  </thead>\n",
       "  <tbody>\n",
       "    <tr>\n",
       "      <th>624</th>\n",
       "      <td>31.0</td>\n",
       "      <td>Male</td>\n",
       "      <td>Bachelor's</td>\n",
       "      <td>Data Analyst</td>\n",
       "      <td>9.0</td>\n",
       "      <td>195000.0</td>\n",
       "    </tr>\n",
       "    <tr>\n",
       "      <th>658</th>\n",
       "      <td>31.0</td>\n",
       "      <td>Male</td>\n",
       "      <td>Bachelor's</td>\n",
       "      <td>Data Analyst</td>\n",
       "      <td>9.0</td>\n",
       "      <td>195000.0</td>\n",
       "    </tr>\n",
       "    <tr>\n",
       "      <th>558</th>\n",
       "      <td>31.0</td>\n",
       "      <td>Male</td>\n",
       "      <td>Bachelor's</td>\n",
       "      <td>Data Analyst</td>\n",
       "      <td>9.0</td>\n",
       "      <td>195000.0</td>\n",
       "    </tr>\n",
       "    <tr>\n",
       "      <th>534</th>\n",
       "      <td>31.0</td>\n",
       "      <td>Male</td>\n",
       "      <td>Bachelor's</td>\n",
       "      <td>Data Analyst</td>\n",
       "      <td>9.0</td>\n",
       "      <td>195000.0</td>\n",
       "    </tr>\n",
       "    <tr>\n",
       "      <th>648</th>\n",
       "      <td>31.0</td>\n",
       "      <td>Male</td>\n",
       "      <td>Bachelor's</td>\n",
       "      <td>Data Analyst</td>\n",
       "      <td>9.0</td>\n",
       "      <td>195000.0</td>\n",
       "    </tr>\n",
       "    <tr>\n",
       "      <th>...</th>\n",
       "      <td>...</td>\n",
       "      <td>...</td>\n",
       "      <td>...</td>\n",
       "      <td>...</td>\n",
       "      <td>...</td>\n",
       "      <td>...</td>\n",
       "    </tr>\n",
       "    <tr>\n",
       "      <th>526</th>\n",
       "      <td>24.0</td>\n",
       "      <td>Male</td>\n",
       "      <td>Bachelor's</td>\n",
       "      <td>Data Analyst</td>\n",
       "      <td>1.0</td>\n",
       "      <td>90000.0</td>\n",
       "    </tr>\n",
       "    <tr>\n",
       "      <th>546</th>\n",
       "      <td>24.0</td>\n",
       "      <td>Male</td>\n",
       "      <td>Bachelor's</td>\n",
       "      <td>Data Analyst</td>\n",
       "      <td>1.0</td>\n",
       "      <td>90000.0</td>\n",
       "    </tr>\n",
       "    <tr>\n",
       "      <th>510</th>\n",
       "      <td>24.0</td>\n",
       "      <td>Male</td>\n",
       "      <td>Bachelor's</td>\n",
       "      <td>Data Analyst</td>\n",
       "      <td>1.0</td>\n",
       "      <td>90000.0</td>\n",
       "    </tr>\n",
       "    <tr>\n",
       "      <th>81</th>\n",
       "      <td>41.0</td>\n",
       "      <td>Female</td>\n",
       "      <td>Master's</td>\n",
       "      <td>Data Analyst</td>\n",
       "      <td>13.0</td>\n",
       "      <td>80000.0</td>\n",
       "    </tr>\n",
       "    <tr>\n",
       "      <th>1</th>\n",
       "      <td>28.0</td>\n",
       "      <td>Female</td>\n",
       "      <td>Master's</td>\n",
       "      <td>Data Analyst</td>\n",
       "      <td>3.0</td>\n",
       "      <td>65000.0</td>\n",
       "    </tr>\n",
       "  </tbody>\n",
       "</table>\n",
       "<p>363 rows × 6 columns</p>\n",
       "</div>"
      ],
      "text/plain": [
       "      Age  Gender Education Level     Job Title  Years of Experience    Salary\n",
       "624  31.0    Male      Bachelor's  Data Analyst                  9.0  195000.0\n",
       "658  31.0    Male      Bachelor's  Data Analyst                  9.0  195000.0\n",
       "558  31.0    Male      Bachelor's  Data Analyst                  9.0  195000.0\n",
       "534  31.0    Male      Bachelor's  Data Analyst                  9.0  195000.0\n",
       "648  31.0    Male      Bachelor's  Data Analyst                  9.0  195000.0\n",
       "..    ...     ...             ...           ...                  ...       ...\n",
       "526  24.0    Male      Bachelor's  Data Analyst                  1.0   90000.0\n",
       "546  24.0    Male      Bachelor's  Data Analyst                  1.0   90000.0\n",
       "510  24.0    Male      Bachelor's  Data Analyst                  1.0   90000.0\n",
       "81   41.0  Female        Master's  Data Analyst                 13.0   80000.0\n",
       "1    28.0  Female        Master's  Data Analyst                  3.0   65000.0\n",
       "\n",
       "[363 rows x 6 columns]"
      ]
     },
     "execution_count": 9,
     "metadata": {},
     "output_type": "execute_result"
    }
   ],
   "source": [
    "df[data_analytics].sort_values('Salary',ascending=False)"
   ]
  },
  {
   "cell_type": "markdown",
   "id": "36072048",
   "metadata": {},
   "source": [
    "Average Salary"
   ]
  },
  {
   "cell_type": "code",
   "execution_count": null,
   "id": "06270172",
   "metadata": {},
   "outputs": [
    {
     "data": {
      "text/plain": [
       "np.float64(125090.90909090909)"
      ]
     },
     "execution_count": 13,
     "metadata": {},
     "output_type": "execute_result"
    }
   ],
   "source": [
    "df[data_analytics]['Salary'].mean()\n",
    "#125000"
   ]
  },
  {
   "cell_type": "markdown",
   "id": "053a65cc",
   "metadata": {},
   "source": [
    "Payed Salary For Data Department"
   ]
  },
  {
   "cell_type": "code",
   "execution_count": null,
   "id": "c64da605",
   "metadata": {},
   "outputs": [
    {
     "data": {
      "text/plain": [
       "np.float64(45408000.0)"
      ]
     },
     "execution_count": 16,
     "metadata": {},
     "output_type": "execute_result"
    }
   ],
   "source": [
    "df[data_analytics]['Salary'].sum()\n",
    "#Payed 4.500.000\n"
   ]
  },
  {
   "cell_type": "markdown",
   "id": "a6679696",
   "metadata": {},
   "source": [
    "The age is the lowest, the salary is the highest."
   ]
  },
  {
   "cell_type": "code",
   "execution_count": 18,
   "id": "817d2d37",
   "metadata": {},
   "outputs": [
    {
     "data": {
      "text/plain": [
       "Age                            23.0\n",
       "Gender                         Male\n",
       "Education Level          Bachelor's\n",
       "Job Title              Data Analyst\n",
       "Years of Experience             1.0\n",
       "Salary                      95000.0\n",
       "Name: 518, dtype: object"
      ]
     },
     "execution_count": 18,
     "metadata": {},
     "output_type": "execute_result"
    }
   ],
   "source": [
    "df[data_analytics].sort_values(['Age','Salary'],ascending=[True,False]).iloc[0]"
   ]
  },
  {
   "cell_type": "markdown",
   "id": "de9b57c8",
   "metadata": {},
   "source": [
    "Average Age\n"
   ]
  },
  {
   "cell_type": "code",
   "execution_count": 32,
   "id": "2a270127",
   "metadata": {},
   "outputs": [
    {
     "data": {
      "text/plain": [
       "np.float64(28.68595041322314)"
      ]
     },
     "execution_count": 32,
     "metadata": {},
     "output_type": "execute_result"
    }
   ],
   "source": [
    "df[data_analytics]['Age'].mean()"
   ]
  },
  {
   "cell_type": "markdown",
   "id": "4683a69c",
   "metadata": {},
   "source": [
    "The Most Experiencest Employee\n"
   ]
  },
  {
   "cell_type": "code",
   "execution_count": null,
   "id": "20808ec0",
   "metadata": {},
   "outputs": [
    {
     "data": {
      "text/html": [
       "<div>\n",
       "<style scoped>\n",
       "    .dataframe tbody tr th:only-of-type {\n",
       "        vertical-align: middle;\n",
       "    }\n",
       "\n",
       "    .dataframe tbody tr th {\n",
       "        vertical-align: top;\n",
       "    }\n",
       "\n",
       "    .dataframe thead th {\n",
       "        text-align: right;\n",
       "    }\n",
       "</style>\n",
       "<table border=\"1\" class=\"dataframe\">\n",
       "  <thead>\n",
       "    <tr style=\"text-align: right;\">\n",
       "      <th></th>\n",
       "      <th>Age</th>\n",
       "      <th>Gender</th>\n",
       "      <th>Education Level</th>\n",
       "      <th>Job Title</th>\n",
       "      <th>Years of Experience</th>\n",
       "      <th>Salary</th>\n",
       "    </tr>\n",
       "  </thead>\n",
       "  <tbody>\n",
       "    <tr>\n",
       "      <th>81</th>\n",
       "      <td>41.0</td>\n",
       "      <td>Female</td>\n",
       "      <td>Master's</td>\n",
       "      <td>Data Analyst</td>\n",
       "      <td>13.0</td>\n",
       "      <td>80000.0</td>\n",
       "    </tr>\n",
       "    <tr>\n",
       "      <th>2275</th>\n",
       "      <td>37.0</td>\n",
       "      <td>Male</td>\n",
       "      <td>Bachelor's Degree</td>\n",
       "      <td>Data Analyst</td>\n",
       "      <td>11.0</td>\n",
       "      <td>160000.0</td>\n",
       "    </tr>\n",
       "    <tr>\n",
       "      <th>2292</th>\n",
       "      <td>37.0</td>\n",
       "      <td>Male</td>\n",
       "      <td>Bachelor's Degree</td>\n",
       "      <td>Data Analyst</td>\n",
       "      <td>11.0</td>\n",
       "      <td>160000.0</td>\n",
       "    </tr>\n",
       "    <tr>\n",
       "      <th>2309</th>\n",
       "      <td>37.0</td>\n",
       "      <td>Male</td>\n",
       "      <td>Bachelor's Degree</td>\n",
       "      <td>Data Analyst</td>\n",
       "      <td>11.0</td>\n",
       "      <td>160000.0</td>\n",
       "    </tr>\n",
       "    <tr>\n",
       "      <th>2326</th>\n",
       "      <td>37.0</td>\n",
       "      <td>Male</td>\n",
       "      <td>Bachelor's Degree</td>\n",
       "      <td>Data Analyst</td>\n",
       "      <td>11.0</td>\n",
       "      <td>160000.0</td>\n",
       "    </tr>\n",
       "    <tr>\n",
       "      <th>...</th>\n",
       "      <td>...</td>\n",
       "      <td>...</td>\n",
       "      <td>...</td>\n",
       "      <td>...</td>\n",
       "      <td>...</td>\n",
       "      <td>...</td>\n",
       "    </tr>\n",
       "    <tr>\n",
       "      <th>466</th>\n",
       "      <td>25.0</td>\n",
       "      <td>Female</td>\n",
       "      <td>Master's</td>\n",
       "      <td>Data Analyst</td>\n",
       "      <td>1.0</td>\n",
       "      <td>100000.0</td>\n",
       "    </tr>\n",
       "    <tr>\n",
       "      <th>474</th>\n",
       "      <td>25.0</td>\n",
       "      <td>Female</td>\n",
       "      <td>Master's</td>\n",
       "      <td>Data Analyst</td>\n",
       "      <td>1.0</td>\n",
       "      <td>100000.0</td>\n",
       "    </tr>\n",
       "    <tr>\n",
       "      <th>482</th>\n",
       "      <td>25.0</td>\n",
       "      <td>Female</td>\n",
       "      <td>Master's</td>\n",
       "      <td>Data Analyst</td>\n",
       "      <td>1.0</td>\n",
       "      <td>100000.0</td>\n",
       "    </tr>\n",
       "    <tr>\n",
       "      <th>490</th>\n",
       "      <td>25.0</td>\n",
       "      <td>Female</td>\n",
       "      <td>Master's</td>\n",
       "      <td>Data Analyst</td>\n",
       "      <td>1.0</td>\n",
       "      <td>100000.0</td>\n",
       "    </tr>\n",
       "    <tr>\n",
       "      <th>498</th>\n",
       "      <td>25.0</td>\n",
       "      <td>Female</td>\n",
       "      <td>Master's</td>\n",
       "      <td>Data Analyst</td>\n",
       "      <td>1.0</td>\n",
       "      <td>100000.0</td>\n",
       "    </tr>\n",
       "  </tbody>\n",
       "</table>\n",
       "<p>363 rows × 6 columns</p>\n",
       "</div>"
      ],
      "text/plain": [
       "       Age  Gender    Education Level     Job Title  Years of Experience  \\\n",
       "81    41.0  Female           Master's  Data Analyst                 13.0   \n",
       "2275  37.0    Male  Bachelor's Degree  Data Analyst                 11.0   \n",
       "2292  37.0    Male  Bachelor's Degree  Data Analyst                 11.0   \n",
       "2309  37.0    Male  Bachelor's Degree  Data Analyst                 11.0   \n",
       "2326  37.0    Male  Bachelor's Degree  Data Analyst                 11.0   \n",
       "...    ...     ...                ...           ...                  ...   \n",
       "466   25.0  Female           Master's  Data Analyst                  1.0   \n",
       "474   25.0  Female           Master's  Data Analyst                  1.0   \n",
       "482   25.0  Female           Master's  Data Analyst                  1.0   \n",
       "490   25.0  Female           Master's  Data Analyst                  1.0   \n",
       "498   25.0  Female           Master's  Data Analyst                  1.0   \n",
       "\n",
       "        Salary  \n",
       "81     80000.0  \n",
       "2275  160000.0  \n",
       "2292  160000.0  \n",
       "2309  160000.0  \n",
       "2326  160000.0  \n",
       "...        ...  \n",
       "466   100000.0  \n",
       "474   100000.0  \n",
       "482   100000.0  \n",
       "490   100000.0  \n",
       "498   100000.0  \n",
       "\n",
       "[363 rows x 6 columns]"
      ]
     },
     "execution_count": 35,
     "metadata": {},
     "output_type": "execute_result"
    }
   ],
   "source": [
    "df[data_analytics].sort_values(['Years of Experience','Age'],ascending=[False,True])\n"
   ]
  },
  {
   "cell_type": "markdown",
   "id": "84c76331",
   "metadata": {},
   "source": [
    "Over Each Education Level Employee Count"
   ]
  },
  {
   "cell_type": "code",
   "execution_count": 78,
   "id": "06ab0e47",
   "metadata": {},
   "outputs": [
    {
     "name": "stdout",
     "output_type": "stream",
     "text": [
      "Education Level\n",
      "Bachelor's           259\n",
      "Master's Degree       59\n",
      "Bachelor's Degree     28\n",
      "Master's              17\n",
      "Name: count, dtype: int64\n"
     ]
    }
   ],
   "source": [
    "emp_cnt_group=df[data_analytics]['Education Level'].value_counts()\n",
    "print(emp_cnt_group)"
   ]
  },
  {
   "cell_type": "code",
   "execution_count": 85,
   "id": "e394f396",
   "metadata": {},
   "outputs": [
    {
     "data": {
      "text/plain": [
       "<Axes: ylabel='Education Level'>"
      ]
     },
     "execution_count": 85,
     "metadata": {},
     "output_type": "execute_result"
    },
    {
     "data": {
      "image/png": "[encoded data removed]",
      "text/plain": [
       "<Figure size 640x480 with 1 Axes>"
      ]
     },
     "metadata": {},
     "output_type": "display_data"
    }
   ],
   "source": [
    "emp_cnt_group.plot(kind='barh')"
   ]
  },
  {
   "cell_type": "markdown",
   "id": "b56bce35",
   "metadata": {},
   "source": [
    "Gender Count "
   ]
  },
  {
   "cell_type": "code",
   "execution_count": 51,
   "id": "b944f894",
   "metadata": {},
   "outputs": [
    {
     "name": "stdout",
     "output_type": "stream",
     "text": [
      "Gender\n",
      "Male      234\n",
      "Female    129\n",
      "Name: count, dtype: int64\n"
     ]
    }
   ],
   "source": [
    "gender_count=df[data_analytics]['Gender'].value_counts()\n",
    "print(gender_count)"
   ]
  },
  {
   "cell_type": "code",
   "execution_count": 69,
   "id": "a0997744",
   "metadata": {},
   "outputs": [
    {
     "data": {
      "text/plain": [
       "<Axes: ylabel='count'>"
      ]
     },
     "execution_count": 69,
     "metadata": {},
     "output_type": "execute_result"
    },
    {
     "data": {
      "image/png": "[encoded data removed]",
      "text/plain": [
       "<Figure size 600x600 with 1 Axes>"
      ]
     },
     "metadata": {},
     "output_type": "display_data"
    }
   ],
   "source": [
    "gender_count.plot(kind='pie', autopct='%1.1f%%', figsize=(6, 6), startangle=90)\n"
   ]
  },
  {
   "cell_type": "markdown",
   "id": "8140074d",
   "metadata": {},
   "source": [
    "Average Salary over Each Education Level"
   ]
  },
  {
   "cell_type": "code",
   "execution_count": 46,
   "id": "efe36774",
   "metadata": {},
   "outputs": [
    {
     "name": "stdout",
     "output_type": "stream",
     "text": [
      "Education Level\n",
      "Bachelor's           126714.285714\n",
      "Bachelor's Degree    158178.571429\n",
      "Master's              99705.882353\n",
      "Master's Degree      109576.271186\n",
      "Name: Salary, dtype: float64\n"
     ]
    }
   ],
   "source": [
    "avg_sal_ed_lv=df[data_analytics].groupby('Education Level')['Salary'].mean()\n",
    "print(avg_sal_ed_lv)"
   ]
  },
  {
   "cell_type": "code",
   "execution_count": 50,
   "id": "0dba40f2",
   "metadata": {},
   "outputs": [
    {
     "data": {
      "text/plain": [
       "<Axes: xlabel='Education Level'>"
      ]
     },
     "execution_count": 50,
     "metadata": {},
     "output_type": "execute_result"
    },
    {
     "data": {
      "image/png": "[encoded data removed]",
      "text/plain": [
       "<Figure size 640x480 with 1 Axes>"
      ]
     },
     "metadata": {},
     "output_type": "display_data"
    }
   ],
   "source": [
    "avg_sal_ed_lv.plot(x='Education Level',y='Salary',kind='bar')"
   ]
  },
  {
   "cell_type": "code",
   "execution_count": null,
   "id": "600a197a",
   "metadata": {},
   "outputs": [],
   "source": []
  }
 ],
 "metadata": {
  "kernelspec": {
   "display_name": "Python 3",
   "language": "python",
   "name": "python3"
  },
  "language_info": {
   "codemirror_mode": {
    "name": "ipython",
    "version": 3
   },
   "file_extension": ".py",
   "mimetype": "text/x-python",
   "name": "python",
   "nbconvert_exporter": "python",
   "pygments_lexer": "ipython3",
   "version": "3.13.2"
  }
 },
 "nbformat": 4,
 "nbformat_minor": 5
}
