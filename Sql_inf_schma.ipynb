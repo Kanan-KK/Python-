{
 "cells": [
  {
   "cell_type": "code",
   "execution_count": 2,
   "id": "7ba17411",
   "metadata": {},
   "outputs": [],
   "source": [
    "import os \n",
    "def schema_info(schema_name):\n",
    "    folder_path=(r\"C:\\Users\\Asus\\OneDrive\\Desktop\\my_python\\Data-PYTHON\\my_py_files\\Sqlqueries\")\n",
    "    try:\n",
    "        if not os.path.exists(folder_path):\n",
    "            os.makedirs(folder_path)\n",
    "            print(\"Folder Created Succesfuly!\")\n",
    "        else:\n",
    "            print(f\"Folder Already Exists:{folder_path}\")\n",
    "        file_name=(f\"{schema_name}.sql\")\n",
    "        file_path=os.path.join(folder_path,file_name)\n",
    "        if  os.path.exists(file_path):\n",
    "            raise FileExistsError(\"File Already Exists\")\n",
    "        with open(file_path,\"w\") as f1:\n",
    "            f1.write(f\"\"\"--{schema_name})\n",
    "SELECT \n",
    "    t.TABLE_SCHEMA,\n",
    "    t.TABLE_NAME,\n",
    "    c.COLUMN_NAME,\n",
    "    c.DATA_TYPE,\n",
    "    c.CHARACTER_MAXIMUM_LENGTH,\n",
    "    c.IS_NULLABLE\n",
    "FROM \n",
    "    INFORMATION_SCHEMA.TABLES t\n",
    "INNER JOIN \n",
    "    INFORMATION_SCHEMA.COLUMNS c\n",
    "    ON t.TABLE_NAME = c.TABLE_NAME\n",
    "    AND t.TABLE_SCHEMA = c.TABLE_SCHEMA\n",
    "WHERE \n",
    "    t.TABLE_SCHEMA = '{schema_name}'\"\"\")    \n",
    "            print(f\"{schema_name} Sql file Created Succesfuly!\")             \n",
    "    except Exception as e:\n",
    "         print(e)\n"
   ]
  },
  {
   "cell_type": "code",
   "execution_count": 3,
   "id": "a67ef7b7",
   "metadata": {},
   "outputs": [
    {
     "name": "stdout",
     "output_type": "stream",
     "text": [
      "Folder Already Exists:C:\\Users\\Asus\\OneDrive\\Desktop\\my_python\\Data-PYTHON\\my_py_files\\Sqlqueries\n",
      "person Sql file Created Succesfuly!\n",
      "None\n"
     ]
    }
   ],
   "source": [
    "\n",
    "print(schema_info(\"person\"))"
   ]
  },
  {
   "cell_type": "code",
   "execution_count": null,
   "id": "44e2886d",
   "metadata": {},
   "outputs": [],
   "source": []
  }
 ],
 "metadata": {
  "kernelspec": {
   "display_name": "Python 3",
   "language": "python",
   "name": "python3"
  },
  "language_info": {
   "codemirror_mode": {
    "name": "ipython",
    "version": 3
   },
   "file_extension": ".py",
   "mimetype": "text/x-python",
   "name": "python",
   "nbconvert_exporter": "python",
   "pygments_lexer": "ipython3",
   "version": "3.13.2"
  }
 },
 "nbformat": 4,
 "nbformat_minor": 5
}
